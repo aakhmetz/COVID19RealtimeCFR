{
 "cells": [
  {
   "cell_type": "code",
   "execution_count": 37,
   "metadata": {},
   "outputs": [
    {
     "data": {
      "text/plain": [
       "[1] ‘2.19.2’"
      ]
     },
     "metadata": {},
     "output_type": "display_data"
    },
    {
     "data": {
      "text/plain": [
       "[1] ‘2.21.0.1’"
      ]
     },
     "metadata": {},
     "output_type": "display_data"
    },
    {
     "data": {
      "text/html": [
       "'2.19.1'"
      ],
      "text/latex": [
       "'2.19.1'"
      ],
      "text/markdown": [
       "'2.19.1'"
      ],
      "text/plain": [
       "[1] \"2.19.1\""
      ]
     },
     "metadata": {},
     "output_type": "display_data"
    }
   ],
   "source": [
    "libraries = c(\"dplyr\",\"magrittr\",\"tidyr\",\"ggplot2\",\"rstan\",\"readxl\")\n",
    "for(x in libraries) { library(x,character.only=TRUE,warn.conflicts=FALSE,quietly=TRUE) }\n",
    "\n",
    "require(zoo)\n",
    "require(lubridate)\n",
    "\n",
    "base_sz = 12 # base_size parameter\n",
    "theme_set(theme_bw())\n",
    "\n",
    "'%&%' = function(x,y) paste0(x,y)\n",
    "\n",
    "options(mc.cores = parallel::detectCores())\n",
    "rstan_options(auto_write = TRUE)\n",
    "\n",
    "packageVersion(\"rstan\")\n",
    "packageVersion(\"StanHeaders\")\n",
    "rstan::stan_version()"
   ]
  },
  {
   "cell_type": "markdown",
   "metadata": {},
   "source": [
    "# <font color=\"purple\">Preprocessing of the data</font>"
   ]
  },
  {
   "cell_type": "code",
   "execution_count": 38,
   "metadata": {},
   "outputs": [],
   "source": [
    "# datafilename = \"../../data/wuhan_data_master_20200125_6pm.xlsx\"\n",
    "datafilename = \"../../../Hokkaido_Wuhan Data 2020/wuhan_data_master.xlsx\""
   ]
  },
  {
   "cell_type": "code",
   "execution_count": 39,
   "metadata": {},
   "outputs": [
    {
     "data": {
      "text/html": [
       "<style>\n",
       ".list-inline {list-style: none; margin:0; padding: 0}\n",
       ".list-inline>li {display: inline-block}\n",
       ".list-inline>li:not(:last-child)::after {content: \"\\00b7\"; padding: 0 .5ex}\n",
       "</style>\n",
       "<ol class=list-inline><li>'ID'</li><li>'DeathID'</li><li>'Age'</li><li>'AgeDecade'</li><li>'Sex'</li><li>'InWuhan2WeeksBeforeOnset'</li><li>'ExposureL'</li><li>'ExposureR'</li><li>'ExposureType'</li><li>'Onset'</li><li>'DateCaseFirstSoughtHealthcare'</li><li>'DateHospIsolated'</li><li>'HospOrIsol'</li><li>'DateOfDeath'</li><li>'DateDischarged'</li><li>'DateReportedConfirmed'</li><li>'ResidenceCity'</li><li>'ResidenceProvince'</li><li>'OfficialResidenceCity'</li><li>'OfficialResidenceProvince'</li><li>'ResidenceCountry'</li><li>'Nationality'</li><li>'DiagnosisCity'</li><li>'DiagnosisProvince'</li><li>'DiagnosisCountry'</li><li>'LocalCaseNum'</li><li>'Pneumonia'</li><li>'WuhanFreshMarket'</li><li>'WuhanSCSCVisit'</li><li>'DateSpecColl'</li><li>'LabPosDate'</li><li>'CaseClass'</li><li>'Evacuaee'</li><li>'CruiseShip'</li><li>'URL'</li><li>'Note'</li></ol>\n"
      ],
      "text/latex": [
       "\\begin{enumerate*}\n",
       "\\item 'ID'\n",
       "\\item 'DeathID'\n",
       "\\item 'Age'\n",
       "\\item 'AgeDecade'\n",
       "\\item 'Sex'\n",
       "\\item 'InWuhan2WeeksBeforeOnset'\n",
       "\\item 'ExposureL'\n",
       "\\item 'ExposureR'\n",
       "\\item 'ExposureType'\n",
       "\\item 'Onset'\n",
       "\\item 'DateCaseFirstSoughtHealthcare'\n",
       "\\item 'DateHospIsolated'\n",
       "\\item 'HospOrIsol'\n",
       "\\item 'DateOfDeath'\n",
       "\\item 'DateDischarged'\n",
       "\\item 'DateReportedConfirmed'\n",
       "\\item 'ResidenceCity'\n",
       "\\item 'ResidenceProvince'\n",
       "\\item 'OfficialResidenceCity'\n",
       "\\item 'OfficialResidenceProvince'\n",
       "\\item 'ResidenceCountry'\n",
       "\\item 'Nationality'\n",
       "\\item 'DiagnosisCity'\n",
       "\\item 'DiagnosisProvince'\n",
       "\\item 'DiagnosisCountry'\n",
       "\\item 'LocalCaseNum'\n",
       "\\item 'Pneumonia'\n",
       "\\item 'WuhanFreshMarket'\n",
       "\\item 'WuhanSCSCVisit'\n",
       "\\item 'DateSpecColl'\n",
       "\\item 'LabPosDate'\n",
       "\\item 'CaseClass'\n",
       "\\item 'Evacuaee'\n",
       "\\item 'CruiseShip'\n",
       "\\item 'URL'\n",
       "\\item 'Note'\n",
       "\\end{enumerate*}\n"
      ],
      "text/markdown": [
       "1. 'ID'\n",
       "2. 'DeathID'\n",
       "3. 'Age'\n",
       "4. 'AgeDecade'\n",
       "5. 'Sex'\n",
       "6. 'InWuhan2WeeksBeforeOnset'\n",
       "7. 'ExposureL'\n",
       "8. 'ExposureR'\n",
       "9. 'ExposureType'\n",
       "10. 'Onset'\n",
       "11. 'DateCaseFirstSoughtHealthcare'\n",
       "12. 'DateHospIsolated'\n",
       "13. 'HospOrIsol'\n",
       "14. 'DateOfDeath'\n",
       "15. 'DateDischarged'\n",
       "16. 'DateReportedConfirmed'\n",
       "17. 'ResidenceCity'\n",
       "18. 'ResidenceProvince'\n",
       "19. 'OfficialResidenceCity'\n",
       "20. 'OfficialResidenceProvince'\n",
       "21. 'ResidenceCountry'\n",
       "22. 'Nationality'\n",
       "23. 'DiagnosisCity'\n",
       "24. 'DiagnosisProvince'\n",
       "25. 'DiagnosisCountry'\n",
       "26. 'LocalCaseNum'\n",
       "27. 'Pneumonia'\n",
       "28. 'WuhanFreshMarket'\n",
       "29. 'WuhanSCSCVisit'\n",
       "30. 'DateSpecColl'\n",
       "31. 'LabPosDate'\n",
       "32. 'CaseClass'\n",
       "33. 'Evacuaee'\n",
       "34. 'CruiseShip'\n",
       "35. 'URL'\n",
       "36. 'Note'\n",
       "\n",
       "\n"
      ],
      "text/plain": [
       " [1] \"ID\"                            \"DeathID\"                      \n",
       " [3] \"Age\"                           \"AgeDecade\"                    \n",
       " [5] \"Sex\"                           \"InWuhan2WeeksBeforeOnset\"     \n",
       " [7] \"ExposureL\"                     \"ExposureR\"                    \n",
       " [9] \"ExposureType\"                  \"Onset\"                        \n",
       "[11] \"DateCaseFirstSoughtHealthcare\" \"DateHospIsolated\"             \n",
       "[13] \"HospOrIsol\"                    \"DateOfDeath\"                  \n",
       "[15] \"DateDischarged\"                \"DateReportedConfirmed\"        \n",
       "[17] \"ResidenceCity\"                 \"ResidenceProvince\"            \n",
       "[19] \"OfficialResidenceCity\"         \"OfficialResidenceProvince\"    \n",
       "[21] \"ResidenceCountry\"              \"Nationality\"                  \n",
       "[23] \"DiagnosisCity\"                 \"DiagnosisProvince\"            \n",
       "[25] \"DiagnosisCountry\"              \"LocalCaseNum\"                 \n",
       "[27] \"Pneumonia\"                     \"WuhanFreshMarket\"             \n",
       "[29] \"WuhanSCSCVisit\"                \"DateSpecColl\"                 \n",
       "[31] \"LabPosDate\"                    \"CaseClass\"                    \n",
       "[33] \"Evacuaee\"                      \"CruiseShip\"                   \n",
       "[35] \"URL\"                           \"Note\"                         "
      ]
     },
     "metadata": {},
     "output_type": "display_data"
    }
   ],
   "source": [
    "read_excel(datafilename, sheet=\"export\") -> Df\n",
    "names(Df)"
   ]
  },
  {
   "cell_type": "markdown",
   "metadata": {},
   "source": [
    "## <font color=\"purple\">Parameters</font>"
   ]
  },
  {
   "cell_type": "code",
   "execution_count": 40,
   "metadata": {},
   "outputs": [],
   "source": [
    "### day zero\n",
    "t0 = as.Date(\"2019-12-09\")\n",
    "\n",
    "#### setting the estimated window time\n",
    "detection_window = 12.5\n",
    "\n",
    "#### setting the population size of Wuhan\n",
    "popWuhan = 11081000\n",
    "\n",
    "#### setting the volume of inbound passengers from China per year\n",
    "total_travellers = 55568293\n",
    "\n",
    "#### fraction of Wuhan travellers in the total flow of travellers from China\n",
    "fraction_travellers_Wuhan = 0.020763"
   ]
  },
  {
   "cell_type": "code",
   "execution_count": 41,
   "metadata": {},
   "outputs": [],
   "source": [
    "#### probability of travel outside of Mainland China\n",
    "prob_travel = (total_travellers*fraction_travellers_Wuhan*detection_window)/(365*popWuhan)\n",
    "\n",
    "prob_HN = 365/(total_travellers*fraction_travellers_Wuhan*detection_window)"
   ]
  },
  {
   "cell_type": "markdown",
   "metadata": {},
   "source": [
    "**IMPORTANT**"
   ]
  },
  {
   "cell_type": "code",
   "execution_count": 42,
   "metadata": {},
   "outputs": [],
   "source": [
    "#### Cut-off time for our analysis\n",
    "CUTOFF_DATE = as.Date(\"2020-01-24\")"
   ]
  },
  {
   "cell_type": "markdown",
   "metadata": {},
   "source": [
    "## <font color=\"orange\">Creating skeleton for the resulting data frame</font>"
   ]
  },
  {
   "cell_type": "code",
   "execution_count": 43,
   "metadata": {},
   "outputs": [
    {
     "data": {
      "text/html": [
       "<table>\n",
       "<caption>A data.frame: 6 × 5</caption>\n",
       "<thead>\n",
       "\t<tr><th></th><th scope=col>date</th><th scope=col>prob_travel</th><th scope=col>prob_HN</th><th scope=col>popWuhan</th><th scope=col>time</th></tr>\n",
       "\t<tr><th></th><th scope=col>&lt;date&gt;</th><th scope=col>&lt;dbl&gt;</th><th scope=col>&lt;dbl&gt;</th><th scope=col>&lt;dbl&gt;</th><th scope=col>&lt;int&gt;</th></tr>\n",
       "</thead>\n",
       "<tbody>\n",
       "\t<tr><th scope=row>1</th><td>2019-12-09</td><td>0.003565787</td><td>2.530846e-05</td><td>11081000</td><td>1</td></tr>\n",
       "\t<tr><th scope=row>2</th><td>2019-12-10</td><td>0.003565787</td><td>2.530846e-05</td><td>11081000</td><td>2</td></tr>\n",
       "\t<tr><th scope=row>3</th><td>2019-12-11</td><td>0.003565787</td><td>2.530846e-05</td><td>11081000</td><td>3</td></tr>\n",
       "\t<tr><th scope=row>4</th><td>2019-12-12</td><td>0.003565787</td><td>2.530846e-05</td><td>11081000</td><td>4</td></tr>\n",
       "\t<tr><th scope=row>5</th><td>2019-12-13</td><td>0.003565787</td><td>2.530846e-05</td><td>11081000</td><td>5</td></tr>\n",
       "\t<tr><th scope=row>6</th><td>2019-12-14</td><td>0.003565787</td><td>2.530846e-05</td><td>11081000</td><td>6</td></tr>\n",
       "</tbody>\n",
       "</table>\n"
      ],
      "text/latex": [
       "A data.frame: 6 × 5\n",
       "\\begin{tabular}{r|lllll}\n",
       "  & date & prob\\_travel & prob\\_HN & popWuhan & time\\\\\n",
       "  & <date> & <dbl> & <dbl> & <dbl> & <int>\\\\\n",
       "\\hline\n",
       "\t1 & 2019-12-09 & 0.003565787 & 2.530846e-05 & 11081000 & 1\\\\\n",
       "\t2 & 2019-12-10 & 0.003565787 & 2.530846e-05 & 11081000 & 2\\\\\n",
       "\t3 & 2019-12-11 & 0.003565787 & 2.530846e-05 & 11081000 & 3\\\\\n",
       "\t4 & 2019-12-12 & 0.003565787 & 2.530846e-05 & 11081000 & 4\\\\\n",
       "\t5 & 2019-12-13 & 0.003565787 & 2.530846e-05 & 11081000 & 5\\\\\n",
       "\t6 & 2019-12-14 & 0.003565787 & 2.530846e-05 & 11081000 & 6\\\\\n",
       "\\end{tabular}\n"
      ],
      "text/markdown": [
       "\n",
       "A data.frame: 6 × 5\n",
       "\n",
       "| <!--/--> | date &lt;date&gt; | prob_travel &lt;dbl&gt; | prob_HN &lt;dbl&gt; | popWuhan &lt;dbl&gt; | time &lt;int&gt; |\n",
       "|---|---|---|---|---|---|\n",
       "| 1 | 2019-12-09 | 0.003565787 | 2.530846e-05 | 11081000 | 1 |\n",
       "| 2 | 2019-12-10 | 0.003565787 | 2.530846e-05 | 11081000 | 2 |\n",
       "| 3 | 2019-12-11 | 0.003565787 | 2.530846e-05 | 11081000 | 3 |\n",
       "| 4 | 2019-12-12 | 0.003565787 | 2.530846e-05 | 11081000 | 4 |\n",
       "| 5 | 2019-12-13 | 0.003565787 | 2.530846e-05 | 11081000 | 5 |\n",
       "| 6 | 2019-12-14 | 0.003565787 | 2.530846e-05 | 11081000 | 6 |\n",
       "\n"
      ],
      "text/plain": [
       "  date       prob_travel prob_HN      popWuhan time\n",
       "1 2019-12-09 0.003565787 2.530846e-05 11081000 1   \n",
       "2 2019-12-10 0.003565787 2.530846e-05 11081000 2   \n",
       "3 2019-12-11 0.003565787 2.530846e-05 11081000 3   \n",
       "4 2019-12-12 0.003565787 2.530846e-05 11081000 4   \n",
       "5 2019-12-13 0.003565787 2.530846e-05 11081000 5   \n",
       "6 2019-12-14 0.003565787 2.530846e-05 11081000 6   "
      ]
     },
     "metadata": {},
     "output_type": "display_data"
    }
   ],
   "source": [
    "df = data.frame(date = as.Date(t0:CUTOFF_DATE), prob_travel = prob_travel, prob_HN = prob_HN, popWuhan = popWuhan) %>% mutate(time = 1:n())\n",
    "head(df)"
   ]
  },
  {
   "cell_type": "markdown",
   "metadata": {},
   "source": [
    "## <font color=\"orange\">Counts of exported cases by date of reporting</font>"
   ]
  },
  {
   "cell_type": "code",
   "execution_count": 44,
   "metadata": {},
   "outputs": [
    {
     "data": {
      "text/html": [
       "<table>\n",
       "<caption>A tibble: 20 × 3</caption>\n",
       "<thead>\n",
       "\t<tr><th scope=col>Country</th><th scope=col>Onset</th><th scope=col>Confirmed</th></tr>\n",
       "\t<tr><th scope=col>&lt;chr&gt;</th><th scope=col>&lt;dttm&gt;</th><th scope=col>&lt;dttm&gt;</th></tr>\n",
       "</thead>\n",
       "<tbody>\n",
       "\t<tr><td>Thailand   </td><td>2020-01-05</td><td>2020-01-13</td></tr>\n",
       "\t<tr><td>Japan      </td><td>2020-01-03</td><td>2020-01-16</td></tr>\n",
       "\t<tr><td>Thailand   </td><td>NA</td><td>2020-01-17</td></tr>\n",
       "\t<tr><td>South Korea</td><td>2020-01-18</td><td>2020-01-20</td></tr>\n",
       "\t<tr><td>USA        </td><td>2020-01-15</td><td>2020-01-21</td></tr>\n",
       "\t<tr><td>Taiwan     </td><td>NA</td><td>2020-01-21</td></tr>\n",
       "\t<tr><td>Thailand   </td><td>NA</td><td>2020-01-22</td></tr>\n",
       "\t<tr><td>Thailand   </td><td>NA</td><td>2020-01-22</td></tr>\n",
       "\t<tr><td>Vietnam    </td><td>2020-01-17</td><td>2020-01-23</td></tr>\n",
       "\t<tr><td>Vietnam    </td><td>2020-01-20</td><td>2020-01-23</td></tr>\n",
       "\t<tr><td>Singapore  </td><td>2020-01-21</td><td>2020-01-23</td></tr>\n",
       "\t<tr><td>South Korea</td><td>2020-01-10</td><td>2020-01-24</td></tr>\n",
       "\t<tr><td>Japan      </td><td>2020-01-14</td><td>2020-01-24</td></tr>\n",
       "\t<tr><td>USA        </td><td>2020-01-16</td><td>2020-01-24</td></tr>\n",
       "\t<tr><td>Singapore  </td><td>2020-01-21</td><td>2020-01-24</td></tr>\n",
       "\t<tr><td>Thailand   </td><td>2020-01-22</td><td>2020-01-24</td></tr>\n",
       "\t<tr><td>Singapore  </td><td>2020-01-23</td><td>2020-01-24</td></tr>\n",
       "\t<tr><td>Taiwan     </td><td>2020-01-23</td><td>2020-01-24</td></tr>\n",
       "\t<tr><td>Taiwan     </td><td>2020-01-23</td><td>2020-01-24</td></tr>\n",
       "\t<tr><td>Nepal      </td><td>NA</td><td>2020-01-24</td></tr>\n",
       "</tbody>\n",
       "</table>\n"
      ],
      "text/latex": [
       "A tibble: 20 × 3\n",
       "\\begin{tabular}{lll}\n",
       " Country & Onset & Confirmed\\\\\n",
       " <chr> & <dttm> & <dttm>\\\\\n",
       "\\hline\n",
       "\t Thailand    & 2020-01-05 & 2020-01-13\\\\\n",
       "\t Japan       & 2020-01-03 & 2020-01-16\\\\\n",
       "\t Thailand    & NA & 2020-01-17\\\\\n",
       "\t South Korea & 2020-01-18 & 2020-01-20\\\\\n",
       "\t USA         & 2020-01-15 & 2020-01-21\\\\\n",
       "\t Taiwan      & NA & 2020-01-21\\\\\n",
       "\t Thailand    & NA & 2020-01-22\\\\\n",
       "\t Thailand    & NA & 2020-01-22\\\\\n",
       "\t Vietnam     & 2020-01-17 & 2020-01-23\\\\\n",
       "\t Vietnam     & 2020-01-20 & 2020-01-23\\\\\n",
       "\t Singapore   & 2020-01-21 & 2020-01-23\\\\\n",
       "\t South Korea & 2020-01-10 & 2020-01-24\\\\\n",
       "\t Japan       & 2020-01-14 & 2020-01-24\\\\\n",
       "\t USA         & 2020-01-16 & 2020-01-24\\\\\n",
       "\t Singapore   & 2020-01-21 & 2020-01-24\\\\\n",
       "\t Thailand    & 2020-01-22 & 2020-01-24\\\\\n",
       "\t Singapore   & 2020-01-23 & 2020-01-24\\\\\n",
       "\t Taiwan      & 2020-01-23 & 2020-01-24\\\\\n",
       "\t Taiwan      & 2020-01-23 & 2020-01-24\\\\\n",
       "\t Nepal       & NA & 2020-01-24\\\\\n",
       "\\end{tabular}\n"
      ],
      "text/markdown": [
       "\n",
       "A tibble: 20 × 3\n",
       "\n",
       "| Country &lt;chr&gt; | Onset &lt;dttm&gt; | Confirmed &lt;dttm&gt; |\n",
       "|---|---|---|\n",
       "| Thailand    | 2020-01-05 | 2020-01-13 |\n",
       "| Japan       | 2020-01-03 | 2020-01-16 |\n",
       "| Thailand    | NA | 2020-01-17 |\n",
       "| South Korea | 2020-01-18 | 2020-01-20 |\n",
       "| USA         | 2020-01-15 | 2020-01-21 |\n",
       "| Taiwan      | NA | 2020-01-21 |\n",
       "| Thailand    | NA | 2020-01-22 |\n",
       "| Thailand    | NA | 2020-01-22 |\n",
       "| Vietnam     | 2020-01-17 | 2020-01-23 |\n",
       "| Vietnam     | 2020-01-20 | 2020-01-23 |\n",
       "| Singapore   | 2020-01-21 | 2020-01-23 |\n",
       "| South Korea | 2020-01-10 | 2020-01-24 |\n",
       "| Japan       | 2020-01-14 | 2020-01-24 |\n",
       "| USA         | 2020-01-16 | 2020-01-24 |\n",
       "| Singapore   | 2020-01-21 | 2020-01-24 |\n",
       "| Thailand    | 2020-01-22 | 2020-01-24 |\n",
       "| Singapore   | 2020-01-23 | 2020-01-24 |\n",
       "| Taiwan      | 2020-01-23 | 2020-01-24 |\n",
       "| Taiwan      | 2020-01-23 | 2020-01-24 |\n",
       "| Nepal       | NA | 2020-01-24 |\n",
       "\n"
      ],
      "text/plain": [
       "   Country     Onset      Confirmed \n",
       "1  Thailand    2020-01-05 2020-01-13\n",
       "2  Japan       2020-01-03 2020-01-16\n",
       "3  Thailand    <NA>       2020-01-17\n",
       "4  South Korea 2020-01-18 2020-01-20\n",
       "5  USA         2020-01-15 2020-01-21\n",
       "6  Taiwan      <NA>       2020-01-21\n",
       "7  Thailand    <NA>       2020-01-22\n",
       "8  Thailand    <NA>       2020-01-22\n",
       "9  Vietnam     2020-01-17 2020-01-23\n",
       "10 Vietnam     2020-01-20 2020-01-23\n",
       "11 Singapore   2020-01-21 2020-01-23\n",
       "12 South Korea 2020-01-10 2020-01-24\n",
       "13 Japan       2020-01-14 2020-01-24\n",
       "14 USA         2020-01-16 2020-01-24\n",
       "15 Singapore   2020-01-21 2020-01-24\n",
       "16 Thailand    2020-01-22 2020-01-24\n",
       "17 Singapore   2020-01-23 2020-01-24\n",
       "18 Taiwan      2020-01-23 2020-01-24\n",
       "19 Taiwan      2020-01-23 2020-01-24\n",
       "20 Nepal       <NA>       2020-01-24"
      ]
     },
     "metadata": {},
     "output_type": "display_data"
    }
   ],
   "source": [
    "df_exports = read_excel(datafilename, sheet=\"export\") %>% \n",
    "    filter(DiagnosisCountry!='China') %>% \n",
    "    select(DiagnosisCountry,Onset,DateReportedConfirmed) %>%\n",
    "    rename(`Confirmed`=`DateReportedConfirmed`, `Country`=`DiagnosisCountry`) %>%\n",
    "    arrange(Confirmed,Onset) %>%\n",
    "    filter(as.Date(Confirmed) <= CUTOFF_DATE)\n",
    "#     mutate(time = as.numeric(as.Date(DateReportedConfirmed)-t0)) \n",
    "df_exports "
   ]
  },
  {
   "cell_type": "code",
   "execution_count": 45,
   "metadata": {},
   "outputs": [
    {
     "data": {
      "text/html": [
       "<table>\n",
       "<caption>A tibble: 8 × 2</caption>\n",
       "<thead>\n",
       "\t<tr><th scope=col>Country</th><th scope=col>count</th></tr>\n",
       "\t<tr><th scope=col>&lt;chr&gt;</th><th scope=col>&lt;int&gt;</th></tr>\n",
       "</thead>\n",
       "<tbody>\n",
       "\t<tr><td>Japan      </td><td>2</td></tr>\n",
       "\t<tr><td>Nepal      </td><td>1</td></tr>\n",
       "\t<tr><td>Singapore  </td><td>3</td></tr>\n",
       "\t<tr><td>South Korea</td><td>2</td></tr>\n",
       "\t<tr><td>Taiwan     </td><td>3</td></tr>\n",
       "\t<tr><td>Thailand   </td><td>5</td></tr>\n",
       "\t<tr><td>USA        </td><td>2</td></tr>\n",
       "\t<tr><td>Vietnam    </td><td>2</td></tr>\n",
       "</tbody>\n",
       "</table>\n"
      ],
      "text/latex": [
       "A tibble: 8 × 2\n",
       "\\begin{tabular}{ll}\n",
       " Country & count\\\\\n",
       " <chr> & <int>\\\\\n",
       "\\hline\n",
       "\t Japan       & 2\\\\\n",
       "\t Nepal       & 1\\\\\n",
       "\t Singapore   & 3\\\\\n",
       "\t South Korea & 2\\\\\n",
       "\t Taiwan      & 3\\\\\n",
       "\t Thailand    & 5\\\\\n",
       "\t USA         & 2\\\\\n",
       "\t Vietnam     & 2\\\\\n",
       "\\end{tabular}\n"
      ],
      "text/markdown": [
       "\n",
       "A tibble: 8 × 2\n",
       "\n",
       "| Country &lt;chr&gt; | count &lt;int&gt; |\n",
       "|---|---|\n",
       "| Japan       | 2 |\n",
       "| Nepal       | 1 |\n",
       "| Singapore   | 3 |\n",
       "| South Korea | 2 |\n",
       "| Taiwan      | 3 |\n",
       "| Thailand    | 5 |\n",
       "| USA         | 2 |\n",
       "| Vietnam     | 2 |\n",
       "\n"
      ],
      "text/plain": [
       "  Country     count\n",
       "1 Japan       2    \n",
       "2 Nepal       1    \n",
       "3 Singapore   3    \n",
       "4 South Korea 2    \n",
       "5 Taiwan      3    \n",
       "6 Thailand    5    \n",
       "7 USA         2    \n",
       "8 Vietnam     2    "
      ]
     },
     "metadata": {},
     "output_type": "display_data"
    }
   ],
   "source": [
    "df_exports %>% group_by(Country) %>% summarize(count = n())"
   ]
  },
  {
   "cell_type": "code",
   "execution_count": 46,
   "metadata": {},
   "outputs": [
    {
     "data": {
      "text/html": [
       "20"
      ],
      "text/latex": [
       "20"
      ],
      "text/markdown": [
       "20"
      ],
      "text/plain": [
       "[1] 20"
      ]
     },
     "metadata": {},
     "output_type": "display_data"
    }
   ],
   "source": [
    "df_exports %>% nrow"
   ]
  },
  {
   "cell_type": "code",
   "execution_count": 47,
   "metadata": {},
   "outputs": [
    {
     "data": {
      "text/plain": [
       "Time difference of 5.333333 days"
      ]
     },
     "metadata": {},
     "output_type": "display_data"
    }
   ],
   "source": [
    "mean_reporting_delay = df_exports %>% na.omit() %>% mutate(diff = as.Date(Confirmed)-as.Date(Onset)) %>% .$diff %>% mean\n",
    "mean_reporting_delay"
   ]
  },
  {
   "cell_type": "code",
   "execution_count": 48,
   "metadata": {},
   "outputs": [
    {
     "data": {
      "text/html": [
       "<table>\n",
       "<caption>A tibble: 20 × 5</caption>\n",
       "<thead>\n",
       "\t<tr><th scope=col>id</th><th scope=col>Country</th><th scope=col>Onset</th><th scope=col>Confirmed</th><th scope=col>ImputedWithMeanDelay</th></tr>\n",
       "\t<tr><th scope=col>&lt;int&gt;</th><th scope=col>&lt;chr&gt;</th><th scope=col>&lt;dttm&gt;</th><th scope=col>&lt;dttm&gt;</th><th scope=col>&lt;lgl&gt;</th></tr>\n",
       "</thead>\n",
       "<tbody>\n",
       "\t<tr><td> 1</td><td>Thailand   </td><td>2020-01-05</td><td>2020-01-13</td><td>FALSE</td></tr>\n",
       "\t<tr><td> 2</td><td>Japan      </td><td>2020-01-03</td><td>2020-01-16</td><td>FALSE</td></tr>\n",
       "\t<tr><td> 3</td><td>Thailand   </td><td>2020-01-11</td><td>2020-01-17</td><td> TRUE</td></tr>\n",
       "\t<tr><td> 4</td><td>South Korea</td><td>2020-01-18</td><td>2020-01-20</td><td>FALSE</td></tr>\n",
       "\t<tr><td> 5</td><td>USA        </td><td>2020-01-15</td><td>2020-01-21</td><td>FALSE</td></tr>\n",
       "\t<tr><td> 6</td><td>Taiwan     </td><td>2020-01-15</td><td>2020-01-21</td><td> TRUE</td></tr>\n",
       "\t<tr><td> 7</td><td>Thailand   </td><td>2020-01-16</td><td>2020-01-22</td><td> TRUE</td></tr>\n",
       "\t<tr><td> 8</td><td>Thailand   </td><td>2020-01-16</td><td>2020-01-22</td><td> TRUE</td></tr>\n",
       "\t<tr><td> 9</td><td>Vietnam    </td><td>2020-01-17</td><td>2020-01-23</td><td>FALSE</td></tr>\n",
       "\t<tr><td>10</td><td>Vietnam    </td><td>2020-01-20</td><td>2020-01-23</td><td>FALSE</td></tr>\n",
       "\t<tr><td>11</td><td>Singapore  </td><td>2020-01-21</td><td>2020-01-23</td><td>FALSE</td></tr>\n",
       "\t<tr><td>12</td><td>South Korea</td><td>2020-01-10</td><td>2020-01-24</td><td>FALSE</td></tr>\n",
       "\t<tr><td>13</td><td>Japan      </td><td>2020-01-14</td><td>2020-01-24</td><td>FALSE</td></tr>\n",
       "\t<tr><td>14</td><td>USA        </td><td>2020-01-16</td><td>2020-01-24</td><td>FALSE</td></tr>\n",
       "\t<tr><td>15</td><td>Nepal      </td><td>2020-01-18</td><td>2020-01-24</td><td> TRUE</td></tr>\n",
       "\t<tr><td>16</td><td>Singapore  </td><td>2020-01-21</td><td>2020-01-24</td><td>FALSE</td></tr>\n",
       "\t<tr><td>17</td><td>Thailand   </td><td>2020-01-22</td><td>2020-01-24</td><td>FALSE</td></tr>\n",
       "\t<tr><td>18</td><td>Singapore  </td><td>2020-01-23</td><td>2020-01-24</td><td>FALSE</td></tr>\n",
       "\t<tr><td>19</td><td>Taiwan     </td><td>2020-01-23</td><td>2020-01-24</td><td>FALSE</td></tr>\n",
       "\t<tr><td>20</td><td>Taiwan     </td><td>2020-01-23</td><td>2020-01-24</td><td>FALSE</td></tr>\n",
       "</tbody>\n",
       "</table>\n"
      ],
      "text/latex": [
       "A tibble: 20 × 5\n",
       "\\begin{tabular}{lllll}\n",
       " id & Country & Onset & Confirmed & ImputedWithMeanDelay\\\\\n",
       " <int> & <chr> & <dttm> & <dttm> & <lgl>\\\\\n",
       "\\hline\n",
       "\t  1 & Thailand    & 2020-01-05 & 2020-01-13 & FALSE\\\\\n",
       "\t  2 & Japan       & 2020-01-03 & 2020-01-16 & FALSE\\\\\n",
       "\t  3 & Thailand    & 2020-01-11 & 2020-01-17 &  TRUE\\\\\n",
       "\t  4 & South Korea & 2020-01-18 & 2020-01-20 & FALSE\\\\\n",
       "\t  5 & USA         & 2020-01-15 & 2020-01-21 & FALSE\\\\\n",
       "\t  6 & Taiwan      & 2020-01-15 & 2020-01-21 &  TRUE\\\\\n",
       "\t  7 & Thailand    & 2020-01-16 & 2020-01-22 &  TRUE\\\\\n",
       "\t  8 & Thailand    & 2020-01-16 & 2020-01-22 &  TRUE\\\\\n",
       "\t  9 & Vietnam     & 2020-01-17 & 2020-01-23 & FALSE\\\\\n",
       "\t 10 & Vietnam     & 2020-01-20 & 2020-01-23 & FALSE\\\\\n",
       "\t 11 & Singapore   & 2020-01-21 & 2020-01-23 & FALSE\\\\\n",
       "\t 12 & South Korea & 2020-01-10 & 2020-01-24 & FALSE\\\\\n",
       "\t 13 & Japan       & 2020-01-14 & 2020-01-24 & FALSE\\\\\n",
       "\t 14 & USA         & 2020-01-16 & 2020-01-24 & FALSE\\\\\n",
       "\t 15 & Nepal       & 2020-01-18 & 2020-01-24 &  TRUE\\\\\n",
       "\t 16 & Singapore   & 2020-01-21 & 2020-01-24 & FALSE\\\\\n",
       "\t 17 & Thailand    & 2020-01-22 & 2020-01-24 & FALSE\\\\\n",
       "\t 18 & Singapore   & 2020-01-23 & 2020-01-24 & FALSE\\\\\n",
       "\t 19 & Taiwan      & 2020-01-23 & 2020-01-24 & FALSE\\\\\n",
       "\t 20 & Taiwan      & 2020-01-23 & 2020-01-24 & FALSE\\\\\n",
       "\\end{tabular}\n"
      ],
      "text/markdown": [
       "\n",
       "A tibble: 20 × 5\n",
       "\n",
       "| id &lt;int&gt; | Country &lt;chr&gt; | Onset &lt;dttm&gt; | Confirmed &lt;dttm&gt; | ImputedWithMeanDelay &lt;lgl&gt; |\n",
       "|---|---|---|---|---|\n",
       "|  1 | Thailand    | 2020-01-05 | 2020-01-13 | FALSE |\n",
       "|  2 | Japan       | 2020-01-03 | 2020-01-16 | FALSE |\n",
       "|  3 | Thailand    | 2020-01-11 | 2020-01-17 |  TRUE |\n",
       "|  4 | South Korea | 2020-01-18 | 2020-01-20 | FALSE |\n",
       "|  5 | USA         | 2020-01-15 | 2020-01-21 | FALSE |\n",
       "|  6 | Taiwan      | 2020-01-15 | 2020-01-21 |  TRUE |\n",
       "|  7 | Thailand    | 2020-01-16 | 2020-01-22 |  TRUE |\n",
       "|  8 | Thailand    | 2020-01-16 | 2020-01-22 |  TRUE |\n",
       "|  9 | Vietnam     | 2020-01-17 | 2020-01-23 | FALSE |\n",
       "| 10 | Vietnam     | 2020-01-20 | 2020-01-23 | FALSE |\n",
       "| 11 | Singapore   | 2020-01-21 | 2020-01-23 | FALSE |\n",
       "| 12 | South Korea | 2020-01-10 | 2020-01-24 | FALSE |\n",
       "| 13 | Japan       | 2020-01-14 | 2020-01-24 | FALSE |\n",
       "| 14 | USA         | 2020-01-16 | 2020-01-24 | FALSE |\n",
       "| 15 | Nepal       | 2020-01-18 | 2020-01-24 |  TRUE |\n",
       "| 16 | Singapore   | 2020-01-21 | 2020-01-24 | FALSE |\n",
       "| 17 | Thailand    | 2020-01-22 | 2020-01-24 | FALSE |\n",
       "| 18 | Singapore   | 2020-01-23 | 2020-01-24 | FALSE |\n",
       "| 19 | Taiwan      | 2020-01-23 | 2020-01-24 | FALSE |\n",
       "| 20 | Taiwan      | 2020-01-23 | 2020-01-24 | FALSE |\n",
       "\n"
      ],
      "text/plain": [
       "   id Country     Onset      Confirmed  ImputedWithMeanDelay\n",
       "1   1 Thailand    2020-01-05 2020-01-13 FALSE               \n",
       "2   2 Japan       2020-01-03 2020-01-16 FALSE               \n",
       "3   3 Thailand    2020-01-11 2020-01-17  TRUE               \n",
       "4   4 South Korea 2020-01-18 2020-01-20 FALSE               \n",
       "5   5 USA         2020-01-15 2020-01-21 FALSE               \n",
       "6   6 Taiwan      2020-01-15 2020-01-21  TRUE               \n",
       "7   7 Thailand    2020-01-16 2020-01-22  TRUE               \n",
       "8   8 Thailand    2020-01-16 2020-01-22  TRUE               \n",
       "9   9 Vietnam     2020-01-17 2020-01-23 FALSE               \n",
       "10 10 Vietnam     2020-01-20 2020-01-23 FALSE               \n",
       "11 11 Singapore   2020-01-21 2020-01-23 FALSE               \n",
       "12 12 South Korea 2020-01-10 2020-01-24 FALSE               \n",
       "13 13 Japan       2020-01-14 2020-01-24 FALSE               \n",
       "14 14 USA         2020-01-16 2020-01-24 FALSE               \n",
       "15 15 Nepal       2020-01-18 2020-01-24  TRUE               \n",
       "16 16 Singapore   2020-01-21 2020-01-24 FALSE               \n",
       "17 17 Thailand    2020-01-22 2020-01-24 FALSE               \n",
       "18 18 Singapore   2020-01-23 2020-01-24 FALSE               \n",
       "19 19 Taiwan      2020-01-23 2020-01-24 FALSE               \n",
       "20 20 Taiwan      2020-01-23 2020-01-24 FALSE               "
      ]
     },
     "metadata": {},
     "output_type": "display_data"
    }
   ],
   "source": [
    "df_exports %<>% mutate(ImputedWithMeanDelay = if_else(is.na(Onset), TRUE, FALSE), \n",
    "                     Onset = if_else(is.na(Onset), lubridate::floor_date(Confirmed - mean_reporting_delay, unit = 'days'), Onset))\n",
    "df_exports %>% arrange(Confirmed,Onset) %>% mutate(id = 1:n()) %>% select(id, Country, everything()) "
   ]
  },
  {
   "cell_type": "code",
   "execution_count": 49,
   "metadata": {},
   "outputs": [],
   "source": [
    "data_drname = \"../../data\"\n",
    "flname = 'data_exports.csv'\n",
    "write.table(df_exports, paste0(data_drname,flname), row.names=FALSE, sep=\",\", quote = FALSE)"
   ]
  },
  {
   "cell_type": "markdown",
   "metadata": {},
   "source": [
    "**Adding exportation cases to the resulting data frame**"
   ]
  },
  {
   "cell_type": "code",
   "execution_count": 50,
   "metadata": {},
   "outputs": [
    {
     "data": {
      "text/html": [
       "<table>\n",
       "<caption>A tibble: 10 × 6</caption>\n",
       "<thead>\n",
       "\t<tr><th scope=col>date</th><th scope=col>exports</th><th scope=col>prob_travel</th><th scope=col>prob_HN</th><th scope=col>popWuhan</th><th scope=col>time</th></tr>\n",
       "\t<tr><th scope=col>&lt;date&gt;</th><th scope=col>&lt;dbl&gt;</th><th scope=col>&lt;dbl&gt;</th><th scope=col>&lt;dbl&gt;</th><th scope=col>&lt;dbl&gt;</th><th scope=col>&lt;int&gt;</th></tr>\n",
       "</thead>\n",
       "<tbody>\n",
       "\t<tr><td>2020-01-15</td><td> 1</td><td>0.003565787</td><td>2.530846e-05</td><td>11081000</td><td>38</td></tr>\n",
       "\t<tr><td>2020-01-16</td><td> 2</td><td>0.003565787</td><td>2.530846e-05</td><td>11081000</td><td>39</td></tr>\n",
       "\t<tr><td>2020-01-17</td><td> 3</td><td>0.003565787</td><td>2.530846e-05</td><td>11081000</td><td>40</td></tr>\n",
       "\t<tr><td>2020-01-18</td><td> 3</td><td>0.003565787</td><td>2.530846e-05</td><td>11081000</td><td>41</td></tr>\n",
       "\t<tr><td>2020-01-19</td><td> 3</td><td>0.003565787</td><td>2.530846e-05</td><td>11081000</td><td>42</td></tr>\n",
       "\t<tr><td>2020-01-20</td><td> 4</td><td>0.003565787</td><td>2.530846e-05</td><td>11081000</td><td>43</td></tr>\n",
       "\t<tr><td>2020-01-21</td><td> 6</td><td>0.003565787</td><td>2.530846e-05</td><td>11081000</td><td>44</td></tr>\n",
       "\t<tr><td>2020-01-22</td><td> 8</td><td>0.003565787</td><td>2.530846e-05</td><td>11081000</td><td>45</td></tr>\n",
       "\t<tr><td>2020-01-23</td><td>11</td><td>0.003565787</td><td>2.530846e-05</td><td>11081000</td><td>46</td></tr>\n",
       "\t<tr><td>2020-01-24</td><td>20</td><td>0.003565787</td><td>2.530846e-05</td><td>11081000</td><td>47</td></tr>\n",
       "</tbody>\n",
       "</table>\n"
      ],
      "text/latex": [
       "A tibble: 10 × 6\n",
       "\\begin{tabular}{llllll}\n",
       " date & exports & prob\\_travel & prob\\_HN & popWuhan & time\\\\\n",
       " <date> & <dbl> & <dbl> & <dbl> & <dbl> & <int>\\\\\n",
       "\\hline\n",
       "\t 2020-01-15 &  1 & 0.003565787 & 2.530846e-05 & 11081000 & 38\\\\\n",
       "\t 2020-01-16 &  2 & 0.003565787 & 2.530846e-05 & 11081000 & 39\\\\\n",
       "\t 2020-01-17 &  3 & 0.003565787 & 2.530846e-05 & 11081000 & 40\\\\\n",
       "\t 2020-01-18 &  3 & 0.003565787 & 2.530846e-05 & 11081000 & 41\\\\\n",
       "\t 2020-01-19 &  3 & 0.003565787 & 2.530846e-05 & 11081000 & 42\\\\\n",
       "\t 2020-01-20 &  4 & 0.003565787 & 2.530846e-05 & 11081000 & 43\\\\\n",
       "\t 2020-01-21 &  6 & 0.003565787 & 2.530846e-05 & 11081000 & 44\\\\\n",
       "\t 2020-01-22 &  8 & 0.003565787 & 2.530846e-05 & 11081000 & 45\\\\\n",
       "\t 2020-01-23 & 11 & 0.003565787 & 2.530846e-05 & 11081000 & 46\\\\\n",
       "\t 2020-01-24 & 20 & 0.003565787 & 2.530846e-05 & 11081000 & 47\\\\\n",
       "\\end{tabular}\n"
      ],
      "text/markdown": [
       "\n",
       "A tibble: 10 × 6\n",
       "\n",
       "| date &lt;date&gt; | exports &lt;dbl&gt; | prob_travel &lt;dbl&gt; | prob_HN &lt;dbl&gt; | popWuhan &lt;dbl&gt; | time &lt;int&gt; |\n",
       "|---|---|---|---|---|---|\n",
       "| 2020-01-15 |  1 | 0.003565787 | 2.530846e-05 | 11081000 | 38 |\n",
       "| 2020-01-16 |  2 | 0.003565787 | 2.530846e-05 | 11081000 | 39 |\n",
       "| 2020-01-17 |  3 | 0.003565787 | 2.530846e-05 | 11081000 | 40 |\n",
       "| 2020-01-18 |  3 | 0.003565787 | 2.530846e-05 | 11081000 | 41 |\n",
       "| 2020-01-19 |  3 | 0.003565787 | 2.530846e-05 | 11081000 | 42 |\n",
       "| 2020-01-20 |  4 | 0.003565787 | 2.530846e-05 | 11081000 | 43 |\n",
       "| 2020-01-21 |  6 | 0.003565787 | 2.530846e-05 | 11081000 | 44 |\n",
       "| 2020-01-22 |  8 | 0.003565787 | 2.530846e-05 | 11081000 | 45 |\n",
       "| 2020-01-23 | 11 | 0.003565787 | 2.530846e-05 | 11081000 | 46 |\n",
       "| 2020-01-24 | 20 | 0.003565787 | 2.530846e-05 | 11081000 | 47 |\n",
       "\n"
      ],
      "text/plain": [
       "   date       exports prob_travel prob_HN      popWuhan time\n",
       "1  2020-01-15  1      0.003565787 2.530846e-05 11081000 38  \n",
       "2  2020-01-16  2      0.003565787 2.530846e-05 11081000 39  \n",
       "3  2020-01-17  3      0.003565787 2.530846e-05 11081000 40  \n",
       "4  2020-01-18  3      0.003565787 2.530846e-05 11081000 41  \n",
       "5  2020-01-19  3      0.003565787 2.530846e-05 11081000 42  \n",
       "6  2020-01-20  4      0.003565787 2.530846e-05 11081000 43  \n",
       "7  2020-01-21  6      0.003565787 2.530846e-05 11081000 44  \n",
       "8  2020-01-22  8      0.003565787 2.530846e-05 11081000 45  \n",
       "9  2020-01-23 11      0.003565787 2.530846e-05 11081000 46  \n",
       "10 2020-01-24 20      0.003565787 2.530846e-05 11081000 47  "
      ]
     },
     "metadata": {},
     "output_type": "display_data"
    }
   ],
   "source": [
    "df_exports %>% \n",
    "    select(Confirmed) %>% \n",
    "    group_by(Confirmed) %>% \n",
    "    summarize(exports=n()) %>%\n",
    "    rename(`date`=`Confirmed`) %>%\n",
    "    mutate(date = as.Date(date)) %>%\n",
    "    mutate(exports=cumsum(exports)) %>%\n",
    "    right_join(df, by='date') -> df\n",
    "\n",
    "df$exports[1] = 0\n",
    "df$exports = zoo::na.locf(df$exports, fromLast=FALSE)\n",
    "\n",
    "tail(df,10)"
   ]
  },
  {
   "cell_type": "markdown",
   "metadata": {},
   "source": [
    "## <font color=\"orange\">Death cases by date of reporting</font>"
   ]
  },
  {
   "cell_type": "code",
   "execution_count": 51,
   "metadata": {},
   "outputs": [
    {
     "data": {
      "text/html": [
       "46"
      ],
      "text/latex": [
       "46"
      ],
      "text/markdown": [
       "46"
      ],
      "text/plain": [
       "[1] 46"
      ]
     },
     "metadata": {},
     "output_type": "display_data"
    }
   ],
   "source": [
    "read_excel(datafilename, sheet=\"deaths\") %>% \n",
    "    select(DateOfDeath) %>% \n",
    "    group_by(DateOfDeath) %>% \n",
    "    summarize(deaths=n()) %>%\n",
    "    na.omit() -> df_deaths\n",
    "\n",
    "sum(df_deaths$deaths)"
   ]
  },
  {
   "cell_type": "code",
   "execution_count": 52,
   "metadata": {},
   "outputs": [
    {
     "data": {
      "text/html": [
       "<table>\n",
       "<caption>A tibble: 10 × 7</caption>\n",
       "<thead>\n",
       "\t<tr><th scope=col>date</th><th scope=col>deaths</th><th scope=col>exports</th><th scope=col>prob_travel</th><th scope=col>prob_HN</th><th scope=col>popWuhan</th><th scope=col>time</th></tr>\n",
       "\t<tr><th scope=col>&lt;date&gt;</th><th scope=col>&lt;dbl&gt;</th><th scope=col>&lt;dbl&gt;</th><th scope=col>&lt;dbl&gt;</th><th scope=col>&lt;dbl&gt;</th><th scope=col>&lt;dbl&gt;</th><th scope=col>&lt;int&gt;</th></tr>\n",
       "</thead>\n",
       "<tbody>\n",
       "\t<tr><td>2020-01-15</td><td> 2</td><td> 1</td><td>0.003565787</td><td>2.530846e-05</td><td>11081000</td><td>38</td></tr>\n",
       "\t<tr><td>2020-01-16</td><td> 2</td><td> 2</td><td>0.003565787</td><td>2.530846e-05</td><td>11081000</td><td>39</td></tr>\n",
       "\t<tr><td>2020-01-17</td><td> 2</td><td> 3</td><td>0.003565787</td><td>2.530846e-05</td><td>11081000</td><td>40</td></tr>\n",
       "\t<tr><td>2020-01-18</td><td> 3</td><td> 3</td><td>0.003565787</td><td>2.530846e-05</td><td>11081000</td><td>41</td></tr>\n",
       "\t<tr><td>2020-01-19</td><td> 4</td><td> 3</td><td>0.003565787</td><td>2.530846e-05</td><td>11081000</td><td>42</td></tr>\n",
       "\t<tr><td>2020-01-20</td><td> 7</td><td> 4</td><td>0.003565787</td><td>2.530846e-05</td><td>11081000</td><td>43</td></tr>\n",
       "\t<tr><td>2020-01-21</td><td>18</td><td> 6</td><td>0.003565787</td><td>2.530846e-05</td><td>11081000</td><td>44</td></tr>\n",
       "\t<tr><td>2020-01-22</td><td>24</td><td> 8</td><td>0.003565787</td><td>2.530846e-05</td><td>11081000</td><td>45</td></tr>\n",
       "\t<tr><td>2020-01-23</td><td>34</td><td>11</td><td>0.003565787</td><td>2.530846e-05</td><td>11081000</td><td>46</td></tr>\n",
       "\t<tr><td>2020-01-24</td><td>41</td><td>20</td><td>0.003565787</td><td>2.530846e-05</td><td>11081000</td><td>47</td></tr>\n",
       "</tbody>\n",
       "</table>\n"
      ],
      "text/latex": [
       "A tibble: 10 × 7\n",
       "\\begin{tabular}{lllllll}\n",
       " date & deaths & exports & prob\\_travel & prob\\_HN & popWuhan & time\\\\\n",
       " <date> & <dbl> & <dbl> & <dbl> & <dbl> & <dbl> & <int>\\\\\n",
       "\\hline\n",
       "\t 2020-01-15 &  2 &  1 & 0.003565787 & 2.530846e-05 & 11081000 & 38\\\\\n",
       "\t 2020-01-16 &  2 &  2 & 0.003565787 & 2.530846e-05 & 11081000 & 39\\\\\n",
       "\t 2020-01-17 &  2 &  3 & 0.003565787 & 2.530846e-05 & 11081000 & 40\\\\\n",
       "\t 2020-01-18 &  3 &  3 & 0.003565787 & 2.530846e-05 & 11081000 & 41\\\\\n",
       "\t 2020-01-19 &  4 &  3 & 0.003565787 & 2.530846e-05 & 11081000 & 42\\\\\n",
       "\t 2020-01-20 &  7 &  4 & 0.003565787 & 2.530846e-05 & 11081000 & 43\\\\\n",
       "\t 2020-01-21 & 18 &  6 & 0.003565787 & 2.530846e-05 & 11081000 & 44\\\\\n",
       "\t 2020-01-22 & 24 &  8 & 0.003565787 & 2.530846e-05 & 11081000 & 45\\\\\n",
       "\t 2020-01-23 & 34 & 11 & 0.003565787 & 2.530846e-05 & 11081000 & 46\\\\\n",
       "\t 2020-01-24 & 41 & 20 & 0.003565787 & 2.530846e-05 & 11081000 & 47\\\\\n",
       "\\end{tabular}\n"
      ],
      "text/markdown": [
       "\n",
       "A tibble: 10 × 7\n",
       "\n",
       "| date &lt;date&gt; | deaths &lt;dbl&gt; | exports &lt;dbl&gt; | prob_travel &lt;dbl&gt; | prob_HN &lt;dbl&gt; | popWuhan &lt;dbl&gt; | time &lt;int&gt; |\n",
       "|---|---|---|---|---|---|---|\n",
       "| 2020-01-15 |  2 |  1 | 0.003565787 | 2.530846e-05 | 11081000 | 38 |\n",
       "| 2020-01-16 |  2 |  2 | 0.003565787 | 2.530846e-05 | 11081000 | 39 |\n",
       "| 2020-01-17 |  2 |  3 | 0.003565787 | 2.530846e-05 | 11081000 | 40 |\n",
       "| 2020-01-18 |  3 |  3 | 0.003565787 | 2.530846e-05 | 11081000 | 41 |\n",
       "| 2020-01-19 |  4 |  3 | 0.003565787 | 2.530846e-05 | 11081000 | 42 |\n",
       "| 2020-01-20 |  7 |  4 | 0.003565787 | 2.530846e-05 | 11081000 | 43 |\n",
       "| 2020-01-21 | 18 |  6 | 0.003565787 | 2.530846e-05 | 11081000 | 44 |\n",
       "| 2020-01-22 | 24 |  8 | 0.003565787 | 2.530846e-05 | 11081000 | 45 |\n",
       "| 2020-01-23 | 34 | 11 | 0.003565787 | 2.530846e-05 | 11081000 | 46 |\n",
       "| 2020-01-24 | 41 | 20 | 0.003565787 | 2.530846e-05 | 11081000 | 47 |\n",
       "\n"
      ],
      "text/plain": [
       "   date       deaths exports prob_travel prob_HN      popWuhan time\n",
       "1  2020-01-15  2      1      0.003565787 2.530846e-05 11081000 38  \n",
       "2  2020-01-16  2      2      0.003565787 2.530846e-05 11081000 39  \n",
       "3  2020-01-17  2      3      0.003565787 2.530846e-05 11081000 40  \n",
       "4  2020-01-18  3      3      0.003565787 2.530846e-05 11081000 41  \n",
       "5  2020-01-19  4      3      0.003565787 2.530846e-05 11081000 42  \n",
       "6  2020-01-20  7      4      0.003565787 2.530846e-05 11081000 43  \n",
       "7  2020-01-21 18      6      0.003565787 2.530846e-05 11081000 44  \n",
       "8  2020-01-22 24      8      0.003565787 2.530846e-05 11081000 45  \n",
       "9  2020-01-23 34     11      0.003565787 2.530846e-05 11081000 46  \n",
       "10 2020-01-24 41     20      0.003565787 2.530846e-05 11081000 47  "
      ]
     },
     "metadata": {},
     "output_type": "display_data"
    }
   ],
   "source": [
    "df_deaths %>%\n",
    "    rename(date=DateOfDeath) %>%\n",
    "    mutate(date=as.Date(date)) %>%\n",
    "    arrange(date) %>% \n",
    "    mutate(deaths = cumsum(deaths)) %>%\n",
    "    right_join(df, by=\"date\") -> df\n",
    "\n",
    "df$deaths[1] = 0\n",
    "df$deaths = zoo::na.locf(df$deaths, fromLast=FALSE)\n",
    "\n",
    "tail(df,10)"
   ]
  },
  {
   "cell_type": "markdown",
   "metadata": {},
   "source": [
    "## <font color=\"orange\">Official case counts</font>"
   ]
  },
  {
   "cell_type": "code",
   "execution_count": 53,
   "metadata": {},
   "outputs": [
    {
     "name": "stderr",
     "output_type": "stream",
     "text": [
      "Joining, by = \"date\"\n",
      "\n"
     ]
    },
    {
     "data": {
      "text/html": [
       "<table>\n",
       "<caption>A tibble: 10 × 8</caption>\n",
       "<thead>\n",
       "\t<tr><th scope=col>date</th><th scope=col>reported</th><th scope=col>deaths</th><th scope=col>exports</th><th scope=col>prob_travel</th><th scope=col>prob_HN</th><th scope=col>popWuhan</th><th scope=col>time</th></tr>\n",
       "\t<tr><th scope=col>&lt;date&gt;</th><th scope=col>&lt;dbl&gt;</th><th scope=col>&lt;dbl&gt;</th><th scope=col>&lt;dbl&gt;</th><th scope=col>&lt;dbl&gt;</th><th scope=col>&lt;dbl&gt;</th><th scope=col>&lt;dbl&gt;</th><th scope=col>&lt;int&gt;</th></tr>\n",
       "</thead>\n",
       "<tbody>\n",
       "\t<tr><td>2020-01-15</td><td>  41</td><td> 2</td><td> 1</td><td>0.003565787</td><td>2.530846e-05</td><td>11081000</td><td>38</td></tr>\n",
       "\t<tr><td>2020-01-16</td><td>  45</td><td> 2</td><td> 2</td><td>0.003565787</td><td>2.530846e-05</td><td>11081000</td><td>39</td></tr>\n",
       "\t<tr><td>2020-01-17</td><td>  62</td><td> 2</td><td> 3</td><td>0.003565787</td><td>2.530846e-05</td><td>11081000</td><td>40</td></tr>\n",
       "\t<tr><td>2020-01-18</td><td> 121</td><td> 3</td><td> 3</td><td>0.003565787</td><td>2.530846e-05</td><td>11081000</td><td>41</td></tr>\n",
       "\t<tr><td>2020-01-19</td><td> 198</td><td> 4</td><td> 3</td><td>0.003565787</td><td>2.530846e-05</td><td>11081000</td><td>42</td></tr>\n",
       "\t<tr><td>2020-01-20</td><td> 291</td><td> 7</td><td> 4</td><td>0.003565787</td><td>2.530846e-05</td><td>11081000</td><td>43</td></tr>\n",
       "\t<tr><td>2020-01-21</td><td> 440</td><td>18</td><td> 6</td><td>0.003565787</td><td>2.530846e-05</td><td>11081000</td><td>44</td></tr>\n",
       "\t<tr><td>2020-01-22</td><td> 571</td><td>24</td><td> 8</td><td>0.003565787</td><td>2.530846e-05</td><td>11081000</td><td>45</td></tr>\n",
       "\t<tr><td>2020-01-23</td><td> 830</td><td>34</td><td>11</td><td>0.003565787</td><td>2.530846e-05</td><td>11081000</td><td>46</td></tr>\n",
       "\t<tr><td>2020-01-24</td><td>1118</td><td>41</td><td>20</td><td>0.003565787</td><td>2.530846e-05</td><td>11081000</td><td>47</td></tr>\n",
       "</tbody>\n",
       "</table>\n"
      ],
      "text/latex": [
       "A tibble: 10 × 8\n",
       "\\begin{tabular}{llllllll}\n",
       " date & reported & deaths & exports & prob\\_travel & prob\\_HN & popWuhan & time\\\\\n",
       " <date> & <dbl> & <dbl> & <dbl> & <dbl> & <dbl> & <dbl> & <int>\\\\\n",
       "\\hline\n",
       "\t 2020-01-15 &   41 &  2 &  1 & 0.003565787 & 2.530846e-05 & 11081000 & 38\\\\\n",
       "\t 2020-01-16 &   45 &  2 &  2 & 0.003565787 & 2.530846e-05 & 11081000 & 39\\\\\n",
       "\t 2020-01-17 &   62 &  2 &  3 & 0.003565787 & 2.530846e-05 & 11081000 & 40\\\\\n",
       "\t 2020-01-18 &  121 &  3 &  3 & 0.003565787 & 2.530846e-05 & 11081000 & 41\\\\\n",
       "\t 2020-01-19 &  198 &  4 &  3 & 0.003565787 & 2.530846e-05 & 11081000 & 42\\\\\n",
       "\t 2020-01-20 &  291 &  7 &  4 & 0.003565787 & 2.530846e-05 & 11081000 & 43\\\\\n",
       "\t 2020-01-21 &  440 & 18 &  6 & 0.003565787 & 2.530846e-05 & 11081000 & 44\\\\\n",
       "\t 2020-01-22 &  571 & 24 &  8 & 0.003565787 & 2.530846e-05 & 11081000 & 45\\\\\n",
       "\t 2020-01-23 &  830 & 34 & 11 & 0.003565787 & 2.530846e-05 & 11081000 & 46\\\\\n",
       "\t 2020-01-24 & 1118 & 41 & 20 & 0.003565787 & 2.530846e-05 & 11081000 & 47\\\\\n",
       "\\end{tabular}\n"
      ],
      "text/markdown": [
       "\n",
       "A tibble: 10 × 8\n",
       "\n",
       "| date &lt;date&gt; | reported &lt;dbl&gt; | deaths &lt;dbl&gt; | exports &lt;dbl&gt; | prob_travel &lt;dbl&gt; | prob_HN &lt;dbl&gt; | popWuhan &lt;dbl&gt; | time &lt;int&gt; |\n",
       "|---|---|---|---|---|---|---|---|\n",
       "| 2020-01-15 |   41 |  2 |  1 | 0.003565787 | 2.530846e-05 | 11081000 | 38 |\n",
       "| 2020-01-16 |   45 |  2 |  2 | 0.003565787 | 2.530846e-05 | 11081000 | 39 |\n",
       "| 2020-01-17 |   62 |  2 |  3 | 0.003565787 | 2.530846e-05 | 11081000 | 40 |\n",
       "| 2020-01-18 |  121 |  3 |  3 | 0.003565787 | 2.530846e-05 | 11081000 | 41 |\n",
       "| 2020-01-19 |  198 |  4 |  3 | 0.003565787 | 2.530846e-05 | 11081000 | 42 |\n",
       "| 2020-01-20 |  291 |  7 |  4 | 0.003565787 | 2.530846e-05 | 11081000 | 43 |\n",
       "| 2020-01-21 |  440 | 18 |  6 | 0.003565787 | 2.530846e-05 | 11081000 | 44 |\n",
       "| 2020-01-22 |  571 | 24 |  8 | 0.003565787 | 2.530846e-05 | 11081000 | 45 |\n",
       "| 2020-01-23 |  830 | 34 | 11 | 0.003565787 | 2.530846e-05 | 11081000 | 46 |\n",
       "| 2020-01-24 | 1118 | 41 | 20 | 0.003565787 | 2.530846e-05 | 11081000 | 47 |\n",
       "\n"
      ],
      "text/plain": [
       "   date       reported deaths exports prob_travel prob_HN      popWuhan time\n",
       "1  2020-01-15   41      2      1      0.003565787 2.530846e-05 11081000 38  \n",
       "2  2020-01-16   45      2      2      0.003565787 2.530846e-05 11081000 39  \n",
       "3  2020-01-17   62      2      3      0.003565787 2.530846e-05 11081000 40  \n",
       "4  2020-01-18  121      3      3      0.003565787 2.530846e-05 11081000 41  \n",
       "5  2020-01-19  198      4      3      0.003565787 2.530846e-05 11081000 42  \n",
       "6  2020-01-20  291      7      4      0.003565787 2.530846e-05 11081000 43  \n",
       "7  2020-01-21  440     18      6      0.003565787 2.530846e-05 11081000 44  \n",
       "8  2020-01-22  571     24      8      0.003565787 2.530846e-05 11081000 45  \n",
       "9  2020-01-23  830     34     11      0.003565787 2.530846e-05 11081000 46  \n",
       "10 2020-01-24 1118     41     20      0.003565787 2.530846e-05 11081000 47  "
      ]
     },
     "metadata": {},
     "output_type": "display_data"
    }
   ],
   "source": [
    "read_excel(datafilename, sheet=\"cases_CHN\") %>% \n",
    "    select(Date,Cases) %>%\n",
    "    rename(`date`=`Date`, `reported`=`Cases`) %>%\n",
    "    mutate(date=as.Date(date)) %>%\n",
    "    arrange(date) %>%\n",
    "    right_join(df) -> df\n",
    "\n",
    "df$reported[1] = 0\n",
    "df$reported = zoo::na.locf(df$reported, fromLast=FALSE)\n",
    "\n",
    "tail(df, 10)"
   ]
  },
  {
   "cell_type": "code",
   "execution_count": 54,
   "metadata": {},
   "outputs": [
    {
     "data": {
      "text/html": [
       "<table>\n",
       "<caption>A tibble: 10 × 8</caption>\n",
       "<thead>\n",
       "\t<tr><th scope=col>date</th><th scope=col>reported</th><th scope=col>deaths</th><th scope=col>exports</th><th scope=col>prob_travel</th><th scope=col>prob_HN</th><th scope=col>popWuhan</th><th scope=col>time</th></tr>\n",
       "\t<tr><th scope=col>&lt;date&gt;</th><th scope=col>&lt;dbl&gt;</th><th scope=col>&lt;dbl&gt;</th><th scope=col>&lt;dbl&gt;</th><th scope=col>&lt;dbl&gt;</th><th scope=col>&lt;dbl&gt;</th><th scope=col>&lt;dbl&gt;</th><th scope=col>&lt;int&gt;</th></tr>\n",
       "</thead>\n",
       "<tbody>\n",
       "\t<tr><td>2019-12-09</td><td>0</td><td>0</td><td>0</td><td>0.003565787</td><td>2.530846e-05</td><td>11081000</td><td> 1</td></tr>\n",
       "\t<tr><td>2019-12-10</td><td>0</td><td>0</td><td>0</td><td>0.003565787</td><td>2.530846e-05</td><td>11081000</td><td> 2</td></tr>\n",
       "\t<tr><td>2019-12-11</td><td>0</td><td>0</td><td>0</td><td>0.003565787</td><td>2.530846e-05</td><td>11081000</td><td> 3</td></tr>\n",
       "\t<tr><td>2019-12-12</td><td>0</td><td>0</td><td>0</td><td>0.003565787</td><td>2.530846e-05</td><td>11081000</td><td> 4</td></tr>\n",
       "\t<tr><td>2019-12-13</td><td>0</td><td>0</td><td>0</td><td>0.003565787</td><td>2.530846e-05</td><td>11081000</td><td> 5</td></tr>\n",
       "\t<tr><td>2019-12-14</td><td>0</td><td>0</td><td>0</td><td>0.003565787</td><td>2.530846e-05</td><td>11081000</td><td> 6</td></tr>\n",
       "\t<tr><td>2019-12-15</td><td>0</td><td>0</td><td>0</td><td>0.003565787</td><td>2.530846e-05</td><td>11081000</td><td> 7</td></tr>\n",
       "\t<tr><td>2019-12-16</td><td>0</td><td>0</td><td>0</td><td>0.003565787</td><td>2.530846e-05</td><td>11081000</td><td> 8</td></tr>\n",
       "\t<tr><td>2019-12-17</td><td>0</td><td>0</td><td>0</td><td>0.003565787</td><td>2.530846e-05</td><td>11081000</td><td> 9</td></tr>\n",
       "\t<tr><td>2019-12-18</td><td>0</td><td>0</td><td>0</td><td>0.003565787</td><td>2.530846e-05</td><td>11081000</td><td>10</td></tr>\n",
       "</tbody>\n",
       "</table>\n"
      ],
      "text/latex": [
       "A tibble: 10 × 8\n",
       "\\begin{tabular}{llllllll}\n",
       " date & reported & deaths & exports & prob\\_travel & prob\\_HN & popWuhan & time\\\\\n",
       " <date> & <dbl> & <dbl> & <dbl> & <dbl> & <dbl> & <dbl> & <int>\\\\\n",
       "\\hline\n",
       "\t 2019-12-09 & 0 & 0 & 0 & 0.003565787 & 2.530846e-05 & 11081000 &  1\\\\\n",
       "\t 2019-12-10 & 0 & 0 & 0 & 0.003565787 & 2.530846e-05 & 11081000 &  2\\\\\n",
       "\t 2019-12-11 & 0 & 0 & 0 & 0.003565787 & 2.530846e-05 & 11081000 &  3\\\\\n",
       "\t 2019-12-12 & 0 & 0 & 0 & 0.003565787 & 2.530846e-05 & 11081000 &  4\\\\\n",
       "\t 2019-12-13 & 0 & 0 & 0 & 0.003565787 & 2.530846e-05 & 11081000 &  5\\\\\n",
       "\t 2019-12-14 & 0 & 0 & 0 & 0.003565787 & 2.530846e-05 & 11081000 &  6\\\\\n",
       "\t 2019-12-15 & 0 & 0 & 0 & 0.003565787 & 2.530846e-05 & 11081000 &  7\\\\\n",
       "\t 2019-12-16 & 0 & 0 & 0 & 0.003565787 & 2.530846e-05 & 11081000 &  8\\\\\n",
       "\t 2019-12-17 & 0 & 0 & 0 & 0.003565787 & 2.530846e-05 & 11081000 &  9\\\\\n",
       "\t 2019-12-18 & 0 & 0 & 0 & 0.003565787 & 2.530846e-05 & 11081000 & 10\\\\\n",
       "\\end{tabular}\n"
      ],
      "text/markdown": [
       "\n",
       "A tibble: 10 × 8\n",
       "\n",
       "| date &lt;date&gt; | reported &lt;dbl&gt; | deaths &lt;dbl&gt; | exports &lt;dbl&gt; | prob_travel &lt;dbl&gt; | prob_HN &lt;dbl&gt; | popWuhan &lt;dbl&gt; | time &lt;int&gt; |\n",
       "|---|---|---|---|---|---|---|---|\n",
       "| 2019-12-09 | 0 | 0 | 0 | 0.003565787 | 2.530846e-05 | 11081000 |  1 |\n",
       "| 2019-12-10 | 0 | 0 | 0 | 0.003565787 | 2.530846e-05 | 11081000 |  2 |\n",
       "| 2019-12-11 | 0 | 0 | 0 | 0.003565787 | 2.530846e-05 | 11081000 |  3 |\n",
       "| 2019-12-12 | 0 | 0 | 0 | 0.003565787 | 2.530846e-05 | 11081000 |  4 |\n",
       "| 2019-12-13 | 0 | 0 | 0 | 0.003565787 | 2.530846e-05 | 11081000 |  5 |\n",
       "| 2019-12-14 | 0 | 0 | 0 | 0.003565787 | 2.530846e-05 | 11081000 |  6 |\n",
       "| 2019-12-15 | 0 | 0 | 0 | 0.003565787 | 2.530846e-05 | 11081000 |  7 |\n",
       "| 2019-12-16 | 0 | 0 | 0 | 0.003565787 | 2.530846e-05 | 11081000 |  8 |\n",
       "| 2019-12-17 | 0 | 0 | 0 | 0.003565787 | 2.530846e-05 | 11081000 |  9 |\n",
       "| 2019-12-18 | 0 | 0 | 0 | 0.003565787 | 2.530846e-05 | 11081000 | 10 |\n",
       "\n"
      ],
      "text/plain": [
       "   date       reported deaths exports prob_travel prob_HN      popWuhan time\n",
       "1  2019-12-09 0        0      0       0.003565787 2.530846e-05 11081000  1  \n",
       "2  2019-12-10 0        0      0       0.003565787 2.530846e-05 11081000  2  \n",
       "3  2019-12-11 0        0      0       0.003565787 2.530846e-05 11081000  3  \n",
       "4  2019-12-12 0        0      0       0.003565787 2.530846e-05 11081000  4  \n",
       "5  2019-12-13 0        0      0       0.003565787 2.530846e-05 11081000  5  \n",
       "6  2019-12-14 0        0      0       0.003565787 2.530846e-05 11081000  6  \n",
       "7  2019-12-15 0        0      0       0.003565787 2.530846e-05 11081000  7  \n",
       "8  2019-12-16 0        0      0       0.003565787 2.530846e-05 11081000  8  \n",
       "9  2019-12-17 0        0      0       0.003565787 2.530846e-05 11081000  9  \n",
       "10 2019-12-18 0        0      0       0.003565787 2.530846e-05 11081000 10  "
      ]
     },
     "metadata": {},
     "output_type": "display_data"
    }
   ],
   "source": [
    "head(df, 10)"
   ]
  },
  {
   "cell_type": "markdown",
   "metadata": {},
   "source": [
    "### <font color=\"orange\">Saving the dataframe</font>"
   ]
  },
  {
   "cell_type": "code",
   "execution_count": 55,
   "metadata": {},
   "outputs": [],
   "source": [
    "## re-arranging the column order\n",
    "df %<>% select(date, time, everything())"
   ]
  },
  {
   "cell_type": "code",
   "execution_count": 56,
   "metadata": {},
   "outputs": [],
   "source": [
    "flname = '../../data/data.csv'\n",
    "write.table(df, flname, row.names=FALSE, sep=\",\", quote = FALSE)"
   ]
  },
  {
   "cell_type": "markdown",
   "metadata": {},
   "source": [
    "## <font color=\"orange\">Data: onset to death </font>"
   ]
  },
  {
   "cell_type": "code",
   "execution_count": 57,
   "metadata": {},
   "outputs": [
    {
     "data": {
      "text/html": [
       "<table>\n",
       "<caption>A tibble: 34 × 3</caption>\n",
       "<thead>\n",
       "\t<tr><th scope=col>Onset</th><th scope=col>distUpper</th><th scope=col>dist</th></tr>\n",
       "\t<tr><th scope=col>&lt;dttm&gt;</th><th scope=col>&lt;dbl&gt;</th><th scope=col>&lt;dbl&gt;</th></tr>\n",
       "</thead>\n",
       "<tbody>\n",
       "\t<tr><td>2019-12-20</td><td>35</td><td>20</td></tr>\n",
       "\t<tr><td>2019-12-31</td><td>24</td><td>15</td></tr>\n",
       "\t<tr><td>2020-01-13</td><td>11</td><td> 6</td></tr>\n",
       "\t<tr><td>2020-01-10</td><td>14</td><td>10</td></tr>\n",
       "\t<tr><td>2020-01-06</td><td>18</td><td>14</td></tr>\n",
       "\t<tr><td>2019-12-10</td><td>45</td><td>41</td></tr>\n",
       "\t<tr><td>2020-01-09</td><td>15</td><td>12</td></tr>\n",
       "\t<tr><td>2019-12-22</td><td>33</td><td>30</td></tr>\n",
       "\t<tr><td>2020-01-15</td><td> 9</td><td> 7</td></tr>\n",
       "\t<tr><td>2020-01-03</td><td>21</td><td>19</td></tr>\n",
       "\t<tr><td>2020-01-08</td><td>16</td><td>13</td></tr>\n",
       "\t<tr><td>2020-01-11</td><td>13</td><td>10</td></tr>\n",
       "\t<tr><td>2020-01-10</td><td>14</td><td>11</td></tr>\n",
       "\t<tr><td>2020-01-02</td><td>22</td><td>19</td></tr>\n",
       "\t<tr><td>2020-01-06</td><td>18</td><td>16</td></tr>\n",
       "\t<tr><td>2020-01-06</td><td>18</td><td>17</td></tr>\n",
       "\t<tr><td>2019-12-29</td><td>26</td><td>24</td></tr>\n",
       "\t<tr><td>2020-01-15</td><td> 9</td><td> 8</td></tr>\n",
       "\t<tr><td>2020-01-09</td><td>15</td><td>12</td></tr>\n",
       "\t<tr><td>2020-01-15</td><td> 9</td><td> 8</td></tr>\n",
       "\t<tr><td>2020-01-18</td><td> 6</td><td> 6</td></tr>\n",
       "\t<tr><td>2020-01-11</td><td>13</td><td>12</td></tr>\n",
       "\t<tr><td>2020-01-11</td><td>13</td><td>13</td></tr>\n",
       "\t<tr><td>2020-01-08</td><td>16</td><td>16</td></tr>\n",
       "\t<tr><td>2020-01-12</td><td>12</td><td>11</td></tr>\n",
       "\t<tr><td>2020-01-09</td><td>15</td><td>12</td></tr>\n",
       "\t<tr><td>2020-01-03</td><td>21</td><td>21</td></tr>\n",
       "\t<tr><td>2020-01-11</td><td>13</td><td>10</td></tr>\n",
       "\t<tr><td>2020-01-13</td><td>11</td><td>11</td></tr>\n",
       "\t<tr><td>2020-01-12</td><td>12</td><td>11</td></tr>\n",
       "\t<tr><td>2020-01-10</td><td>14</td><td>14</td></tr>\n",
       "\t<tr><td>2019-12-22</td><td>33</td><td>32</td></tr>\n",
       "\t<tr><td>2020-01-05</td><td>19</td><td>18</td></tr>\n",
       "\t<tr><td>2020-01-10</td><td>14</td><td>13</td></tr>\n",
       "</tbody>\n",
       "</table>\n"
      ],
      "text/latex": [
       "A tibble: 34 × 3\n",
       "\\begin{tabular}{lll}\n",
       " Onset & distUpper & dist\\\\\n",
       " <dttm> & <dbl> & <dbl>\\\\\n",
       "\\hline\n",
       "\t 2019-12-20 & 35 & 20\\\\\n",
       "\t 2019-12-31 & 24 & 15\\\\\n",
       "\t 2020-01-13 & 11 &  6\\\\\n",
       "\t 2020-01-10 & 14 & 10\\\\\n",
       "\t 2020-01-06 & 18 & 14\\\\\n",
       "\t 2019-12-10 & 45 & 41\\\\\n",
       "\t 2020-01-09 & 15 & 12\\\\\n",
       "\t 2019-12-22 & 33 & 30\\\\\n",
       "\t 2020-01-15 &  9 &  7\\\\\n",
       "\t 2020-01-03 & 21 & 19\\\\\n",
       "\t 2020-01-08 & 16 & 13\\\\\n",
       "\t 2020-01-11 & 13 & 10\\\\\n",
       "\t 2020-01-10 & 14 & 11\\\\\n",
       "\t 2020-01-02 & 22 & 19\\\\\n",
       "\t 2020-01-06 & 18 & 16\\\\\n",
       "\t 2020-01-06 & 18 & 17\\\\\n",
       "\t 2019-12-29 & 26 & 24\\\\\n",
       "\t 2020-01-15 &  9 &  8\\\\\n",
       "\t 2020-01-09 & 15 & 12\\\\\n",
       "\t 2020-01-15 &  9 &  8\\\\\n",
       "\t 2020-01-18 &  6 &  6\\\\\n",
       "\t 2020-01-11 & 13 & 12\\\\\n",
       "\t 2020-01-11 & 13 & 13\\\\\n",
       "\t 2020-01-08 & 16 & 16\\\\\n",
       "\t 2020-01-12 & 12 & 11\\\\\n",
       "\t 2020-01-09 & 15 & 12\\\\\n",
       "\t 2020-01-03 & 21 & 21\\\\\n",
       "\t 2020-01-11 & 13 & 10\\\\\n",
       "\t 2020-01-13 & 11 & 11\\\\\n",
       "\t 2020-01-12 & 12 & 11\\\\\n",
       "\t 2020-01-10 & 14 & 14\\\\\n",
       "\t 2019-12-22 & 33 & 32\\\\\n",
       "\t 2020-01-05 & 19 & 18\\\\\n",
       "\t 2020-01-10 & 14 & 13\\\\\n",
       "\\end{tabular}\n"
      ],
      "text/markdown": [
       "\n",
       "A tibble: 34 × 3\n",
       "\n",
       "| Onset &lt;dttm&gt; | distUpper &lt;dbl&gt; | dist &lt;dbl&gt; |\n",
       "|---|---|---|\n",
       "| 2019-12-20 | 35 | 20 |\n",
       "| 2019-12-31 | 24 | 15 |\n",
       "| 2020-01-13 | 11 |  6 |\n",
       "| 2020-01-10 | 14 | 10 |\n",
       "| 2020-01-06 | 18 | 14 |\n",
       "| 2019-12-10 | 45 | 41 |\n",
       "| 2020-01-09 | 15 | 12 |\n",
       "| 2019-12-22 | 33 | 30 |\n",
       "| 2020-01-15 |  9 |  7 |\n",
       "| 2020-01-03 | 21 | 19 |\n",
       "| 2020-01-08 | 16 | 13 |\n",
       "| 2020-01-11 | 13 | 10 |\n",
       "| 2020-01-10 | 14 | 11 |\n",
       "| 2020-01-02 | 22 | 19 |\n",
       "| 2020-01-06 | 18 | 16 |\n",
       "| 2020-01-06 | 18 | 17 |\n",
       "| 2019-12-29 | 26 | 24 |\n",
       "| 2020-01-15 |  9 |  8 |\n",
       "| 2020-01-09 | 15 | 12 |\n",
       "| 2020-01-15 |  9 |  8 |\n",
       "| 2020-01-18 |  6 |  6 |\n",
       "| 2020-01-11 | 13 | 12 |\n",
       "| 2020-01-11 | 13 | 13 |\n",
       "| 2020-01-08 | 16 | 16 |\n",
       "| 2020-01-12 | 12 | 11 |\n",
       "| 2020-01-09 | 15 | 12 |\n",
       "| 2020-01-03 | 21 | 21 |\n",
       "| 2020-01-11 | 13 | 10 |\n",
       "| 2020-01-13 | 11 | 11 |\n",
       "| 2020-01-12 | 12 | 11 |\n",
       "| 2020-01-10 | 14 | 14 |\n",
       "| 2019-12-22 | 33 | 32 |\n",
       "| 2020-01-05 | 19 | 18 |\n",
       "| 2020-01-10 | 14 | 13 |\n",
       "\n"
      ],
      "text/plain": [
       "   Onset      distUpper dist\n",
       "1  2019-12-20 35        20  \n",
       "2  2019-12-31 24        15  \n",
       "3  2020-01-13 11         6  \n",
       "4  2020-01-10 14        10  \n",
       "5  2020-01-06 18        14  \n",
       "6  2019-12-10 45        41  \n",
       "7  2020-01-09 15        12  \n",
       "8  2019-12-22 33        30  \n",
       "9  2020-01-15  9         7  \n",
       "10 2020-01-03 21        19  \n",
       "11 2020-01-08 16        13  \n",
       "12 2020-01-11 13        10  \n",
       "13 2020-01-10 14        11  \n",
       "14 2020-01-02 22        19  \n",
       "15 2020-01-06 18        16  \n",
       "16 2020-01-06 18        17  \n",
       "17 2019-12-29 26        24  \n",
       "18 2020-01-15  9         8  \n",
       "19 2020-01-09 15        12  \n",
       "20 2020-01-15  9         8  \n",
       "21 2020-01-18  6         6  \n",
       "22 2020-01-11 13        12  \n",
       "23 2020-01-11 13        13  \n",
       "24 2020-01-08 16        16  \n",
       "25 2020-01-12 12        11  \n",
       "26 2020-01-09 15        12  \n",
       "27 2020-01-03 21        21  \n",
       "28 2020-01-11 13        10  \n",
       "29 2020-01-13 11        11  \n",
       "30 2020-01-12 12        11  \n",
       "31 2020-01-10 14        14  \n",
       "32 2019-12-22 33        32  \n",
       "33 2020-01-05 19        18  \n",
       "34 2020-01-10 14        13  "
      ]
     },
     "metadata": {},
     "output_type": "display_data"
    }
   ],
   "source": [
    "read_excel(datafilename, sheet=\"deaths\") %>% \n",
    "    select(Onset, DateOfDeath) %>%\n",
    "    mutate(dist = as.numeric(as.Date(DateOfDeath) - as.Date(Onset)),\n",
    "           distUpper = as.numeric(CUTOFF_DATE - as.Date(Onset))) %>%\n",
    "    na.omit() %>% \n",
    "    filter(as.Date(DateOfDeath) <= CUTOFF_DATE) %>%\n",
    "    select(Onset,distUpper,dist) -> df_onset2death\n",
    "\n",
    "df_onset2death %>% write.table('../../data/data_onset2death.csv', row.names=FALSE, sep=\",\", quote = FALSE)\n",
    "df_onset2death"
   ]
  },
  {
   "cell_type": "markdown",
   "metadata": {},
   "source": [
    "## <font color=\"orange\">Data: onset to reporting for overseas travellers</font>"
   ]
  },
  {
   "cell_type": "code",
   "execution_count": 58,
   "metadata": {},
   "outputs": [
    {
     "data": {
      "text/html": [
       "249"
      ],
      "text/latex": [
       "249"
      ],
      "text/markdown": [
       "249"
      ],
      "text/plain": [
       "[1] 249"
      ]
     },
     "metadata": {},
     "output_type": "display_data"
    }
   ],
   "source": [
    "read_excel(datafilename, sheet=\"export\") %>%\n",
    "    filter(DiagnosisCountry!='China') %>% nrow"
   ]
  },
  {
   "cell_type": "code",
   "execution_count": 59,
   "metadata": {},
   "outputs": [
    {
     "data": {
      "text/html": [
       "<table>\n",
       "<caption>A tibble: 51 × 4</caption>\n",
       "<thead>\n",
       "\t<tr><th scope=col>Onset</th><th scope=col>DateReportedConfirmed</th><th scope=col>dist</th><th scope=col>distUpper</th></tr>\n",
       "\t<tr><th scope=col>&lt;dttm&gt;</th><th scope=col>&lt;dttm&gt;</th><th scope=col>&lt;dbl&gt;</th><th scope=col>&lt;dbl&gt;</th></tr>\n",
       "</thead>\n",
       "<tbody>\n",
       "\t<tr><td>2020-01-03</td><td>2020-01-16</td><td>13</td><td>21</td></tr>\n",
       "\t<tr><td>2020-01-05</td><td>2020-01-13</td><td> 8</td><td>19</td></tr>\n",
       "\t<tr><td>2020-01-18</td><td>2020-01-20</td><td> 2</td><td> 6</td></tr>\n",
       "\t<tr><td>2020-01-15</td><td>2020-01-21</td><td> 6</td><td> 9</td></tr>\n",
       "\t<tr><td>2020-01-17</td><td>2020-01-23</td><td> 6</td><td> 7</td></tr>\n",
       "\t<tr><td>2020-01-20</td><td>2020-01-23</td><td> 3</td><td> 4</td></tr>\n",
       "\t<tr><td>2020-01-14</td><td>2020-01-24</td><td>10</td><td>10</td></tr>\n",
       "\t<tr><td>2020-01-21</td><td>2020-01-23</td><td> 2</td><td> 3</td></tr>\n",
       "\t<tr><td>2020-01-10</td><td>2020-01-24</td><td>14</td><td>14</td></tr>\n",
       "\t<tr><td>2020-01-21</td><td>2020-01-24</td><td> 3</td><td> 3</td></tr>\n",
       "\t<tr><td>2020-01-23</td><td>2020-01-24</td><td> 1</td><td> 1</td></tr>\n",
       "\t<tr><td>2020-01-22</td><td>2020-01-24</td><td> 2</td><td> 2</td></tr>\n",
       "\t<tr><td>2020-01-16</td><td>2020-01-24</td><td> 8</td><td> 8</td></tr>\n",
       "\t<tr><td>2020-01-23</td><td>2020-01-25</td><td> 2</td><td> 1</td></tr>\n",
       "\t<tr><td>2020-01-19</td><td>2020-01-25</td><td> 6</td><td> 5</td></tr>\n",
       "\t<tr><td>2020-01-23</td><td>2020-01-25</td><td> 2</td><td> 1</td></tr>\n",
       "\t<tr><td>2020-01-20</td><td>2020-01-25</td><td> 5</td><td> 4</td></tr>\n",
       "\t<tr><td>2020-01-23</td><td>2020-01-24</td><td> 1</td><td> 1</td></tr>\n",
       "\t<tr><td>2020-01-23</td><td>2020-01-24</td><td> 1</td><td> 1</td></tr>\n",
       "\t<tr><td>2020-01-23</td><td>2020-01-25</td><td> 2</td><td> 1</td></tr>\n",
       "\t<tr><td>2020-01-21</td><td>2020-01-25</td><td> 4</td><td> 3</td></tr>\n",
       "\t<tr><td>2020-01-15</td><td>2020-01-25</td><td>10</td><td> 9</td></tr>\n",
       "\t<tr><td>2020-01-24</td><td>2020-01-25</td><td> 1</td><td> 0</td></tr>\n",
       "\t<tr><td>2020-01-22</td><td>2020-01-26</td><td> 4</td><td> 2</td></tr>\n",
       "\t<tr><td>2020-01-23</td><td>2020-01-26</td><td> 3</td><td> 1</td></tr>\n",
       "\t<tr><td>2020-01-23</td><td>2020-01-25</td><td> 2</td><td> 1</td></tr>\n",
       "\t<tr><td>2020-01-22</td><td>2020-01-26</td><td> 4</td><td> 2</td></tr>\n",
       "\t<tr><td>2020-01-24</td><td>2020-01-28</td><td> 4</td><td> 0</td></tr>\n",
       "\t<tr><td>2020-01-24</td><td>2020-01-28</td><td> 4</td><td> 0</td></tr>\n",
       "\t<tr><td>2020-01-14</td><td>2020-01-28</td><td>14</td><td>10</td></tr>\n",
       "\t<tr><td>2020-01-23</td><td>2020-01-26</td><td> 3</td><td> 1</td></tr>\n",
       "\t<tr><td>2020-01-22</td><td>2020-01-28</td><td> 6</td><td> 2</td></tr>\n",
       "\t<tr><td>2020-01-24</td><td>2020-01-28</td><td> 4</td><td> 0</td></tr>\n",
       "\t<tr><td>2020-01-23</td><td>2020-01-30</td><td> 7</td><td> 1</td></tr>\n",
       "\t<tr><td>2020-01-20</td><td>2020-01-30</td><td>10</td><td> 4</td></tr>\n",
       "\t<tr><td>2020-01-20</td><td>2020-01-29</td><td> 9</td><td> 4</td></tr>\n",
       "\t<tr><td>2020-01-24</td><td>2020-01-29</td><td> 5</td><td> 0</td></tr>\n",
       "\t<tr><td>2020-01-24</td><td>2020-01-29</td><td> 5</td><td> 0</td></tr>\n",
       "\t<tr><td>2020-01-21</td><td>2020-01-29</td><td> 8</td><td> 3</td></tr>\n",
       "\t<tr><td>2020-01-24</td><td>2020-01-30</td><td> 6</td><td> 0</td></tr>\n",
       "\t<tr><td>2020-01-23</td><td>2020-01-30</td><td> 7</td><td> 1</td></tr>\n",
       "\t<tr><td>2020-01-20</td><td>2020-01-31</td><td>11</td><td> 4</td></tr>\n",
       "\t<tr><td>2020-01-24</td><td>2020-01-31</td><td> 7</td><td> 0</td></tr>\n",
       "\t<tr><td>2020-01-19</td><td>2020-01-28</td><td> 9</td><td> 5</td></tr>\n",
       "\t<tr><td>2020-01-23</td><td>2020-01-31</td><td> 8</td><td> 1</td></tr>\n",
       "\t<tr><td>2020-01-12</td><td>2020-01-31</td><td>19</td><td>12</td></tr>\n",
       "\t<tr><td>2020-01-24</td><td>2020-02-05</td><td>12</td><td> 0</td></tr>\n",
       "\t<tr><td>2020-01-24</td><td>2020-02-05</td><td>12</td><td> 0</td></tr>\n",
       "\t<tr><td>2020-01-23</td><td>2020-02-04</td><td>12</td><td> 1</td></tr>\n",
       "\t<tr><td>2020-01-20</td><td>2020-02-05</td><td>16</td><td> 4</td></tr>\n",
       "\t<tr><td>2020-01-24</td><td>2020-02-05</td><td>12</td><td> 0</td></tr>\n",
       "</tbody>\n",
       "</table>\n"
      ],
      "text/latex": [
       "A tibble: 51 × 4\n",
       "\\begin{tabular}{llll}\n",
       " Onset & DateReportedConfirmed & dist & distUpper\\\\\n",
       " <dttm> & <dttm> & <dbl> & <dbl>\\\\\n",
       "\\hline\n",
       "\t 2020-01-03 & 2020-01-16 & 13 & 21\\\\\n",
       "\t 2020-01-05 & 2020-01-13 &  8 & 19\\\\\n",
       "\t 2020-01-18 & 2020-01-20 &  2 &  6\\\\\n",
       "\t 2020-01-15 & 2020-01-21 &  6 &  9\\\\\n",
       "\t 2020-01-17 & 2020-01-23 &  6 &  7\\\\\n",
       "\t 2020-01-20 & 2020-01-23 &  3 &  4\\\\\n",
       "\t 2020-01-14 & 2020-01-24 & 10 & 10\\\\\n",
       "\t 2020-01-21 & 2020-01-23 &  2 &  3\\\\\n",
       "\t 2020-01-10 & 2020-01-24 & 14 & 14\\\\\n",
       "\t 2020-01-21 & 2020-01-24 &  3 &  3\\\\\n",
       "\t 2020-01-23 & 2020-01-24 &  1 &  1\\\\\n",
       "\t 2020-01-22 & 2020-01-24 &  2 &  2\\\\\n",
       "\t 2020-01-16 & 2020-01-24 &  8 &  8\\\\\n",
       "\t 2020-01-23 & 2020-01-25 &  2 &  1\\\\\n",
       "\t 2020-01-19 & 2020-01-25 &  6 &  5\\\\\n",
       "\t 2020-01-23 & 2020-01-25 &  2 &  1\\\\\n",
       "\t 2020-01-20 & 2020-01-25 &  5 &  4\\\\\n",
       "\t 2020-01-23 & 2020-01-24 &  1 &  1\\\\\n",
       "\t 2020-01-23 & 2020-01-24 &  1 &  1\\\\\n",
       "\t 2020-01-23 & 2020-01-25 &  2 &  1\\\\\n",
       "\t 2020-01-21 & 2020-01-25 &  4 &  3\\\\\n",
       "\t 2020-01-15 & 2020-01-25 & 10 &  9\\\\\n",
       "\t 2020-01-24 & 2020-01-25 &  1 &  0\\\\\n",
       "\t 2020-01-22 & 2020-01-26 &  4 &  2\\\\\n",
       "\t 2020-01-23 & 2020-01-26 &  3 &  1\\\\\n",
       "\t 2020-01-23 & 2020-01-25 &  2 &  1\\\\\n",
       "\t 2020-01-22 & 2020-01-26 &  4 &  2\\\\\n",
       "\t 2020-01-24 & 2020-01-28 &  4 &  0\\\\\n",
       "\t 2020-01-24 & 2020-01-28 &  4 &  0\\\\\n",
       "\t 2020-01-14 & 2020-01-28 & 14 & 10\\\\\n",
       "\t 2020-01-23 & 2020-01-26 &  3 &  1\\\\\n",
       "\t 2020-01-22 & 2020-01-28 &  6 &  2\\\\\n",
       "\t 2020-01-24 & 2020-01-28 &  4 &  0\\\\\n",
       "\t 2020-01-23 & 2020-01-30 &  7 &  1\\\\\n",
       "\t 2020-01-20 & 2020-01-30 & 10 &  4\\\\\n",
       "\t 2020-01-20 & 2020-01-29 &  9 &  4\\\\\n",
       "\t 2020-01-24 & 2020-01-29 &  5 &  0\\\\\n",
       "\t 2020-01-24 & 2020-01-29 &  5 &  0\\\\\n",
       "\t 2020-01-21 & 2020-01-29 &  8 &  3\\\\\n",
       "\t 2020-01-24 & 2020-01-30 &  6 &  0\\\\\n",
       "\t 2020-01-23 & 2020-01-30 &  7 &  1\\\\\n",
       "\t 2020-01-20 & 2020-01-31 & 11 &  4\\\\\n",
       "\t 2020-01-24 & 2020-01-31 &  7 &  0\\\\\n",
       "\t 2020-01-19 & 2020-01-28 &  9 &  5\\\\\n",
       "\t 2020-01-23 & 2020-01-31 &  8 &  1\\\\\n",
       "\t 2020-01-12 & 2020-01-31 & 19 & 12\\\\\n",
       "\t 2020-01-24 & 2020-02-05 & 12 &  0\\\\\n",
       "\t 2020-01-24 & 2020-02-05 & 12 &  0\\\\\n",
       "\t 2020-01-23 & 2020-02-04 & 12 &  1\\\\\n",
       "\t 2020-01-20 & 2020-02-05 & 16 &  4\\\\\n",
       "\t 2020-01-24 & 2020-02-05 & 12 &  0\\\\\n",
       "\\end{tabular}\n"
      ],
      "text/markdown": [
       "\n",
       "A tibble: 51 × 4\n",
       "\n",
       "| Onset &lt;dttm&gt; | DateReportedConfirmed &lt;dttm&gt; | dist &lt;dbl&gt; | distUpper &lt;dbl&gt; |\n",
       "|---|---|---|---|\n",
       "| 2020-01-03 | 2020-01-16 | 13 | 21 |\n",
       "| 2020-01-05 | 2020-01-13 |  8 | 19 |\n",
       "| 2020-01-18 | 2020-01-20 |  2 |  6 |\n",
       "| 2020-01-15 | 2020-01-21 |  6 |  9 |\n",
       "| 2020-01-17 | 2020-01-23 |  6 |  7 |\n",
       "| 2020-01-20 | 2020-01-23 |  3 |  4 |\n",
       "| 2020-01-14 | 2020-01-24 | 10 | 10 |\n",
       "| 2020-01-21 | 2020-01-23 |  2 |  3 |\n",
       "| 2020-01-10 | 2020-01-24 | 14 | 14 |\n",
       "| 2020-01-21 | 2020-01-24 |  3 |  3 |\n",
       "| 2020-01-23 | 2020-01-24 |  1 |  1 |\n",
       "| 2020-01-22 | 2020-01-24 |  2 |  2 |\n",
       "| 2020-01-16 | 2020-01-24 |  8 |  8 |\n",
       "| 2020-01-23 | 2020-01-25 |  2 |  1 |\n",
       "| 2020-01-19 | 2020-01-25 |  6 |  5 |\n",
       "| 2020-01-23 | 2020-01-25 |  2 |  1 |\n",
       "| 2020-01-20 | 2020-01-25 |  5 |  4 |\n",
       "| 2020-01-23 | 2020-01-24 |  1 |  1 |\n",
       "| 2020-01-23 | 2020-01-24 |  1 |  1 |\n",
       "| 2020-01-23 | 2020-01-25 |  2 |  1 |\n",
       "| 2020-01-21 | 2020-01-25 |  4 |  3 |\n",
       "| 2020-01-15 | 2020-01-25 | 10 |  9 |\n",
       "| 2020-01-24 | 2020-01-25 |  1 |  0 |\n",
       "| 2020-01-22 | 2020-01-26 |  4 |  2 |\n",
       "| 2020-01-23 | 2020-01-26 |  3 |  1 |\n",
       "| 2020-01-23 | 2020-01-25 |  2 |  1 |\n",
       "| 2020-01-22 | 2020-01-26 |  4 |  2 |\n",
       "| 2020-01-24 | 2020-01-28 |  4 |  0 |\n",
       "| 2020-01-24 | 2020-01-28 |  4 |  0 |\n",
       "| 2020-01-14 | 2020-01-28 | 14 | 10 |\n",
       "| 2020-01-23 | 2020-01-26 |  3 |  1 |\n",
       "| 2020-01-22 | 2020-01-28 |  6 |  2 |\n",
       "| 2020-01-24 | 2020-01-28 |  4 |  0 |\n",
       "| 2020-01-23 | 2020-01-30 |  7 |  1 |\n",
       "| 2020-01-20 | 2020-01-30 | 10 |  4 |\n",
       "| 2020-01-20 | 2020-01-29 |  9 |  4 |\n",
       "| 2020-01-24 | 2020-01-29 |  5 |  0 |\n",
       "| 2020-01-24 | 2020-01-29 |  5 |  0 |\n",
       "| 2020-01-21 | 2020-01-29 |  8 |  3 |\n",
       "| 2020-01-24 | 2020-01-30 |  6 |  0 |\n",
       "| 2020-01-23 | 2020-01-30 |  7 |  1 |\n",
       "| 2020-01-20 | 2020-01-31 | 11 |  4 |\n",
       "| 2020-01-24 | 2020-01-31 |  7 |  0 |\n",
       "| 2020-01-19 | 2020-01-28 |  9 |  5 |\n",
       "| 2020-01-23 | 2020-01-31 |  8 |  1 |\n",
       "| 2020-01-12 | 2020-01-31 | 19 | 12 |\n",
       "| 2020-01-24 | 2020-02-05 | 12 |  0 |\n",
       "| 2020-01-24 | 2020-02-05 | 12 |  0 |\n",
       "| 2020-01-23 | 2020-02-04 | 12 |  1 |\n",
       "| 2020-01-20 | 2020-02-05 | 16 |  4 |\n",
       "| 2020-01-24 | 2020-02-05 | 12 |  0 |\n",
       "\n"
      ],
      "text/plain": [
       "   Onset      DateReportedConfirmed dist distUpper\n",
       "1  2020-01-03 2020-01-16            13   21       \n",
       "2  2020-01-05 2020-01-13             8   19       \n",
       "3  2020-01-18 2020-01-20             2    6       \n",
       "4  2020-01-15 2020-01-21             6    9       \n",
       "5  2020-01-17 2020-01-23             6    7       \n",
       "6  2020-01-20 2020-01-23             3    4       \n",
       "7  2020-01-14 2020-01-24            10   10       \n",
       "8  2020-01-21 2020-01-23             2    3       \n",
       "9  2020-01-10 2020-01-24            14   14       \n",
       "10 2020-01-21 2020-01-24             3    3       \n",
       "11 2020-01-23 2020-01-24             1    1       \n",
       "12 2020-01-22 2020-01-24             2    2       \n",
       "13 2020-01-16 2020-01-24             8    8       \n",
       "14 2020-01-23 2020-01-25             2    1       \n",
       "15 2020-01-19 2020-01-25             6    5       \n",
       "16 2020-01-23 2020-01-25             2    1       \n",
       "17 2020-01-20 2020-01-25             5    4       \n",
       "18 2020-01-23 2020-01-24             1    1       \n",
       "19 2020-01-23 2020-01-24             1    1       \n",
       "20 2020-01-23 2020-01-25             2    1       \n",
       "21 2020-01-21 2020-01-25             4    3       \n",
       "22 2020-01-15 2020-01-25            10    9       \n",
       "23 2020-01-24 2020-01-25             1    0       \n",
       "24 2020-01-22 2020-01-26             4    2       \n",
       "25 2020-01-23 2020-01-26             3    1       \n",
       "26 2020-01-23 2020-01-25             2    1       \n",
       "27 2020-01-22 2020-01-26             4    2       \n",
       "28 2020-01-24 2020-01-28             4    0       \n",
       "29 2020-01-24 2020-01-28             4    0       \n",
       "30 2020-01-14 2020-01-28            14   10       \n",
       "31 2020-01-23 2020-01-26             3    1       \n",
       "32 2020-01-22 2020-01-28             6    2       \n",
       "33 2020-01-24 2020-01-28             4    0       \n",
       "34 2020-01-23 2020-01-30             7    1       \n",
       "35 2020-01-20 2020-01-30            10    4       \n",
       "36 2020-01-20 2020-01-29             9    4       \n",
       "37 2020-01-24 2020-01-29             5    0       \n",
       "38 2020-01-24 2020-01-29             5    0       \n",
       "39 2020-01-21 2020-01-29             8    3       \n",
       "40 2020-01-24 2020-01-30             6    0       \n",
       "41 2020-01-23 2020-01-30             7    1       \n",
       "42 2020-01-20 2020-01-31            11    4       \n",
       "43 2020-01-24 2020-01-31             7    0       \n",
       "44 2020-01-19 2020-01-28             9    5       \n",
       "45 2020-01-23 2020-01-31             8    1       \n",
       "46 2020-01-12 2020-01-31            19   12       \n",
       "47 2020-01-24 2020-02-05            12    0       \n",
       "48 2020-01-24 2020-02-05            12    0       \n",
       "49 2020-01-23 2020-02-04            12    1       \n",
       "50 2020-01-20 2020-02-05            16    4       \n",
       "51 2020-01-24 2020-02-05            12    0       "
      ]
     },
     "metadata": {},
     "output_type": "display_data"
    }
   ],
   "source": [
    "read_excel(datafilename, sheet=\"export\") %>%\n",
    "    filter(DiagnosisCountry!='China') %>%\n",
    "    select(Onset, DateReportedConfirmed) %>%\n",
    "    mutate(dist = as.numeric(as.Date(DateReportedConfirmed) - as.Date(Onset)),\n",
    "           distUpper = as.numeric(CUTOFF_DATE - as.Date(Onset))) %>%\n",
    "    filter(as.Date(Onset) <= CUTOFF_DATE) -> df_onset2report\n",
    "\n",
    "df_onset2report"
   ]
  },
  {
   "cell_type": "code",
   "execution_count": 60,
   "metadata": {},
   "outputs": [
    {
     "data": {
      "text/html": [
       "<table>\n",
       "<caption>A tibble: 6 × 3</caption>\n",
       "<thead>\n",
       "\t<tr><th scope=col>Onset</th><th scope=col>distUpper</th><th scope=col>dist</th></tr>\n",
       "\t<tr><th scope=col>&lt;dttm&gt;</th><th scope=col>&lt;dbl&gt;</th><th scope=col>&lt;dbl&gt;</th></tr>\n",
       "</thead>\n",
       "<tbody>\n",
       "\t<tr><td>2020-01-03</td><td>21</td><td>13</td></tr>\n",
       "\t<tr><td>2020-01-05</td><td>19</td><td> 8</td></tr>\n",
       "\t<tr><td>2020-01-18</td><td> 6</td><td> 2</td></tr>\n",
       "\t<tr><td>2020-01-15</td><td> 9</td><td> 6</td></tr>\n",
       "\t<tr><td>2020-01-17</td><td> 7</td><td> 6</td></tr>\n",
       "\t<tr><td>2020-01-20</td><td> 4</td><td> 3</td></tr>\n",
       "</tbody>\n",
       "</table>\n"
      ],
      "text/latex": [
       "A tibble: 6 × 3\n",
       "\\begin{tabular}{lll}\n",
       " Onset & distUpper & dist\\\\\n",
       " <dttm> & <dbl> & <dbl>\\\\\n",
       "\\hline\n",
       "\t 2020-01-03 & 21 & 13\\\\\n",
       "\t 2020-01-05 & 19 &  8\\\\\n",
       "\t 2020-01-18 &  6 &  2\\\\\n",
       "\t 2020-01-15 &  9 &  6\\\\\n",
       "\t 2020-01-17 &  7 &  6\\\\\n",
       "\t 2020-01-20 &  4 &  3\\\\\n",
       "\\end{tabular}\n"
      ],
      "text/markdown": [
       "\n",
       "A tibble: 6 × 3\n",
       "\n",
       "| Onset &lt;dttm&gt; | distUpper &lt;dbl&gt; | dist &lt;dbl&gt; |\n",
       "|---|---|---|\n",
       "| 2020-01-03 | 21 | 13 |\n",
       "| 2020-01-05 | 19 |  8 |\n",
       "| 2020-01-18 |  6 |  2 |\n",
       "| 2020-01-15 |  9 |  6 |\n",
       "| 2020-01-17 |  7 |  6 |\n",
       "| 2020-01-20 |  4 |  3 |\n",
       "\n"
      ],
      "text/plain": [
       "  Onset      distUpper dist\n",
       "1 2020-01-03 21        13  \n",
       "2 2020-01-05 19         8  \n",
       "3 2020-01-18  6         2  \n",
       "4 2020-01-15  9         6  \n",
       "5 2020-01-17  7         6  \n",
       "6 2020-01-20  4         3  "
      ]
     },
     "metadata": {},
     "output_type": "display_data"
    }
   ],
   "source": [
    "df_onset2report %<>%\n",
    "    na.omit() %>% \n",
    "    select(Onset,distUpper,dist) -> df_onset2report\n",
    "\n",
    "df_onset2report %>% write.table('../../data/data_onset2report.csv', row.names=FALSE, sep=\",\", quote = FALSE)\n",
    "df_onset2report %>% head"
   ]
  },
  {
   "cell_type": "code",
   "execution_count": null,
   "metadata": {},
   "outputs": [],
   "source": []
  }
 ],
 "metadata": {
  "kernelspec": {
   "display_name": "R",
   "language": "R",
   "name": "ir"
  },
  "language_info": {
   "codemirror_mode": "r",
   "file_extension": ".r",
   "mimetype": "text/x-r-source",
   "name": "R",
   "pygments_lexer": "r",
   "version": "3.6.1"
  }
 },
 "nbformat": 4,
 "nbformat_minor": 4
}
