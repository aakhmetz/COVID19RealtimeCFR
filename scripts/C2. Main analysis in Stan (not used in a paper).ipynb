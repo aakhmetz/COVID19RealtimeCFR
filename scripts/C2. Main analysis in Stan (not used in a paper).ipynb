{
 "cells": [
  {
   "cell_type": "code",
   "execution_count": 8,
   "metadata": {},
   "outputs": [
    {
     "name": "stderr",
     "output_type": "stream",
     "text": [
      "rstan (Version 2.19.2, GitRev: 2e1f913d3ca3)\n",
      "\n",
      "For execution on a local, multicore CPU with excess RAM we recommend calling\n",
      "options(mc.cores = parallel::detectCores()).\n",
      "To avoid recompilation of unchanged Stan programs, we recommend calling\n",
      "rstan_options(auto_write = TRUE)\n",
      "\n",
      "Loading required package: zoo\n",
      "\n",
      "\n",
      "Attaching package: ‘zoo’\n",
      "\n",
      "\n",
      "The following objects are masked from ‘package:base’:\n",
      "\n",
      "    as.Date, as.Date.numeric\n",
      "\n",
      "\n",
      "Loading required package: lubridate\n",
      "\n",
      "\n",
      "Attaching package: ‘lubridate’\n",
      "\n",
      "\n",
      "The following object is masked from ‘package:base’:\n",
      "\n",
      "    date\n",
      "\n",
      "\n"
     ]
    },
    {
     "data": {
      "text/plain": [
       "[1] ‘2.19.2’"
      ]
     },
     "metadata": {},
     "output_type": "display_data"
    },
    {
     "data": {
      "text/plain": [
       "[1] ‘2.21.0.1’"
      ]
     },
     "metadata": {},
     "output_type": "display_data"
    },
    {
     "data": {
      "text/html": [
       "'2.19.1'"
      ],
      "text/latex": [
       "'2.19.1'"
      ],
      "text/markdown": [
       "'2.19.1'"
      ],
      "text/plain": [
       "[1] \"2.19.1\""
      ]
     },
     "metadata": {},
     "output_type": "display_data"
    }
   ],
   "source": [
    "libraries = c(\"dplyr\",\"magrittr\",\"tidyr\",\"ggplot2\",\"rstan\",\"readxl\")\n",
    "for(x in libraries) { library(x,character.only=TRUE,warn.conflicts=FALSE,quietly=TRUE) }\n",
    "\n",
    "require(zoo)\n",
    "require(lubridate)\n",
    "\n",
    "base_sz = 12 # base_size parameter\n",
    "theme_set(theme_bw())\n",
    "\n",
    "'%&%' = function(x,y) paste0(x,y)\n",
    "\n",
    "options(mc.cores = parallel::detectCores())\n",
    "rstan_options(auto_write = TRUE)\n",
    "\n",
    "packageVersion(\"rstan\")\n",
    "packageVersion(\"StanHeaders\")\n",
    "rstan::stan_version()"
   ]
  },
  {
   "cell_type": "markdown",
   "metadata": {},
   "source": [
    "# <font color=\"purple\">Preprocessing of the data</font>\n",
    "\n",
    "Done in a different *Rscript*"
   ]
  },
  {
   "cell_type": "code",
   "execution_count": 34,
   "metadata": {},
   "outputs": [
    {
     "data": {
      "text/html": [
       "'Rscript prepare_data.R 2019-12-09 2020-01-24'"
      ],
      "text/latex": [
       "'Rscript prepare\\_data.R 2019-12-09 2020-01-24'"
      ],
      "text/markdown": [
       "'Rscript prepare_data.R 2019-12-09 2020-01-24'"
      ],
      "text/plain": [
       "[1] \"Rscript prepare_data.R 2019-12-09 2020-01-24\""
      ]
     },
     "metadata": {},
     "output_type": "display_data"
    }
   ],
   "source": [
    "### day zero\n",
    "t0_str = \"2019-12-09\"\n",
    "t0 = as.Date(t0_str)\n",
    "\n",
    "#### Cut-off time for our analysis\n",
    "CUTOFF_DATE_str = \"2020-01-24\"\n",
    "CUTOFF_DATE = as.Date(CUTOFF_DATE_str)\n",
    "\n",
    "system(\"mkdir -p data_tmp\")\n",
    "system(paste(\"Rscript prepare_data.R ./data_tmp\", t0_str, CUTOFF_DATE_str, sep=\" \"))\n",
    "paste(\"Rscript prepare_data.R\", t0_str, CUTOFF_DATE_str, sep=\" \")"
   ]
  },
  {
   "cell_type": "code",
   "execution_count": 16,
   "metadata": {},
   "outputs": [],
   "source": [
    "df = read.table(\"data_tmp/data.csv\", sep=\",\", header=TRUE)\n",
    "df_onset2report = read.table(\"data_tmp/data_onset2report.csv\", sep=\",\", header=TRUE)"
   ]
  },
  {
   "cell_type": "markdown",
   "metadata": {},
   "source": [
    "# <font color=\"maroon\">Stan part</font>"
   ]
  },
  {
   "cell_type": "code",
   "execution_count": 17,
   "metadata": {},
   "outputs": [],
   "source": [
    "## main dir for Stan simulations\n",
    "standirname = \"stan-sims\"\n",
    "dir.create(standirname, showWarnings = FALSE)"
   ]
  },
  {
   "cell_type": "markdown",
   "metadata": {},
   "source": [
    "# <font color=\"green\">Fit of the time delay b/w illness onset and confirmation (reporting) to Gamma distribution</font>\n",
    "\n",
    "## <font color=\"orange\">Main dir for Stan simulations</font>"
   ]
  },
  {
   "cell_type": "code",
   "execution_count": 18,
   "metadata": {},
   "outputs": [],
   "source": [
    "dirOnsetToReport = standirname %&% \"/OnsetToReport\"\n",
    "unlink(dirOnsetToReport, recursive=T)\n",
    "dir.create(dirOnsetToReport)"
   ]
  },
  {
   "cell_type": "code",
   "execution_count": 19,
   "metadata": {},
   "outputs": [
    {
     "data": {
      "text/html": [
       "<table>\n",
       "<caption>A data.frame: 15 × 7</caption>\n",
       "<thead>\n",
       "\t<tr><th scope=col>Onset</th><th scope=col>distUpper</th><th scope=col>dist</th><th scope=col>onset_left</th><th scope=col>onset_right</th><th scope=col>report_left</th><th scope=col>report_right</th></tr>\n",
       "\t<tr><th scope=col>&lt;fct&gt;</th><th scope=col>&lt;int&gt;</th><th scope=col>&lt;int&gt;</th><th scope=col>&lt;dbl&gt;</th><th scope=col>&lt;dbl&gt;</th><th scope=col>&lt;int&gt;</th><th scope=col>&lt;dbl&gt;</th></tr>\n",
       "</thead>\n",
       "<tbody>\n",
       "\t<tr><td>2020-01-03</td><td>22</td><td>13</td><td>0</td><td>1</td><td>13</td><td>14</td></tr>\n",
       "\t<tr><td>2020-01-05</td><td>20</td><td> 8</td><td>0</td><td>1</td><td> 8</td><td> 9</td></tr>\n",
       "\t<tr><td>2020-01-18</td><td> 7</td><td> 2</td><td>0</td><td>1</td><td> 2</td><td> 3</td></tr>\n",
       "\t<tr><td>2020-01-15</td><td>10</td><td> 6</td><td>0</td><td>1</td><td> 6</td><td> 7</td></tr>\n",
       "\t<tr><td>2020-01-17</td><td> 8</td><td> 6</td><td>0</td><td>1</td><td> 6</td><td> 7</td></tr>\n",
       "\t<tr><td>2020-01-20</td><td> 5</td><td> 3</td><td>0</td><td>1</td><td> 3</td><td> 4</td></tr>\n",
       "\t<tr><td>2020-01-14</td><td>11</td><td>10</td><td>0</td><td>1</td><td>10</td><td>11</td></tr>\n",
       "\t<tr><td>2020-01-21</td><td> 4</td><td> 2</td><td>0</td><td>1</td><td> 2</td><td> 3</td></tr>\n",
       "\t<tr><td>2020-01-10</td><td>15</td><td>14</td><td>0</td><td>1</td><td>14</td><td>15</td></tr>\n",
       "\t<tr><td>2020-01-21</td><td> 4</td><td> 3</td><td>0</td><td>1</td><td> 3</td><td> 4</td></tr>\n",
       "\t<tr><td>2020-01-23</td><td> 2</td><td> 1</td><td>0</td><td>1</td><td> 1</td><td> 2</td></tr>\n",
       "\t<tr><td>2020-01-22</td><td> 3</td><td> 2</td><td>0</td><td>1</td><td> 2</td><td> 3</td></tr>\n",
       "\t<tr><td>2020-01-16</td><td> 9</td><td> 8</td><td>0</td><td>1</td><td> 8</td><td> 9</td></tr>\n",
       "\t<tr><td>2020-01-23</td><td> 2</td><td> 1</td><td>0</td><td>1</td><td> 1</td><td> 2</td></tr>\n",
       "\t<tr><td>2020-01-23</td><td> 2</td><td> 1</td><td>0</td><td>1</td><td> 1</td><td> 2</td></tr>\n",
       "</tbody>\n",
       "</table>\n"
      ],
      "text/latex": [
       "A data.frame: 15 × 7\n",
       "\\begin{tabular}{lllllll}\n",
       " Onset & distUpper & dist & onset\\_left & onset\\_right & report\\_left & report\\_right\\\\\n",
       " <fct> & <int> & <int> & <dbl> & <dbl> & <int> & <dbl>\\\\\n",
       "\\hline\n",
       "\t 2020-01-03 & 22 & 13 & 0 & 1 & 13 & 14\\\\\n",
       "\t 2020-01-05 & 20 &  8 & 0 & 1 &  8 &  9\\\\\n",
       "\t 2020-01-18 &  7 &  2 & 0 & 1 &  2 &  3\\\\\n",
       "\t 2020-01-15 & 10 &  6 & 0 & 1 &  6 &  7\\\\\n",
       "\t 2020-01-17 &  8 &  6 & 0 & 1 &  6 &  7\\\\\n",
       "\t 2020-01-20 &  5 &  3 & 0 & 1 &  3 &  4\\\\\n",
       "\t 2020-01-14 & 11 & 10 & 0 & 1 & 10 & 11\\\\\n",
       "\t 2020-01-21 &  4 &  2 & 0 & 1 &  2 &  3\\\\\n",
       "\t 2020-01-10 & 15 & 14 & 0 & 1 & 14 & 15\\\\\n",
       "\t 2020-01-21 &  4 &  3 & 0 & 1 &  3 &  4\\\\\n",
       "\t 2020-01-23 &  2 &  1 & 0 & 1 &  1 &  2\\\\\n",
       "\t 2020-01-22 &  3 &  2 & 0 & 1 &  2 &  3\\\\\n",
       "\t 2020-01-16 &  9 &  8 & 0 & 1 &  8 &  9\\\\\n",
       "\t 2020-01-23 &  2 &  1 & 0 & 1 &  1 &  2\\\\\n",
       "\t 2020-01-23 &  2 &  1 & 0 & 1 &  1 &  2\\\\\n",
       "\\end{tabular}\n"
      ],
      "text/markdown": [
       "\n",
       "A data.frame: 15 × 7\n",
       "\n",
       "| Onset &lt;fct&gt; | distUpper &lt;int&gt; | dist &lt;int&gt; | onset_left &lt;dbl&gt; | onset_right &lt;dbl&gt; | report_left &lt;int&gt; | report_right &lt;dbl&gt; |\n",
       "|---|---|---|---|---|---|---|\n",
       "| 2020-01-03 | 22 | 13 | 0 | 1 | 13 | 14 |\n",
       "| 2020-01-05 | 20 |  8 | 0 | 1 |  8 |  9 |\n",
       "| 2020-01-18 |  7 |  2 | 0 | 1 |  2 |  3 |\n",
       "| 2020-01-15 | 10 |  6 | 0 | 1 |  6 |  7 |\n",
       "| 2020-01-17 |  8 |  6 | 0 | 1 |  6 |  7 |\n",
       "| 2020-01-20 |  5 |  3 | 0 | 1 |  3 |  4 |\n",
       "| 2020-01-14 | 11 | 10 | 0 | 1 | 10 | 11 |\n",
       "| 2020-01-21 |  4 |  2 | 0 | 1 |  2 |  3 |\n",
       "| 2020-01-10 | 15 | 14 | 0 | 1 | 14 | 15 |\n",
       "| 2020-01-21 |  4 |  3 | 0 | 1 |  3 |  4 |\n",
       "| 2020-01-23 |  2 |  1 | 0 | 1 |  1 |  2 |\n",
       "| 2020-01-22 |  3 |  2 | 0 | 1 |  2 |  3 |\n",
       "| 2020-01-16 |  9 |  8 | 0 | 1 |  8 |  9 |\n",
       "| 2020-01-23 |  2 |  1 | 0 | 1 |  1 |  2 |\n",
       "| 2020-01-23 |  2 |  1 | 0 | 1 |  1 |  2 |\n",
       "\n"
      ],
      "text/plain": [
       "   Onset      distUpper dist onset_left onset_right report_left report_right\n",
       "1  2020-01-03 22        13   0          1           13          14          \n",
       "2  2020-01-05 20         8   0          1            8           9          \n",
       "3  2020-01-18  7         2   0          1            2           3          \n",
       "4  2020-01-15 10         6   0          1            6           7          \n",
       "5  2020-01-17  8         6   0          1            6           7          \n",
       "6  2020-01-20  5         3   0          1            3           4          \n",
       "7  2020-01-14 11        10   0          1           10          11          \n",
       "8  2020-01-21  4         2   0          1            2           3          \n",
       "9  2020-01-10 15        14   0          1           14          15          \n",
       "10 2020-01-21  4         3   0          1            3           4          \n",
       "11 2020-01-23  2         1   0          1            1           2          \n",
       "12 2020-01-22  3         2   0          1            2           3          \n",
       "13 2020-01-16  9         8   0          1            8           9          \n",
       "14 2020-01-23  2         1   0          1            1           2          \n",
       "15 2020-01-23  2         1   0          1            1           2          "
      ]
     },
     "metadata": {},
     "output_type": "display_data"
    }
   ],
   "source": [
    "df_onset2report %<>% mutate(onset_left = 0, onset_right = 1, report_left = dist, report_right = dist+1)\n",
    "df_onset2report"
   ]
  },
  {
   "cell_type": "markdown",
   "metadata": {},
   "source": [
    "## <font color=\"orange\">Dumping data</font>"
   ]
  },
  {
   "cell_type": "code",
   "execution_count": 20,
   "metadata": {},
   "outputs": [],
   "source": [
    "N = nrow(df_onset2report)\n",
    "onset_left = df_onset2report$onset_left\n",
    "onset_right = df_onset2report$onset_right\n",
    "report_left = df_onset2report$report_left\n",
    "report_right = df_onset2report$report_right\n",
    "upper_bound = df_onset2report$distUpper + 1\n",
    "stan_rdump(c('onset_left', 'onset_right', 'report_left', 'report_right', 'upper_bound', 'N'), file=dirOnsetToReport%&%\"/Data.R\") "
   ]
  },
  {
   "cell_type": "markdown",
   "metadata": {},
   "source": [
    "## <font color=\"orange\">Dumping initial conditions</font>"
   ]
  },
  {
   "cell_type": "code",
   "execution_count": 21,
   "metadata": {},
   "outputs": [],
   "source": [
    "shapeOnsetToReport = 4.0\n",
    "invscaleOnsetToReport = 1.0\n",
    "onset_raw = rep(.5, N)\n",
    "report_raw = rep(.5, N)\n",
    "stan_rdump(c('shapeOnsetToReport', 'invscaleOnsetToReport', 'onset_raw', 'report_raw'), file=dirOnsetToReport%&%\"/Init.R\")   "
   ]
  },
  {
   "cell_type": "markdown",
   "metadata": {},
   "source": [
    "## <font color=\"orange\">Stan program</font>"
   ]
  },
  {
   "cell_type": "code",
   "execution_count": 22,
   "metadata": {},
   "outputs": [],
   "source": [
    "numsamples = 5000\n",
    "numwarmup = 10000"
   ]
  },
  {
   "cell_type": "code",
   "execution_count": 23,
   "metadata": {},
   "outputs": [],
   "source": [
    "\"data {\n",
    "    int<lower = 0> N; // number of records\n",
    "    real<lower = 0> onset_left[N];\n",
    "    real<lower = 0> onset_right[N];\n",
    "    real<lower = 0> report_left[N];\n",
    "    real<lower = 0> report_right[N];\n",
    "    real<lower = 0> upper_bound[N];\n",
    "}\n",
    "\n",
    "transformed data {\n",
    "    int X_i[0];\n",
    "}\n",
    "\n",
    "parameters {\n",
    "    real<lower = 0> shapeOnsetToReport;\n",
    "    real<lower = 0> invscaleOnsetToReport;\n",
    "\n",
    "    real<lower = 0, upper = 1> onset_raw[N];\n",
    "    real<lower = 0, upper = 1> report_raw[N];\n",
    "}\n",
    "\n",
    "transformed parameters {\n",
    "    real meanOnsetToReport = shapeOnsetToReport/invscaleOnsetToReport;\n",
    "    real sdOnsetToReport = sqrt(shapeOnsetToReport)/invscaleOnsetToReport;\n",
    "\n",
    "    real<lower = min(onset_left), upper = max(onset_right)> onset[N];\n",
    "    real<lower = min(report_left), upper = max(report_right)> report[N];\n",
    "    real<lower = 0> t[N];\n",
    "    \n",
    "    for (k in 1:N) {\n",
    "        onset[k] = onset_left[k] + (onset_right[k]-onset_left[k])*onset_raw[k];\n",
    "        report[k] = report_left[k] + (report_right[k]-report_left[k])*report_raw[k];\n",
    "        t[k] = report[k] - onset[k];\n",
    "    }\n",
    "}\n",
    "\n",
    "model {\n",
    "    shapeOnsetToReport ~ std_normal();\n",
    "    invscaleOnsetToReport ~ cauchy(0, 5.0);\n",
    "\n",
    "    for (k in 1:N) \n",
    "        target += gamma_lpdf(t[k] | shapeOnsetToReport, invscaleOnsetToReport);\n",
    "}\" %>% cat(file=dirOnsetToReport %&% \"/fit.stan\", sep=\"\", fill=TRUE)\n",
    "\n",
    "standistribdir = \"../../../CmdStan\"\n",
    "stanscriptdir = \"../Hokkaido_Wuhan_CFR_2020/scripts/Andrei/\"%&%dirOnsetToReport\n",
    "## bash file\n",
    "\"#!/bin/bash\n",
    "cwd=$(pwd)\n",
    "cd \"%&%standistribdir%&%\"\n",
    "make -j6 \"%&%stanscriptdir%&%\"/fit\n",
    "cd \"%&%stanscriptdir%&%\"\n",
    "mkdir -p diagnostics\n",
    "for i in {1..5}\n",
    "do\n",
    "    echo Running ${i}\n",
    "    SEEDNUMBER=$((12345+$i))\n",
    "    ./fit \\\\\n",
    "        method=sample num_samples=\"%&%numsamples%&%\" num_warmup=\"%&%numwarmup%&%\" save_warmup=0 \\\\\n",
    "            adapt delta=0.85 \\\\\n",
    "            algorithm=hmc \\\\\n",
    "                engine=nuts \\\\\n",
    "        random seed=${SEEDNUMBER} \\\\\n",
    "        id=$i \\\\\n",
    "        data file=Data.R \\\\\n",
    "        init=Init.R \\\\\n",
    "        output file=trace-$i.csv \\\\\n",
    "            diagnostic_file=diagnostics/diagnostics-$i.csv > diagnostics/output-$i.txt &\n",
    "done\n",
    "echo Finished sampling haha!\" %>% cat(file=dirOnsetToReport%&%\"/fit.sh\", sep=\"\", fill=TRUE)"
   ]
  },
  {
   "cell_type": "code",
   "execution_count": 24,
   "metadata": {},
   "outputs": [
    {
     "data": {
      "text/html": [
       "<style>\n",
       ".list-inline {list-style: none; margin:0; padding: 0}\n",
       ".list-inline>li {display: inline-block}\n",
       ".list-inline>li:not(:last-child)::after {content: \"\\00b7\"; padding: 0 .5ex}\n",
       "</style>\n",
       "<ol class=list-inline><li>''</li><li>'--- Translating Stan model to C++ code ---'</li><li><span style=white-space:pre-wrap>'bin/stanc  --o=../Hokkaido_Wuhan_CFR_2020/scripts/Andrei/stan-sims/OnsetToReport/fit.hpp ../Hokkaido_Wuhan_CFR_2020/scripts/Andrei/stan-sims/OnsetToReport/fit.stan'</span></li><li><span style=white-space:pre-wrap>'mpicxx -fvisibility-inlines-hidden -std=c++17 -fmessage-length=0 -march=nocona -mtune=haswell -ftree-vectorize -fPIC -fstack-protector-strong -fno-plt -O2 -ffunction-sections -pipe -isystem /home/aakhmetz/anaconda3/include -std=c++1y -D_REENTRANT -Wno-sign-compare    -Wno-delete-non-virtual-dtor  -I stan/lib/stan_math/lib/tbb_2019_U8/include -O3 -I src -I stan/src -I lib/rapidjson_1.1.0/ -I stan/lib/stan_math/ -I stan/lib/stan_math/lib/eigen_3.3.3 -I stan/lib/stan_math/lib/boost_1.72.0 -I stan/lib/stan_math/lib/sundials_4.1.0/include -DNDEBUG -D_FORTIFY_SOURCE=2 -O2 -isystem /home/aakhmetz/anaconda3/include    -DBOOST_DISABLE_ASSERTS   -DSTAN_MPI   -c -MT ../Hokkaido_Wuhan_CFR_2020/scripts/Andrei/stan-sims/OnsetToReport/fit.o -MT ../Hokkaido_Wuhan_CFR_2020/scripts/Andrei/stan-sims/OnsetToReport/fit -include ../Hokkaido_Wuhan_CFR_2020/scripts/Andrei/stan-sims/OnsetToReport/fit.hpp -include src/cmdstan/main.cpp -MM -E -MG -MP -MF ../Hokkaido_Wuhan_CFR_2020/scripts/Andrei/stan-sims/OnsetToReport/fit.d ../Hokkaido_Wuhan_CFR_2020/scripts/Andrei/stan-sims/OnsetToReport/fit.hpp'</span></li><li>''</li><li>'--- Compiling, linking C++ code ---'</li><li><span style=white-space:pre-wrap>'mpicxx -fvisibility-inlines-hidden -std=c++17 -fmessage-length=0 -march=nocona -mtune=haswell -ftree-vectorize -fPIC -fstack-protector-strong -fno-plt -O2 -ffunction-sections -pipe -isystem /home/aakhmetz/anaconda3/include -std=c++1y -D_REENTRANT -Wno-sign-compare    -Wno-delete-non-virtual-dtor  -I stan/lib/stan_math/lib/tbb_2019_U8/include -O3 -I src -I stan/src -I lib/rapidjson_1.1.0/ -I stan/lib/stan_math/ -I stan/lib/stan_math/lib/eigen_3.3.3 -I stan/lib/stan_math/lib/boost_1.72.0 -I stan/lib/stan_math/lib/sundials_4.1.0/include -DNDEBUG -D_FORTIFY_SOURCE=2 -O2 -isystem /home/aakhmetz/anaconda3/include    -DBOOST_DISABLE_ASSERTS   -DSTAN_MPI   -c  -x c++ -o ../Hokkaido_Wuhan_CFR_2020/scripts/Andrei/stan-sims/OnsetToReport/fit.o ../Hokkaido_Wuhan_CFR_2020/scripts/Andrei/stan-sims/OnsetToReport/fit.hpp'</span></li><li><span style=white-space:pre-wrap>'mpicxx -fvisibility-inlines-hidden -std=c++17 -fmessage-length=0 -march=nocona -mtune=haswell -ftree-vectorize -fPIC -fstack-protector-strong -fno-plt -O2 -ffunction-sections -pipe -isystem /home/aakhmetz/anaconda3/include -std=c++1y -D_REENTRANT -Wno-sign-compare    -Wno-delete-non-virtual-dtor  -I stan/lib/stan_math/lib/tbb_2019_U8/include -O3 -I src -I stan/src -I lib/rapidjson_1.1.0/ -I stan/lib/stan_math/ -I stan/lib/stan_math/lib/eigen_3.3.3 -I stan/lib/stan_math/lib/boost_1.72.0 -I stan/lib/stan_math/lib/sundials_4.1.0/include -DNDEBUG -D_FORTIFY_SOURCE=2 -O2 -isystem /home/aakhmetz/anaconda3/include    -DBOOST_DISABLE_ASSERTS   -DSTAN_MPI  -Wl,-O2 -Wl,--sort-common -Wl,--as-needed -Wl,-z,relro -Wl,-z,now -Wl,--disable-new-dtags -Wl,--gc-sections -Wl,-rpath,/home/aakhmetz/anaconda3/lib -Wl,-rpath-link,/home/aakhmetz/anaconda3/lib -L/home/aakhmetz/anaconda3/lib       -Wl,-L,\"/home/aakhmetz/Dropbox/CmdStan/stan/lib/stan_math/lib/boost_1.72.0/stage/lib\" -Wl,-rpath,\"/home/aakhmetz/Dropbox/CmdStan/stan/lib/stan_math/lib/boost_1.72.0/stage/lib\" -Wl,-L,\"/home/aakhmetz/Dropbox/CmdStan/stan/lib/stan_math/lib/tbb\" -Wl,-rpath,\"/home/aakhmetz/Dropbox/CmdStan/stan/lib/stan_math/lib/tbb\"  ../Hokkaido_Wuhan_CFR_2020/scripts/Andrei/stan-sims/OnsetToReport/fit.o src/cmdstan/main.o         stan/lib/stan_math/lib/sundials_4.1.0/lib/libsundials_nvecserial.a stan/lib/stan_math/lib/sundials_4.1.0/lib/libsundials_cvodes.a stan/lib/stan_math/lib/sundials_4.1.0/lib/libsundials_idas.a stan/lib/stan_math/lib/sundials_4.1.0/lib/libsundials_kinsol.a stan/lib/stan_math/lib/boost_1.72.0/stage/lib/libboost_serialization.so stan/lib/stan_math/lib/boost_1.72.0/stage/lib/libboost_mpi.so stan/lib/stan_math/stan/math/prim/functor/mpi_cluster_inst.o stan/lib/stan_math/lib/tbb/libtbb.so.2 -o ../Hokkaido_Wuhan_CFR_2020/scripts/Andrei/stan-sims/OnsetToReport/fit'</span></li><li>'Running 1'</li><li>'Running 2'</li><li>'Running 3'</li><li>'Running 4'</li><li>'Running 5'</li><li>'Finished sampling haha!'</li></ol>\n"
      ],
      "text/latex": [
       "\\begin{enumerate*}\n",
       "\\item ''\n",
       "\\item '--- Translating Stan model to C++ code ---'\n",
       "\\item 'bin/stanc  --o=../Hokkaido\\_Wuhan\\_CFR\\_2020/scripts/Andrei/stan-sims/OnsetToReport/fit.hpp ../Hokkaido\\_Wuhan\\_CFR\\_2020/scripts/Andrei/stan-sims/OnsetToReport/fit.stan'\n",
       "\\item 'mpicxx -fvisibility-inlines-hidden -std=c++17 -fmessage-length=0 -march=nocona -mtune=haswell -ftree-vectorize -fPIC -fstack-protector-strong -fno-plt -O2 -ffunction-sections -pipe -isystem /home/aakhmetz/anaconda3/include -std=c++1y -D\\_REENTRANT -Wno-sign-compare    -Wno-delete-non-virtual-dtor  -I stan/lib/stan\\_math/lib/tbb\\_2019\\_U8/include -O3 -I src -I stan/src -I lib/rapidjson\\_1.1.0/ -I stan/lib/stan\\_math/ -I stan/lib/stan\\_math/lib/eigen\\_3.3.3 -I stan/lib/stan\\_math/lib/boost\\_1.72.0 -I stan/lib/stan\\_math/lib/sundials\\_4.1.0/include -DNDEBUG -D\\_FORTIFY\\_SOURCE=2 -O2 -isystem /home/aakhmetz/anaconda3/include    -DBOOST\\_DISABLE\\_ASSERTS   -DSTAN\\_MPI   -c -MT ../Hokkaido\\_Wuhan\\_CFR\\_2020/scripts/Andrei/stan-sims/OnsetToReport/fit.o -MT ../Hokkaido\\_Wuhan\\_CFR\\_2020/scripts/Andrei/stan-sims/OnsetToReport/fit -include ../Hokkaido\\_Wuhan\\_CFR\\_2020/scripts/Andrei/stan-sims/OnsetToReport/fit.hpp -include src/cmdstan/main.cpp -MM -E -MG -MP -MF ../Hokkaido\\_Wuhan\\_CFR\\_2020/scripts/Andrei/stan-sims/OnsetToReport/fit.d ../Hokkaido\\_Wuhan\\_CFR\\_2020/scripts/Andrei/stan-sims/OnsetToReport/fit.hpp'\n",
       "\\item ''\n",
       "\\item '--- Compiling, linking C++ code ---'\n",
       "\\item 'mpicxx -fvisibility-inlines-hidden -std=c++17 -fmessage-length=0 -march=nocona -mtune=haswell -ftree-vectorize -fPIC -fstack-protector-strong -fno-plt -O2 -ffunction-sections -pipe -isystem /home/aakhmetz/anaconda3/include -std=c++1y -D\\_REENTRANT -Wno-sign-compare    -Wno-delete-non-virtual-dtor  -I stan/lib/stan\\_math/lib/tbb\\_2019\\_U8/include -O3 -I src -I stan/src -I lib/rapidjson\\_1.1.0/ -I stan/lib/stan\\_math/ -I stan/lib/stan\\_math/lib/eigen\\_3.3.3 -I stan/lib/stan\\_math/lib/boost\\_1.72.0 -I stan/lib/stan\\_math/lib/sundials\\_4.1.0/include -DNDEBUG -D\\_FORTIFY\\_SOURCE=2 -O2 -isystem /home/aakhmetz/anaconda3/include    -DBOOST\\_DISABLE\\_ASSERTS   -DSTAN\\_MPI   -c  -x c++ -o ../Hokkaido\\_Wuhan\\_CFR\\_2020/scripts/Andrei/stan-sims/OnsetToReport/fit.o ../Hokkaido\\_Wuhan\\_CFR\\_2020/scripts/Andrei/stan-sims/OnsetToReport/fit.hpp'\n",
       "\\item 'mpicxx -fvisibility-inlines-hidden -std=c++17 -fmessage-length=0 -march=nocona -mtune=haswell -ftree-vectorize -fPIC -fstack-protector-strong -fno-plt -O2 -ffunction-sections -pipe -isystem /home/aakhmetz/anaconda3/include -std=c++1y -D\\_REENTRANT -Wno-sign-compare    -Wno-delete-non-virtual-dtor  -I stan/lib/stan\\_math/lib/tbb\\_2019\\_U8/include -O3 -I src -I stan/src -I lib/rapidjson\\_1.1.0/ -I stan/lib/stan\\_math/ -I stan/lib/stan\\_math/lib/eigen\\_3.3.3 -I stan/lib/stan\\_math/lib/boost\\_1.72.0 -I stan/lib/stan\\_math/lib/sundials\\_4.1.0/include -DNDEBUG -D\\_FORTIFY\\_SOURCE=2 -O2 -isystem /home/aakhmetz/anaconda3/include    -DBOOST\\_DISABLE\\_ASSERTS   -DSTAN\\_MPI  -Wl,-O2 -Wl,--sort-common -Wl,--as-needed -Wl,-z,relro -Wl,-z,now -Wl,--disable-new-dtags -Wl,--gc-sections -Wl,-rpath,/home/aakhmetz/anaconda3/lib -Wl,-rpath-link,/home/aakhmetz/anaconda3/lib -L/home/aakhmetz/anaconda3/lib       -Wl,-L,\"/home/aakhmetz/Dropbox/CmdStan/stan/lib/stan\\_math/lib/boost\\_1.72.0/stage/lib\" -Wl,-rpath,\"/home/aakhmetz/Dropbox/CmdStan/stan/lib/stan\\_math/lib/boost\\_1.72.0/stage/lib\" -Wl,-L,\"/home/aakhmetz/Dropbox/CmdStan/stan/lib/stan\\_math/lib/tbb\" -Wl,-rpath,\"/home/aakhmetz/Dropbox/CmdStan/stan/lib/stan\\_math/lib/tbb\"  ../Hokkaido\\_Wuhan\\_CFR\\_2020/scripts/Andrei/stan-sims/OnsetToReport/fit.o src/cmdstan/main.o         stan/lib/stan\\_math/lib/sundials\\_4.1.0/lib/libsundials\\_nvecserial.a stan/lib/stan\\_math/lib/sundials\\_4.1.0/lib/libsundials\\_cvodes.a stan/lib/stan\\_math/lib/sundials\\_4.1.0/lib/libsundials\\_idas.a stan/lib/stan\\_math/lib/sundials\\_4.1.0/lib/libsundials\\_kinsol.a stan/lib/stan\\_math/lib/boost\\_1.72.0/stage/lib/libboost\\_serialization.so stan/lib/stan\\_math/lib/boost\\_1.72.0/stage/lib/libboost\\_mpi.so stan/lib/stan\\_math/stan/math/prim/functor/mpi\\_cluster\\_inst.o stan/lib/stan\\_math/lib/tbb/libtbb.so.2 -o ../Hokkaido\\_Wuhan\\_CFR\\_2020/scripts/Andrei/stan-sims/OnsetToReport/fit'\n",
       "\\item 'Running 1'\n",
       "\\item 'Running 2'\n",
       "\\item 'Running 3'\n",
       "\\item 'Running 4'\n",
       "\\item 'Running 5'\n",
       "\\item 'Finished sampling haha!'\n",
       "\\end{enumerate*}\n"
      ],
      "text/markdown": [
       "1. ''\n",
       "2. '--- Translating Stan model to C++ code ---'\n",
       "3. <span style=white-space:pre-wrap>'bin/stanc  --o=../Hokkaido_Wuhan_CFR_2020/scripts/Andrei/stan-sims/OnsetToReport/fit.hpp ../Hokkaido_Wuhan_CFR_2020/scripts/Andrei/stan-sims/OnsetToReport/fit.stan'</span>\n",
       "4. <span style=white-space:pre-wrap>'mpicxx -fvisibility-inlines-hidden -std=c++17 -fmessage-length=0 -march=nocona -mtune=haswell -ftree-vectorize -fPIC -fstack-protector-strong -fno-plt -O2 -ffunction-sections -pipe -isystem /home/aakhmetz/anaconda3/include -std=c++1y -D_REENTRANT -Wno-sign-compare    -Wno-delete-non-virtual-dtor  -I stan/lib/stan_math/lib/tbb_2019_U8/include -O3 -I src -I stan/src -I lib/rapidjson_1.1.0/ -I stan/lib/stan_math/ -I stan/lib/stan_math/lib/eigen_3.3.3 -I stan/lib/stan_math/lib/boost_1.72.0 -I stan/lib/stan_math/lib/sundials_4.1.0/include -DNDEBUG -D_FORTIFY_SOURCE=2 -O2 -isystem /home/aakhmetz/anaconda3/include    -DBOOST_DISABLE_ASSERTS   -DSTAN_MPI   -c -MT ../Hokkaido_Wuhan_CFR_2020/scripts/Andrei/stan-sims/OnsetToReport/fit.o -MT ../Hokkaido_Wuhan_CFR_2020/scripts/Andrei/stan-sims/OnsetToReport/fit -include ../Hokkaido_Wuhan_CFR_2020/scripts/Andrei/stan-sims/OnsetToReport/fit.hpp -include src/cmdstan/main.cpp -MM -E -MG -MP -MF ../Hokkaido_Wuhan_CFR_2020/scripts/Andrei/stan-sims/OnsetToReport/fit.d ../Hokkaido_Wuhan_CFR_2020/scripts/Andrei/stan-sims/OnsetToReport/fit.hpp'</span>\n",
       "5. ''\n",
       "6. '--- Compiling, linking C++ code ---'\n",
       "7. <span style=white-space:pre-wrap>'mpicxx -fvisibility-inlines-hidden -std=c++17 -fmessage-length=0 -march=nocona -mtune=haswell -ftree-vectorize -fPIC -fstack-protector-strong -fno-plt -O2 -ffunction-sections -pipe -isystem /home/aakhmetz/anaconda3/include -std=c++1y -D_REENTRANT -Wno-sign-compare    -Wno-delete-non-virtual-dtor  -I stan/lib/stan_math/lib/tbb_2019_U8/include -O3 -I src -I stan/src -I lib/rapidjson_1.1.0/ -I stan/lib/stan_math/ -I stan/lib/stan_math/lib/eigen_3.3.3 -I stan/lib/stan_math/lib/boost_1.72.0 -I stan/lib/stan_math/lib/sundials_4.1.0/include -DNDEBUG -D_FORTIFY_SOURCE=2 -O2 -isystem /home/aakhmetz/anaconda3/include    -DBOOST_DISABLE_ASSERTS   -DSTAN_MPI   -c  -x c++ -o ../Hokkaido_Wuhan_CFR_2020/scripts/Andrei/stan-sims/OnsetToReport/fit.o ../Hokkaido_Wuhan_CFR_2020/scripts/Andrei/stan-sims/OnsetToReport/fit.hpp'</span>\n",
       "8. <span style=white-space:pre-wrap>'mpicxx -fvisibility-inlines-hidden -std=c++17 -fmessage-length=0 -march=nocona -mtune=haswell -ftree-vectorize -fPIC -fstack-protector-strong -fno-plt -O2 -ffunction-sections -pipe -isystem /home/aakhmetz/anaconda3/include -std=c++1y -D_REENTRANT -Wno-sign-compare    -Wno-delete-non-virtual-dtor  -I stan/lib/stan_math/lib/tbb_2019_U8/include -O3 -I src -I stan/src -I lib/rapidjson_1.1.0/ -I stan/lib/stan_math/ -I stan/lib/stan_math/lib/eigen_3.3.3 -I stan/lib/stan_math/lib/boost_1.72.0 -I stan/lib/stan_math/lib/sundials_4.1.0/include -DNDEBUG -D_FORTIFY_SOURCE=2 -O2 -isystem /home/aakhmetz/anaconda3/include    -DBOOST_DISABLE_ASSERTS   -DSTAN_MPI  -Wl,-O2 -Wl,--sort-common -Wl,--as-needed -Wl,-z,relro -Wl,-z,now -Wl,--disable-new-dtags -Wl,--gc-sections -Wl,-rpath,/home/aakhmetz/anaconda3/lib -Wl,-rpath-link,/home/aakhmetz/anaconda3/lib -L/home/aakhmetz/anaconda3/lib       -Wl,-L,\"/home/aakhmetz/Dropbox/CmdStan/stan/lib/stan_math/lib/boost_1.72.0/stage/lib\" -Wl,-rpath,\"/home/aakhmetz/Dropbox/CmdStan/stan/lib/stan_math/lib/boost_1.72.0/stage/lib\" -Wl,-L,\"/home/aakhmetz/Dropbox/CmdStan/stan/lib/stan_math/lib/tbb\" -Wl,-rpath,\"/home/aakhmetz/Dropbox/CmdStan/stan/lib/stan_math/lib/tbb\"  ../Hokkaido_Wuhan_CFR_2020/scripts/Andrei/stan-sims/OnsetToReport/fit.o src/cmdstan/main.o         stan/lib/stan_math/lib/sundials_4.1.0/lib/libsundials_nvecserial.a stan/lib/stan_math/lib/sundials_4.1.0/lib/libsundials_cvodes.a stan/lib/stan_math/lib/sundials_4.1.0/lib/libsundials_idas.a stan/lib/stan_math/lib/sundials_4.1.0/lib/libsundials_kinsol.a stan/lib/stan_math/lib/boost_1.72.0/stage/lib/libboost_serialization.so stan/lib/stan_math/lib/boost_1.72.0/stage/lib/libboost_mpi.so stan/lib/stan_math/stan/math/prim/functor/mpi_cluster_inst.o stan/lib/stan_math/lib/tbb/libtbb.so.2 -o ../Hokkaido_Wuhan_CFR_2020/scripts/Andrei/stan-sims/OnsetToReport/fit'</span>\n",
       "9. 'Running 1'\n",
       "10. 'Running 2'\n",
       "11. 'Running 3'\n",
       "12. 'Running 4'\n",
       "13. 'Running 5'\n",
       "14. 'Finished sampling haha!'\n",
       "\n",
       "\n"
      ],
      "text/plain": [
       " [1] \"\"                                                                                                                                                                                                                                                                                                                                                                                                                                                                                                                                                                                                                                                                                                                                                                                                                                                                                                                                                                                                                                                                                                                                                                                                                                                                                                                                                                                                                                                                                                                                                                                                                                                                                                                                                                                                                                                                                                                                            \n",
       " [2] \"--- Translating Stan model to C++ code ---\"                                                                                                                                                                                                                                                                                                                                                                                                                                                                                                                                                                                                                                                                                                                                                                                                                                                                                                                                                                                                                                                                                                                                                                                                                                                                                                                                                                                                                                                                                                                                                                                                                                                                                                                                                                                                                                                                                                  \n",
       " [3] \"bin/stanc  --o=../Hokkaido_Wuhan_CFR_2020/scripts/Andrei/stan-sims/OnsetToReport/fit.hpp ../Hokkaido_Wuhan_CFR_2020/scripts/Andrei/stan-sims/OnsetToReport/fit.stan\"                                                                                                                                                                                                                                                                                                                                                                                                                                                                                                                                                                                                                                                                                                                                                                                                                                                                                                                                                                                                                                                                                                                                                                                                                                                                                                                                                                                                                                                                                                                                                                                                                                                                                                                                                                         \n",
       " [4] \"mpicxx -fvisibility-inlines-hidden -std=c++17 -fmessage-length=0 -march=nocona -mtune=haswell -ftree-vectorize -fPIC -fstack-protector-strong -fno-plt -O2 -ffunction-sections -pipe -isystem /home/aakhmetz/anaconda3/include -std=c++1y -D_REENTRANT -Wno-sign-compare    -Wno-delete-non-virtual-dtor  -I stan/lib/stan_math/lib/tbb_2019_U8/include -O3 -I src -I stan/src -I lib/rapidjson_1.1.0/ -I stan/lib/stan_math/ -I stan/lib/stan_math/lib/eigen_3.3.3 -I stan/lib/stan_math/lib/boost_1.72.0 -I stan/lib/stan_math/lib/sundials_4.1.0/include -DNDEBUG -D_FORTIFY_SOURCE=2 -O2 -isystem /home/aakhmetz/anaconda3/include    -DBOOST_DISABLE_ASSERTS   -DSTAN_MPI   -c -MT ../Hokkaido_Wuhan_CFR_2020/scripts/Andrei/stan-sims/OnsetToReport/fit.o -MT ../Hokkaido_Wuhan_CFR_2020/scripts/Andrei/stan-sims/OnsetToReport/fit -include ../Hokkaido_Wuhan_CFR_2020/scripts/Andrei/stan-sims/OnsetToReport/fit.hpp -include src/cmdstan/main.cpp -MM -E -MG -MP -MF ../Hokkaido_Wuhan_CFR_2020/scripts/Andrei/stan-sims/OnsetToReport/fit.d ../Hokkaido_Wuhan_CFR_2020/scripts/Andrei/stan-sims/OnsetToReport/fit.hpp\"                                                                                                                                                                                                                                                                                                                                                                                                                                                                                                                                                                                                                                                                                                                                                                                                             \n",
       " [5] \"\"                                                                                                                                                                                                                                                                                                                                                                                                                                                                                                                                                                                                                                                                                                                                                                                                                                                                                                                                                                                                                                                                                                                                                                                                                                                                                                                                                                                                                                                                                                                                                                                                                                                                                                                                                                                                                                                                                                                                            \n",
       " [6] \"--- Compiling, linking C++ code ---\"                                                                                                                                                                                                                                                                                                                                                                                                                                                                                                                                                                                                                                                                                                                                                                                                                                                                                                                                                                                                                                                                                                                                                                                                                                                                                                                                                                                                                                                                                                                                                                                                                                                                                                                                                                                                                                                                                                         \n",
       " [7] \"mpicxx -fvisibility-inlines-hidden -std=c++17 -fmessage-length=0 -march=nocona -mtune=haswell -ftree-vectorize -fPIC -fstack-protector-strong -fno-plt -O2 -ffunction-sections -pipe -isystem /home/aakhmetz/anaconda3/include -std=c++1y -D_REENTRANT -Wno-sign-compare    -Wno-delete-non-virtual-dtor  -I stan/lib/stan_math/lib/tbb_2019_U8/include -O3 -I src -I stan/src -I lib/rapidjson_1.1.0/ -I stan/lib/stan_math/ -I stan/lib/stan_math/lib/eigen_3.3.3 -I stan/lib/stan_math/lib/boost_1.72.0 -I stan/lib/stan_math/lib/sundials_4.1.0/include -DNDEBUG -D_FORTIFY_SOURCE=2 -O2 -isystem /home/aakhmetz/anaconda3/include    -DBOOST_DISABLE_ASSERTS   -DSTAN_MPI   -c  -x c++ -o ../Hokkaido_Wuhan_CFR_2020/scripts/Andrei/stan-sims/OnsetToReport/fit.o ../Hokkaido_Wuhan_CFR_2020/scripts/Andrei/stan-sims/OnsetToReport/fit.hpp\"                                                                                                                                                                                                                                                                                                                                                                                                                                                                                                                                                                                                                                                                                                                                                                                                                                                                                                                                                                                                                                                                                            \n",
       " [8] \"mpicxx -fvisibility-inlines-hidden -std=c++17 -fmessage-length=0 -march=nocona -mtune=haswell -ftree-vectorize -fPIC -fstack-protector-strong -fno-plt -O2 -ffunction-sections -pipe -isystem /home/aakhmetz/anaconda3/include -std=c++1y -D_REENTRANT -Wno-sign-compare    -Wno-delete-non-virtual-dtor  -I stan/lib/stan_math/lib/tbb_2019_U8/include -O3 -I src -I stan/src -I lib/rapidjson_1.1.0/ -I stan/lib/stan_math/ -I stan/lib/stan_math/lib/eigen_3.3.3 -I stan/lib/stan_math/lib/boost_1.72.0 -I stan/lib/stan_math/lib/sundials_4.1.0/include -DNDEBUG -D_FORTIFY_SOURCE=2 -O2 -isystem /home/aakhmetz/anaconda3/include    -DBOOST_DISABLE_ASSERTS   -DSTAN_MPI  -Wl,-O2 -Wl,--sort-common -Wl,--as-needed -Wl,-z,relro -Wl,-z,now -Wl,--disable-new-dtags -Wl,--gc-sections -Wl,-rpath,/home/aakhmetz/anaconda3/lib -Wl,-rpath-link,/home/aakhmetz/anaconda3/lib -L/home/aakhmetz/anaconda3/lib       -Wl,-L,\\\"/home/aakhmetz/Dropbox/CmdStan/stan/lib/stan_math/lib/boost_1.72.0/stage/lib\\\" -Wl,-rpath,\\\"/home/aakhmetz/Dropbox/CmdStan/stan/lib/stan_math/lib/boost_1.72.0/stage/lib\\\" -Wl,-L,\\\"/home/aakhmetz/Dropbox/CmdStan/stan/lib/stan_math/lib/tbb\\\" -Wl,-rpath,\\\"/home/aakhmetz/Dropbox/CmdStan/stan/lib/stan_math/lib/tbb\\\"  ../Hokkaido_Wuhan_CFR_2020/scripts/Andrei/stan-sims/OnsetToReport/fit.o src/cmdstan/main.o         stan/lib/stan_math/lib/sundials_4.1.0/lib/libsundials_nvecserial.a stan/lib/stan_math/lib/sundials_4.1.0/lib/libsundials_cvodes.a stan/lib/stan_math/lib/sundials_4.1.0/lib/libsundials_idas.a stan/lib/stan_math/lib/sundials_4.1.0/lib/libsundials_kinsol.a stan/lib/stan_math/lib/boost_1.72.0/stage/lib/libboost_serialization.so stan/lib/stan_math/lib/boost_1.72.0/stage/lib/libboost_mpi.so stan/lib/stan_math/stan/math/prim/functor/mpi_cluster_inst.o stan/lib/stan_math/lib/tbb/libtbb.so.2 -o ../Hokkaido_Wuhan_CFR_2020/scripts/Andrei/stan-sims/OnsetToReport/fit\"\n",
       " [9] \"Running 1\"                                                                                                                                                                                                                                                                                                                                                                                                                                                                                                                                                                                                                                                                                                                                                                                                                                                                                                                                                                                                                                                                                                                                                                                                                                                                                                                                                                                                                                                                                                                                                                                                                                                                                                                                                                                                                                                                                                                                   \n",
       "[10] \"Running 2\"                                                                                                                                                                                                                                                                                                                                                                                                                                                                                                                                                                                                                                                                                                                                                                                                                                                                                                                                                                                                                                                                                                                                                                                                                                                                                                                                                                                                                                                                                                                                                                                                                                                                                                                                                                                                                                                                                                                                   \n",
       "[11] \"Running 3\"                                                                                                                                                                                                                                                                                                                                                                                                                                                                                                                                                                                                                                                                                                                                                                                                                                                                                                                                                                                                                                                                                                                                                                                                                                                                                                                                                                                                                                                                                                                                                                                                                                                                                                                                                                                                                                                                                                                                   \n",
       "[12] \"Running 4\"                                                                                                                                                                                                                                                                                                                                                                                                                                                                                                                                                                                                                                                                                                                                                                                                                                                                                                                                                                                                                                                                                                                                                                                                                                                                                                                                                                                                                                                                                                                                                                                                                                                                                                                                                                                                                                                                                                                                   \n",
       "[13] \"Running 5\"                                                                                                                                                                                                                                                                                                                                                                                                                                                                                                                                                                                                                                                                                                                                                                                                                                                                                                                                                                                                                                                                                                                                                                                                                                                                                                                                                                                                                                                                                                                                                                                                                                                                                                                                                                                                                                                                                                                                   \n",
       "[14] \"Finished sampling haha!\"                                                                                                                                                                                                                                                                                                                                                                                                                                                                                                                                                                                                                                                                                                                                                                                                                                                                                                                                                                                                                                                                                                                                                                                                                                                                                                                                                                                                                                                                                                                                                                                                                                                                                                                                                                                                                                                                                                                     "
      ]
     },
     "metadata": {},
     "output_type": "display_data"
    }
   ],
   "source": [
    "## running the bash script\n",
    "system(\"bash \"%&%dirOnsetToReport%&%\"/fit.sh\", intern = TRUE)"
   ]
  },
  {
   "cell_type": "code",
   "execution_count": 30,
   "metadata": {},
   "outputs": [
    {
     "data": {
      "text/html": [
       "'Done: see ./stan-sims/OnsetToReport/summary.csv'"
      ],
      "text/latex": [
       "'Done: see ./stan-sims/OnsetToReport/summary.csv'"
      ],
      "text/markdown": [
       "'Done: see ./stan-sims/OnsetToReport/summary.csv'"
      ],
      "text/plain": [
       "[1] \"Done: see ./stan-sims/OnsetToReport/summary.csv\""
      ]
     },
     "metadata": {},
     "output_type": "display_data"
    },
    {
     "data": {
      "text/html": [],
      "text/latex": [],
      "text/markdown": [],
      "text/plain": [
       "character(0)"
      ]
     },
     "metadata": {},
     "output_type": "display_data"
    },
    {
     "data": {
      "text/html": [
       "<table>\n",
       "<caption>A data.frame: 4 × 15</caption>\n",
       "<thead>\n",
       "\t<tr><th scope=col>var</th><th scope=col>time</th><th scope=col>mean</th><th scope=col>hpd2.5</th><th scope=col>hpd25</th><th scope=col>hpd75</th><th scope=col>hpd97.5</th><th scope=col>q2.5</th><th scope=col>q25</th><th scope=col>median</th><th scope=col>q75</th><th scope=col>q97.5</th><th scope=col>ess_bulk</th><th scope=col>ess_tail</th><th scope=col>r_hat</th></tr>\n",
       "\t<tr><th scope=col>&lt;chr&gt;</th><th scope=col>&lt;int&gt;</th><th scope=col>&lt;dbl&gt;</th><th scope=col>&lt;dbl&gt;</th><th scope=col>&lt;dbl&gt;</th><th scope=col>&lt;dbl&gt;</th><th scope=col>&lt;dbl&gt;</th><th scope=col>&lt;dbl&gt;</th><th scope=col>&lt;dbl&gt;</th><th scope=col>&lt;dbl&gt;</th><th scope=col>&lt;dbl&gt;</th><th scope=col>&lt;dbl&gt;</th><th scope=col>&lt;dbl&gt;</th><th scope=col>&lt;dbl&gt;</th><th scope=col>&lt;dbl&gt;</th></tr>\n",
       "</thead>\n",
       "<tbody>\n",
       "\t<tr><td>shapeOnsetToReport   </td><td>NA</td><td>1.357</td><td>0.636</td><td>0.980</td><td>1.503</td><td>2.147</td><td>0.687</td><td>1.071</td><td>1.319</td><td>1.603</td><td>2.231</td><td>27959</td><td>18403</td><td>1</td></tr>\n",
       "\t<tr><td>invscaleOnsetToReport</td><td>NA</td><td>0.267</td><td>0.100</td><td>0.172</td><td>0.295</td><td>0.457</td><td>0.113</td><td>0.199</td><td>0.258</td><td>0.326</td><td>0.478</td><td>28974</td><td>18661</td><td>1</td></tr>\n",
       "\t<tr><td>meanOnsetToReport    </td><td>NA</td><td>5.325</td><td>3.185</td><td>4.195</td><td>5.696</td><td>7.926</td><td>3.384</td><td>4.438</td><td>5.150</td><td>5.989</td><td>8.318</td><td>28162</td><td>18543</td><td>1</td></tr>\n",
       "\t<tr><td>sdOnsetToReport      </td><td>NA</td><td>4.725</td><td>2.619</td><td>3.351</td><td>4.811</td><td>7.466</td><td>2.875</td><td>3.770</td><td>4.454</td><td>5.361</td><td>8.184</td><td>29219</td><td>20221</td><td>1</td></tr>\n",
       "</tbody>\n",
       "</table>\n"
      ],
      "text/latex": [
       "A data.frame: 4 × 15\n",
       "\\begin{tabular}{lllllllllllllll}\n",
       " var & time & mean & hpd2.5 & hpd25 & hpd75 & hpd97.5 & q2.5 & q25 & median & q75 & q97.5 & ess\\_bulk & ess\\_tail & r\\_hat\\\\\n",
       " <chr> & <int> & <dbl> & <dbl> & <dbl> & <dbl> & <dbl> & <dbl> & <dbl> & <dbl> & <dbl> & <dbl> & <dbl> & <dbl> & <dbl>\\\\\n",
       "\\hline\n",
       "\t shapeOnsetToReport    & NA & 1.357 & 0.636 & 0.980 & 1.503 & 2.147 & 0.687 & 1.071 & 1.319 & 1.603 & 2.231 & 27959 & 18403 & 1\\\\\n",
       "\t invscaleOnsetToReport & NA & 0.267 & 0.100 & 0.172 & 0.295 & 0.457 & 0.113 & 0.199 & 0.258 & 0.326 & 0.478 & 28974 & 18661 & 1\\\\\n",
       "\t meanOnsetToReport     & NA & 5.325 & 3.185 & 4.195 & 5.696 & 7.926 & 3.384 & 4.438 & 5.150 & 5.989 & 8.318 & 28162 & 18543 & 1\\\\\n",
       "\t sdOnsetToReport       & NA & 4.725 & 2.619 & 3.351 & 4.811 & 7.466 & 2.875 & 3.770 & 4.454 & 5.361 & 8.184 & 29219 & 20221 & 1\\\\\n",
       "\\end{tabular}\n"
      ],
      "text/markdown": [
       "\n",
       "A data.frame: 4 × 15\n",
       "\n",
       "| var &lt;chr&gt; | time &lt;int&gt; | mean &lt;dbl&gt; | hpd2.5 &lt;dbl&gt; | hpd25 &lt;dbl&gt; | hpd75 &lt;dbl&gt; | hpd97.5 &lt;dbl&gt; | q2.5 &lt;dbl&gt; | q25 &lt;dbl&gt; | median &lt;dbl&gt; | q75 &lt;dbl&gt; | q97.5 &lt;dbl&gt; | ess_bulk &lt;dbl&gt; | ess_tail &lt;dbl&gt; | r_hat &lt;dbl&gt; |\n",
       "|---|---|---|---|---|---|---|---|---|---|---|---|---|---|---|\n",
       "| shapeOnsetToReport    | NA | 1.357 | 0.636 | 0.980 | 1.503 | 2.147 | 0.687 | 1.071 | 1.319 | 1.603 | 2.231 | 27959 | 18403 | 1 |\n",
       "| invscaleOnsetToReport | NA | 0.267 | 0.100 | 0.172 | 0.295 | 0.457 | 0.113 | 0.199 | 0.258 | 0.326 | 0.478 | 28974 | 18661 | 1 |\n",
       "| meanOnsetToReport     | NA | 5.325 | 3.185 | 4.195 | 5.696 | 7.926 | 3.384 | 4.438 | 5.150 | 5.989 | 8.318 | 28162 | 18543 | 1 |\n",
       "| sdOnsetToReport       | NA | 4.725 | 2.619 | 3.351 | 4.811 | 7.466 | 2.875 | 3.770 | 4.454 | 5.361 | 8.184 | 29219 | 20221 | 1 |\n",
       "\n"
      ],
      "text/plain": [
       "  var                   time mean  hpd2.5 hpd25 hpd75 hpd97.5 q2.5  q25  \n",
       "1 shapeOnsetToReport    NA   1.357 0.636  0.980 1.503 2.147   0.687 1.071\n",
       "2 invscaleOnsetToReport NA   0.267 0.100  0.172 0.295 0.457   0.113 0.199\n",
       "3 meanOnsetToReport     NA   5.325 3.185  4.195 5.696 7.926   3.384 4.438\n",
       "4 sdOnsetToReport       NA   4.725 2.619  3.351 4.811 7.466   2.875 3.770\n",
       "  median q75   q97.5 ess_bulk ess_tail r_hat\n",
       "1 1.319  1.603 2.231 27959    18403    1    \n",
       "2 0.258  0.326 0.478 28974    18661    1    \n",
       "3 5.150  5.989 8.318 28162    18543    1    \n",
       "4 4.454  5.361 8.184 29219    20221    1    "
      ]
     },
     "metadata": {},
     "output_type": "display_data"
    }
   ],
   "source": [
    "## postprocessing\n",
    "system(\"python postprocessing_with_arviz.py ./\"%&%dirOnsetToReport%&%\" summary.csv\", intern = TRUE)\n",
    "system(\"cp ./\"%&%dirOnsetToReport%&%\"/summary.csv ./stan-sims/OnsetToReport.csv\", intern = TRUE)\n",
    "\n",
    "res_OnsetToReport = read.table('stan-sims/OnsetToReport.csv', sep=',', header=TRUE, stringsAsFactors=FALSE) %>% as.data.frame\n",
    "res_OnsetToReport %>% filter(is.na(time))"
   ]
  },
  {
   "cell_type": "markdown",
   "metadata": {},
   "source": [
    "# <font color=\"green\">Main module</font>"
   ]
  },
  {
   "cell_type": "code",
   "execution_count": 31,
   "metadata": {},
   "outputs": [],
   "source": [
    "## main dir for Stan simulations\n",
    "dirCFR = standirname %&% \"/CFR\"\n",
    "unlink(dirCFR, recursive=T)\n",
    "dir.create(dirCFR)"
   ]
  },
  {
   "cell_type": "code",
   "execution_count": 36,
   "metadata": {},
   "outputs": [],
   "source": [
    "## Dumping data\n",
    "K = nrow(df)\n",
    "t = df$`time`\n",
    "time_firstcase_exports = df[df$exports>0,]$time[[1]]\n",
    "time_firstcase_deaths = df[df$deaths>0,]$time[[1]]\n",
    "Exportations = df$exports\n",
    "Deaths = df$deaths\n",
    "prob = df$prob_travel[[1]]\n",
    "meanDelayReport = res_OnsetToReport[res_OnsetToReport$var=='meanOnsetToReport', 'mean']\n",
    "sdDelayReport = res_OnsetToReport[res_OnsetToReport$var=='sdOnsetToReport', 'mean']\n",
    "uDeath = 0.216236387215998 #using Linton et al\n",
    "stan_rdump(c('K', 't', 'time_firstcase_exports', 'time_firstcase_deaths', 'Exportations', 'Deaths', 'prob', \n",
    "             'meanDelayReport', 'sdDelayReport', 'uDeath'), file=dirCFR%&%\"/Data.R\") \n",
    "\n",
    "## Dumping initial conditions\n",
    "r_std = 0.0\n",
    "CFR_std = rep(0.0, K-time_firstcase_deaths+1)\n",
    "stan_rdump(c('r_std', 'CFR_std'), file=dirCFR%&%\"/Init.R\") \n",
    "\n",
    "## Stan program\n",
    "\"data {\n",
    "    int<lower = 0> K; // number of time points\n",
    "    int<lower = 0> t[K]; // time points\n",
    "    int<lower = 0> time_firstcase_exports;\n",
    "    int<lower = 0> time_firstcase_deaths;\n",
    "    real<lower = 0> Exportations[K]; // cumulative number of exportation events by day t\n",
    "    real<lower = 0> Deaths[K]; // cumulative number of death cases by day t\n",
    "    real<lower = 0, upper = 1> prob; // probability of travelling\n",
    "    \n",
    "    real<lower = 0> meanDelayReport;\n",
    "    real<lower = 0> sdDelayReport;\n",
    "    real<lower = 0> uDeath;\n",
    "}\n",
    "\n",
    "parameters {\n",
    "    real r_std;\n",
    "    real CFR_std[K-time_firstcase_deaths+1];\n",
    "}\n",
    "\n",
    "transformed parameters {\n",
    "    real<lower = 0> r = 0.1 + r_std*0.05;\n",
    "\n",
    "    real shapeDelayReport = (meanDelayReport/sdDelayReport)^2;\n",
    "    real uReport = (1.0 + r*meanDelayReport/shapeDelayReport)^(-shapeDelayReport);\n",
    "\n",
    "    real<lower = 0> Incidence[K];\n",
    "    real<lower = 0, upper = 1> CFR[K-time_firstcase_deaths+1];\n",
    "    real<lower = 0> ExpectedDeaths[K-time_firstcase_deaths+1];\n",
    "\n",
    "    for (k in 1:K) \n",
    "        Incidence[k] = (exp(r*t[k])-1.0)/r;\n",
    "\n",
    "    for (k in 1:(K-time_firstcase_deaths+1)) {\n",
    "        CFR[k] = 0.04 + CFR_std[k]*0.06;\n",
    "        ExpectedDeaths[k] = uDeath*Incidence[time_firstcase_deaths+k-1]*CFR[k];\n",
    "    }\n",
    "}\n",
    "\n",
    "model {\n",
    "    r_std ~ std_normal();\n",
    "    CFR_std ~ std_normal();\n",
    "\n",
    "    real shapeReport;\n",
    "    real invscaleReport;\n",
    "    real shapeDeath;\n",
    "    real invscaleDeath;\n",
    "\n",
    "    for (k in time_firstcase_exports:K) {\n",
    "        shapeReport = uReport*Incidence[k]*prob/(1.0-prob);\n",
    "        invscaleReport = 1.0/(1.0-prob);\n",
    "        target += gamma_lpdf(Exportations[k] | shapeReport, invscaleReport);\n",
    "    }\n",
    "\n",
    "    for (k in time_firstcase_deaths:K) {\n",
    "        shapeDeath = uDeath*Incidence[k]*CFR[k-time_firstcase_deaths+1]/(1.0-CFR[k-time_firstcase_deaths+1]);\n",
    "        invscaleDeath = 1.0/(1.0-CFR[k-time_firstcase_deaths+1]);\n",
    "        target += gamma_lpdf(Deaths[k] | shapeDeath, invscaleDeath);\n",
    "    }\n",
    "}\n",
    "\" %>% cat(file=dirCFR%&%\"/fit.stan\", sep=\"\", fill=TRUE)\n",
    "\n",
    "stanscriptdir = \"../Hokkaido_Wuhan_CFR_2020/scripts/Andrei/\"%&%standirname%&%\"/CFR\"\n",
    "## bash file\n",
    "\"#!/bin/bash\n",
    "cwd=$(pwd)\n",
    "rm \"%&%stanscriptdir%&%\"/fit\n",
    "cd \"%&%standistribdir%&%\"\n",
    "make -j4 \"%&%stanscriptdir%&%\"/fit\n",
    "cd \"%&%stanscriptdir%&%\"\n",
    "mkdir -p diagnostics\n",
    "for i in {1..5}\n",
    "do\n",
    "    echo Running ${i}\n",
    "    SEEDNUMBER=$((12345+$i))\n",
    "    ./fit \\\\\n",
    "        method=sample num_samples=\"%&%numsamples%&%\" num_warmup=\"%&%numwarmup%&%\" save_warmup=0 \\\\\n",
    "            adapt delta=0.85 \\\\\n",
    "            algorithm=hmc \\\\\n",
    "                engine=nuts \\\\\n",
    "        random seed=${SEEDNUMBER} \\\\\n",
    "        id=$i \\\\\n",
    "        data file=Data.R \\\\\n",
    "        init=Init.R \\\\\n",
    "        output file=trace-$i.csv \\\\\n",
    "            diagnostic_file=diagnostics/diagnostics-$i.csv > diagnostics/output-$i.txt &\n",
    "done\n",
    "echo Finished sampling haha!\n",
    "\" %>% cat(file=dirCFR%&%\"/fit.sh\", sep=\"\", fill=TRUE)"
   ]
  },
  {
   "cell_type": "code",
   "execution_count": 37,
   "metadata": {},
   "outputs": [
    {
     "data": {
      "text/html": [
       "<style>\n",
       ".list-inline {list-style: none; margin:0; padding: 0}\n",
       ".list-inline>li {display: inline-block}\n",
       ".list-inline>li:not(:last-child)::after {content: \"\\00b7\"; padding: 0 .5ex}\n",
       "</style>\n",
       "<ol class=list-inline><li>''</li><li>'--- Translating Stan model to C++ code ---'</li><li><span style=white-space:pre-wrap>'bin/stanc  --o=../Hokkaido_Wuhan_CFR_2020/scripts/Andrei/stan-sims/CFR/fit.hpp ../Hokkaido_Wuhan_CFR_2020/scripts/Andrei/stan-sims/CFR/fit.stan'</span></li><li><span style=white-space:pre-wrap>'mpicxx -fvisibility-inlines-hidden -std=c++17 -fmessage-length=0 -march=nocona -mtune=haswell -ftree-vectorize -fPIC -fstack-protector-strong -fno-plt -O2 -ffunction-sections -pipe -isystem /home/aakhmetz/anaconda3/include -std=c++1y -D_REENTRANT -Wno-sign-compare    -Wno-delete-non-virtual-dtor  -I stan/lib/stan_math/lib/tbb_2019_U8/include -O3 -I src -I stan/src -I lib/rapidjson_1.1.0/ -I stan/lib/stan_math/ -I stan/lib/stan_math/lib/eigen_3.3.3 -I stan/lib/stan_math/lib/boost_1.72.0 -I stan/lib/stan_math/lib/sundials_4.1.0/include -DNDEBUG -D_FORTIFY_SOURCE=2 -O2 -isystem /home/aakhmetz/anaconda3/include    -DBOOST_DISABLE_ASSERTS   -DSTAN_MPI   -c -MT ../Hokkaido_Wuhan_CFR_2020/scripts/Andrei/stan-sims/CFR/fit.o -MT ../Hokkaido_Wuhan_CFR_2020/scripts/Andrei/stan-sims/CFR/fit -include ../Hokkaido_Wuhan_CFR_2020/scripts/Andrei/stan-sims/CFR/fit.hpp -include src/cmdstan/main.cpp -MM -E -MG -MP -MF ../Hokkaido_Wuhan_CFR_2020/scripts/Andrei/stan-sims/CFR/fit.d ../Hokkaido_Wuhan_CFR_2020/scripts/Andrei/stan-sims/CFR/fit.hpp'</span></li><li>''</li><li>'--- Compiling, linking C++ code ---'</li><li><span style=white-space:pre-wrap>'mpicxx -fvisibility-inlines-hidden -std=c++17 -fmessage-length=0 -march=nocona -mtune=haswell -ftree-vectorize -fPIC -fstack-protector-strong -fno-plt -O2 -ffunction-sections -pipe -isystem /home/aakhmetz/anaconda3/include -std=c++1y -D_REENTRANT -Wno-sign-compare    -Wno-delete-non-virtual-dtor  -I stan/lib/stan_math/lib/tbb_2019_U8/include -O3 -I src -I stan/src -I lib/rapidjson_1.1.0/ -I stan/lib/stan_math/ -I stan/lib/stan_math/lib/eigen_3.3.3 -I stan/lib/stan_math/lib/boost_1.72.0 -I stan/lib/stan_math/lib/sundials_4.1.0/include -DNDEBUG -D_FORTIFY_SOURCE=2 -O2 -isystem /home/aakhmetz/anaconda3/include    -DBOOST_DISABLE_ASSERTS   -DSTAN_MPI   -c  -x c++ -o ../Hokkaido_Wuhan_CFR_2020/scripts/Andrei/stan-sims/CFR/fit.o ../Hokkaido_Wuhan_CFR_2020/scripts/Andrei/stan-sims/CFR/fit.hpp'</span></li><li><span style=white-space:pre-wrap>'mpicxx -fvisibility-inlines-hidden -std=c++17 -fmessage-length=0 -march=nocona -mtune=haswell -ftree-vectorize -fPIC -fstack-protector-strong -fno-plt -O2 -ffunction-sections -pipe -isystem /home/aakhmetz/anaconda3/include -std=c++1y -D_REENTRANT -Wno-sign-compare    -Wno-delete-non-virtual-dtor  -I stan/lib/stan_math/lib/tbb_2019_U8/include -O3 -I src -I stan/src -I lib/rapidjson_1.1.0/ -I stan/lib/stan_math/ -I stan/lib/stan_math/lib/eigen_3.3.3 -I stan/lib/stan_math/lib/boost_1.72.0 -I stan/lib/stan_math/lib/sundials_4.1.0/include -DNDEBUG -D_FORTIFY_SOURCE=2 -O2 -isystem /home/aakhmetz/anaconda3/include    -DBOOST_DISABLE_ASSERTS   -DSTAN_MPI  -Wl,-O2 -Wl,--sort-common -Wl,--as-needed -Wl,-z,relro -Wl,-z,now -Wl,--disable-new-dtags -Wl,--gc-sections -Wl,-rpath,/home/aakhmetz/anaconda3/lib -Wl,-rpath-link,/home/aakhmetz/anaconda3/lib -L/home/aakhmetz/anaconda3/lib       -Wl,-L,\"/home/aakhmetz/Dropbox/CmdStan/stan/lib/stan_math/lib/boost_1.72.0/stage/lib\" -Wl,-rpath,\"/home/aakhmetz/Dropbox/CmdStan/stan/lib/stan_math/lib/boost_1.72.0/stage/lib\" -Wl,-L,\"/home/aakhmetz/Dropbox/CmdStan/stan/lib/stan_math/lib/tbb\" -Wl,-rpath,\"/home/aakhmetz/Dropbox/CmdStan/stan/lib/stan_math/lib/tbb\"  ../Hokkaido_Wuhan_CFR_2020/scripts/Andrei/stan-sims/CFR/fit.o src/cmdstan/main.o         stan/lib/stan_math/lib/sundials_4.1.0/lib/libsundials_nvecserial.a stan/lib/stan_math/lib/sundials_4.1.0/lib/libsundials_cvodes.a stan/lib/stan_math/lib/sundials_4.1.0/lib/libsundials_idas.a stan/lib/stan_math/lib/sundials_4.1.0/lib/libsundials_kinsol.a stan/lib/stan_math/lib/boost_1.72.0/stage/lib/libboost_serialization.so stan/lib/stan_math/lib/boost_1.72.0/stage/lib/libboost_mpi.so stan/lib/stan_math/stan/math/prim/functor/mpi_cluster_inst.o stan/lib/stan_math/lib/tbb/libtbb.so.2 -o ../Hokkaido_Wuhan_CFR_2020/scripts/Andrei/stan-sims/CFR/fit'</span></li><li>'Running 1'</li><li>'Running 2'</li><li>'Running 3'</li><li>'Running 4'</li><li>'Running 5'</li><li>'Finished sampling haha!'</li></ol>\n"
      ],
      "text/latex": [
       "\\begin{enumerate*}\n",
       "\\item ''\n",
       "\\item '--- Translating Stan model to C++ code ---'\n",
       "\\item 'bin/stanc  --o=../Hokkaido\\_Wuhan\\_CFR\\_2020/scripts/Andrei/stan-sims/CFR/fit.hpp ../Hokkaido\\_Wuhan\\_CFR\\_2020/scripts/Andrei/stan-sims/CFR/fit.stan'\n",
       "\\item 'mpicxx -fvisibility-inlines-hidden -std=c++17 -fmessage-length=0 -march=nocona -mtune=haswell -ftree-vectorize -fPIC -fstack-protector-strong -fno-plt -O2 -ffunction-sections -pipe -isystem /home/aakhmetz/anaconda3/include -std=c++1y -D\\_REENTRANT -Wno-sign-compare    -Wno-delete-non-virtual-dtor  -I stan/lib/stan\\_math/lib/tbb\\_2019\\_U8/include -O3 -I src -I stan/src -I lib/rapidjson\\_1.1.0/ -I stan/lib/stan\\_math/ -I stan/lib/stan\\_math/lib/eigen\\_3.3.3 -I stan/lib/stan\\_math/lib/boost\\_1.72.0 -I stan/lib/stan\\_math/lib/sundials\\_4.1.0/include -DNDEBUG -D\\_FORTIFY\\_SOURCE=2 -O2 -isystem /home/aakhmetz/anaconda3/include    -DBOOST\\_DISABLE\\_ASSERTS   -DSTAN\\_MPI   -c -MT ../Hokkaido\\_Wuhan\\_CFR\\_2020/scripts/Andrei/stan-sims/CFR/fit.o -MT ../Hokkaido\\_Wuhan\\_CFR\\_2020/scripts/Andrei/stan-sims/CFR/fit -include ../Hokkaido\\_Wuhan\\_CFR\\_2020/scripts/Andrei/stan-sims/CFR/fit.hpp -include src/cmdstan/main.cpp -MM -E -MG -MP -MF ../Hokkaido\\_Wuhan\\_CFR\\_2020/scripts/Andrei/stan-sims/CFR/fit.d ../Hokkaido\\_Wuhan\\_CFR\\_2020/scripts/Andrei/stan-sims/CFR/fit.hpp'\n",
       "\\item ''\n",
       "\\item '--- Compiling, linking C++ code ---'\n",
       "\\item 'mpicxx -fvisibility-inlines-hidden -std=c++17 -fmessage-length=0 -march=nocona -mtune=haswell -ftree-vectorize -fPIC -fstack-protector-strong -fno-plt -O2 -ffunction-sections -pipe -isystem /home/aakhmetz/anaconda3/include -std=c++1y -D\\_REENTRANT -Wno-sign-compare    -Wno-delete-non-virtual-dtor  -I stan/lib/stan\\_math/lib/tbb\\_2019\\_U8/include -O3 -I src -I stan/src -I lib/rapidjson\\_1.1.0/ -I stan/lib/stan\\_math/ -I stan/lib/stan\\_math/lib/eigen\\_3.3.3 -I stan/lib/stan\\_math/lib/boost\\_1.72.0 -I stan/lib/stan\\_math/lib/sundials\\_4.1.0/include -DNDEBUG -D\\_FORTIFY\\_SOURCE=2 -O2 -isystem /home/aakhmetz/anaconda3/include    -DBOOST\\_DISABLE\\_ASSERTS   -DSTAN\\_MPI   -c  -x c++ -o ../Hokkaido\\_Wuhan\\_CFR\\_2020/scripts/Andrei/stan-sims/CFR/fit.o ../Hokkaido\\_Wuhan\\_CFR\\_2020/scripts/Andrei/stan-sims/CFR/fit.hpp'\n",
       "\\item 'mpicxx -fvisibility-inlines-hidden -std=c++17 -fmessage-length=0 -march=nocona -mtune=haswell -ftree-vectorize -fPIC -fstack-protector-strong -fno-plt -O2 -ffunction-sections -pipe -isystem /home/aakhmetz/anaconda3/include -std=c++1y -D\\_REENTRANT -Wno-sign-compare    -Wno-delete-non-virtual-dtor  -I stan/lib/stan\\_math/lib/tbb\\_2019\\_U8/include -O3 -I src -I stan/src -I lib/rapidjson\\_1.1.0/ -I stan/lib/stan\\_math/ -I stan/lib/stan\\_math/lib/eigen\\_3.3.3 -I stan/lib/stan\\_math/lib/boost\\_1.72.0 -I stan/lib/stan\\_math/lib/sundials\\_4.1.0/include -DNDEBUG -D\\_FORTIFY\\_SOURCE=2 -O2 -isystem /home/aakhmetz/anaconda3/include    -DBOOST\\_DISABLE\\_ASSERTS   -DSTAN\\_MPI  -Wl,-O2 -Wl,--sort-common -Wl,--as-needed -Wl,-z,relro -Wl,-z,now -Wl,--disable-new-dtags -Wl,--gc-sections -Wl,-rpath,/home/aakhmetz/anaconda3/lib -Wl,-rpath-link,/home/aakhmetz/anaconda3/lib -L/home/aakhmetz/anaconda3/lib       -Wl,-L,\"/home/aakhmetz/Dropbox/CmdStan/stan/lib/stan\\_math/lib/boost\\_1.72.0/stage/lib\" -Wl,-rpath,\"/home/aakhmetz/Dropbox/CmdStan/stan/lib/stan\\_math/lib/boost\\_1.72.0/stage/lib\" -Wl,-L,\"/home/aakhmetz/Dropbox/CmdStan/stan/lib/stan\\_math/lib/tbb\" -Wl,-rpath,\"/home/aakhmetz/Dropbox/CmdStan/stan/lib/stan\\_math/lib/tbb\"  ../Hokkaido\\_Wuhan\\_CFR\\_2020/scripts/Andrei/stan-sims/CFR/fit.o src/cmdstan/main.o         stan/lib/stan\\_math/lib/sundials\\_4.1.0/lib/libsundials\\_nvecserial.a stan/lib/stan\\_math/lib/sundials\\_4.1.0/lib/libsundials\\_cvodes.a stan/lib/stan\\_math/lib/sundials\\_4.1.0/lib/libsundials\\_idas.a stan/lib/stan\\_math/lib/sundials\\_4.1.0/lib/libsundials\\_kinsol.a stan/lib/stan\\_math/lib/boost\\_1.72.0/stage/lib/libboost\\_serialization.so stan/lib/stan\\_math/lib/boost\\_1.72.0/stage/lib/libboost\\_mpi.so stan/lib/stan\\_math/stan/math/prim/functor/mpi\\_cluster\\_inst.o stan/lib/stan\\_math/lib/tbb/libtbb.so.2 -o ../Hokkaido\\_Wuhan\\_CFR\\_2020/scripts/Andrei/stan-sims/CFR/fit'\n",
       "\\item 'Running 1'\n",
       "\\item 'Running 2'\n",
       "\\item 'Running 3'\n",
       "\\item 'Running 4'\n",
       "\\item 'Running 5'\n",
       "\\item 'Finished sampling haha!'\n",
       "\\end{enumerate*}\n"
      ],
      "text/markdown": [
       "1. ''\n",
       "2. '--- Translating Stan model to C++ code ---'\n",
       "3. <span style=white-space:pre-wrap>'bin/stanc  --o=../Hokkaido_Wuhan_CFR_2020/scripts/Andrei/stan-sims/CFR/fit.hpp ../Hokkaido_Wuhan_CFR_2020/scripts/Andrei/stan-sims/CFR/fit.stan'</span>\n",
       "4. <span style=white-space:pre-wrap>'mpicxx -fvisibility-inlines-hidden -std=c++17 -fmessage-length=0 -march=nocona -mtune=haswell -ftree-vectorize -fPIC -fstack-protector-strong -fno-plt -O2 -ffunction-sections -pipe -isystem /home/aakhmetz/anaconda3/include -std=c++1y -D_REENTRANT -Wno-sign-compare    -Wno-delete-non-virtual-dtor  -I stan/lib/stan_math/lib/tbb_2019_U8/include -O3 -I src -I stan/src -I lib/rapidjson_1.1.0/ -I stan/lib/stan_math/ -I stan/lib/stan_math/lib/eigen_3.3.3 -I stan/lib/stan_math/lib/boost_1.72.0 -I stan/lib/stan_math/lib/sundials_4.1.0/include -DNDEBUG -D_FORTIFY_SOURCE=2 -O2 -isystem /home/aakhmetz/anaconda3/include    -DBOOST_DISABLE_ASSERTS   -DSTAN_MPI   -c -MT ../Hokkaido_Wuhan_CFR_2020/scripts/Andrei/stan-sims/CFR/fit.o -MT ../Hokkaido_Wuhan_CFR_2020/scripts/Andrei/stan-sims/CFR/fit -include ../Hokkaido_Wuhan_CFR_2020/scripts/Andrei/stan-sims/CFR/fit.hpp -include src/cmdstan/main.cpp -MM -E -MG -MP -MF ../Hokkaido_Wuhan_CFR_2020/scripts/Andrei/stan-sims/CFR/fit.d ../Hokkaido_Wuhan_CFR_2020/scripts/Andrei/stan-sims/CFR/fit.hpp'</span>\n",
       "5. ''\n",
       "6. '--- Compiling, linking C++ code ---'\n",
       "7. <span style=white-space:pre-wrap>'mpicxx -fvisibility-inlines-hidden -std=c++17 -fmessage-length=0 -march=nocona -mtune=haswell -ftree-vectorize -fPIC -fstack-protector-strong -fno-plt -O2 -ffunction-sections -pipe -isystem /home/aakhmetz/anaconda3/include -std=c++1y -D_REENTRANT -Wno-sign-compare    -Wno-delete-non-virtual-dtor  -I stan/lib/stan_math/lib/tbb_2019_U8/include -O3 -I src -I stan/src -I lib/rapidjson_1.1.0/ -I stan/lib/stan_math/ -I stan/lib/stan_math/lib/eigen_3.3.3 -I stan/lib/stan_math/lib/boost_1.72.0 -I stan/lib/stan_math/lib/sundials_4.1.0/include -DNDEBUG -D_FORTIFY_SOURCE=2 -O2 -isystem /home/aakhmetz/anaconda3/include    -DBOOST_DISABLE_ASSERTS   -DSTAN_MPI   -c  -x c++ -o ../Hokkaido_Wuhan_CFR_2020/scripts/Andrei/stan-sims/CFR/fit.o ../Hokkaido_Wuhan_CFR_2020/scripts/Andrei/stan-sims/CFR/fit.hpp'</span>\n",
       "8. <span style=white-space:pre-wrap>'mpicxx -fvisibility-inlines-hidden -std=c++17 -fmessage-length=0 -march=nocona -mtune=haswell -ftree-vectorize -fPIC -fstack-protector-strong -fno-plt -O2 -ffunction-sections -pipe -isystem /home/aakhmetz/anaconda3/include -std=c++1y -D_REENTRANT -Wno-sign-compare    -Wno-delete-non-virtual-dtor  -I stan/lib/stan_math/lib/tbb_2019_U8/include -O3 -I src -I stan/src -I lib/rapidjson_1.1.0/ -I stan/lib/stan_math/ -I stan/lib/stan_math/lib/eigen_3.3.3 -I stan/lib/stan_math/lib/boost_1.72.0 -I stan/lib/stan_math/lib/sundials_4.1.0/include -DNDEBUG -D_FORTIFY_SOURCE=2 -O2 -isystem /home/aakhmetz/anaconda3/include    -DBOOST_DISABLE_ASSERTS   -DSTAN_MPI  -Wl,-O2 -Wl,--sort-common -Wl,--as-needed -Wl,-z,relro -Wl,-z,now -Wl,--disable-new-dtags -Wl,--gc-sections -Wl,-rpath,/home/aakhmetz/anaconda3/lib -Wl,-rpath-link,/home/aakhmetz/anaconda3/lib -L/home/aakhmetz/anaconda3/lib       -Wl,-L,\"/home/aakhmetz/Dropbox/CmdStan/stan/lib/stan_math/lib/boost_1.72.0/stage/lib\" -Wl,-rpath,\"/home/aakhmetz/Dropbox/CmdStan/stan/lib/stan_math/lib/boost_1.72.0/stage/lib\" -Wl,-L,\"/home/aakhmetz/Dropbox/CmdStan/stan/lib/stan_math/lib/tbb\" -Wl,-rpath,\"/home/aakhmetz/Dropbox/CmdStan/stan/lib/stan_math/lib/tbb\"  ../Hokkaido_Wuhan_CFR_2020/scripts/Andrei/stan-sims/CFR/fit.o src/cmdstan/main.o         stan/lib/stan_math/lib/sundials_4.1.0/lib/libsundials_nvecserial.a stan/lib/stan_math/lib/sundials_4.1.0/lib/libsundials_cvodes.a stan/lib/stan_math/lib/sundials_4.1.0/lib/libsundials_idas.a stan/lib/stan_math/lib/sundials_4.1.0/lib/libsundials_kinsol.a stan/lib/stan_math/lib/boost_1.72.0/stage/lib/libboost_serialization.so stan/lib/stan_math/lib/boost_1.72.0/stage/lib/libboost_mpi.so stan/lib/stan_math/stan/math/prim/functor/mpi_cluster_inst.o stan/lib/stan_math/lib/tbb/libtbb.so.2 -o ../Hokkaido_Wuhan_CFR_2020/scripts/Andrei/stan-sims/CFR/fit'</span>\n",
       "9. 'Running 1'\n",
       "10. 'Running 2'\n",
       "11. 'Running 3'\n",
       "12. 'Running 4'\n",
       "13. 'Running 5'\n",
       "14. 'Finished sampling haha!'\n",
       "\n",
       "\n"
      ],
      "text/plain": [
       " [1] \"\"                                                                                                                                                                                                                                                                                                                                                                                                                                                                                                                                                                                                                                                                                                                                                                                                                                                                                                                                                                                                                                                                                                                                                                                                                                                                                                                                                                                                                                                                                                                                                                                                                                                                                                                                                                                                                                                                                                                        \n",
       " [2] \"--- Translating Stan model to C++ code ---\"                                                                                                                                                                                                                                                                                                                                                                                                                                                                                                                                                                                                                                                                                                                                                                                                                                                                                                                                                                                                                                                                                                                                                                                                                                                                                                                                                                                                                                                                                                                                                                                                                                                                                                                                                                                                                                                                              \n",
       " [3] \"bin/stanc  --o=../Hokkaido_Wuhan_CFR_2020/scripts/Andrei/stan-sims/CFR/fit.hpp ../Hokkaido_Wuhan_CFR_2020/scripts/Andrei/stan-sims/CFR/fit.stan\"                                                                                                                                                                                                                                                                                                                                                                                                                                                                                                                                                                                                                                                                                                                                                                                                                                                                                                                                                                                                                                                                                                                                                                                                                                                                                                                                                                                                                                                                                                                                                                                                                                                                                                                                                                         \n",
       " [4] \"mpicxx -fvisibility-inlines-hidden -std=c++17 -fmessage-length=0 -march=nocona -mtune=haswell -ftree-vectorize -fPIC -fstack-protector-strong -fno-plt -O2 -ffunction-sections -pipe -isystem /home/aakhmetz/anaconda3/include -std=c++1y -D_REENTRANT -Wno-sign-compare    -Wno-delete-non-virtual-dtor  -I stan/lib/stan_math/lib/tbb_2019_U8/include -O3 -I src -I stan/src -I lib/rapidjson_1.1.0/ -I stan/lib/stan_math/ -I stan/lib/stan_math/lib/eigen_3.3.3 -I stan/lib/stan_math/lib/boost_1.72.0 -I stan/lib/stan_math/lib/sundials_4.1.0/include -DNDEBUG -D_FORTIFY_SOURCE=2 -O2 -isystem /home/aakhmetz/anaconda3/include    -DBOOST_DISABLE_ASSERTS   -DSTAN_MPI   -c -MT ../Hokkaido_Wuhan_CFR_2020/scripts/Andrei/stan-sims/CFR/fit.o -MT ../Hokkaido_Wuhan_CFR_2020/scripts/Andrei/stan-sims/CFR/fit -include ../Hokkaido_Wuhan_CFR_2020/scripts/Andrei/stan-sims/CFR/fit.hpp -include src/cmdstan/main.cpp -MM -E -MG -MP -MF ../Hokkaido_Wuhan_CFR_2020/scripts/Andrei/stan-sims/CFR/fit.d ../Hokkaido_Wuhan_CFR_2020/scripts/Andrei/stan-sims/CFR/fit.hpp\"                                                                                                                                                                                                                                                                                                                                                                                                                                                                                                                                                                                                                                                                                                                                                                                                                                           \n",
       " [5] \"\"                                                                                                                                                                                                                                                                                                                                                                                                                                                                                                                                                                                                                                                                                                                                                                                                                                                                                                                                                                                                                                                                                                                                                                                                                                                                                                                                                                                                                                                                                                                                                                                                                                                                                                                                                                                                                                                                                                                        \n",
       " [6] \"--- Compiling, linking C++ code ---\"                                                                                                                                                                                                                                                                                                                                                                                                                                                                                                                                                                                                                                                                                                                                                                                                                                                                                                                                                                                                                                                                                                                                                                                                                                                                                                                                                                                                                                                                                                                                                                                                                                                                                                                                                                                                                                                                                     \n",
       " [7] \"mpicxx -fvisibility-inlines-hidden -std=c++17 -fmessage-length=0 -march=nocona -mtune=haswell -ftree-vectorize -fPIC -fstack-protector-strong -fno-plt -O2 -ffunction-sections -pipe -isystem /home/aakhmetz/anaconda3/include -std=c++1y -D_REENTRANT -Wno-sign-compare    -Wno-delete-non-virtual-dtor  -I stan/lib/stan_math/lib/tbb_2019_U8/include -O3 -I src -I stan/src -I lib/rapidjson_1.1.0/ -I stan/lib/stan_math/ -I stan/lib/stan_math/lib/eigen_3.3.3 -I stan/lib/stan_math/lib/boost_1.72.0 -I stan/lib/stan_math/lib/sundials_4.1.0/include -DNDEBUG -D_FORTIFY_SOURCE=2 -O2 -isystem /home/aakhmetz/anaconda3/include    -DBOOST_DISABLE_ASSERTS   -DSTAN_MPI   -c  -x c++ -o ../Hokkaido_Wuhan_CFR_2020/scripts/Andrei/stan-sims/CFR/fit.o ../Hokkaido_Wuhan_CFR_2020/scripts/Andrei/stan-sims/CFR/fit.hpp\"                                                                                                                                                                                                                                                                                                                                                                                                                                                                                                                                                                                                                                                                                                                                                                                                                                                                                                                                                                                                                                                                                            \n",
       " [8] \"mpicxx -fvisibility-inlines-hidden -std=c++17 -fmessage-length=0 -march=nocona -mtune=haswell -ftree-vectorize -fPIC -fstack-protector-strong -fno-plt -O2 -ffunction-sections -pipe -isystem /home/aakhmetz/anaconda3/include -std=c++1y -D_REENTRANT -Wno-sign-compare    -Wno-delete-non-virtual-dtor  -I stan/lib/stan_math/lib/tbb_2019_U8/include -O3 -I src -I stan/src -I lib/rapidjson_1.1.0/ -I stan/lib/stan_math/ -I stan/lib/stan_math/lib/eigen_3.3.3 -I stan/lib/stan_math/lib/boost_1.72.0 -I stan/lib/stan_math/lib/sundials_4.1.0/include -DNDEBUG -D_FORTIFY_SOURCE=2 -O2 -isystem /home/aakhmetz/anaconda3/include    -DBOOST_DISABLE_ASSERTS   -DSTAN_MPI  -Wl,-O2 -Wl,--sort-common -Wl,--as-needed -Wl,-z,relro -Wl,-z,now -Wl,--disable-new-dtags -Wl,--gc-sections -Wl,-rpath,/home/aakhmetz/anaconda3/lib -Wl,-rpath-link,/home/aakhmetz/anaconda3/lib -L/home/aakhmetz/anaconda3/lib       -Wl,-L,\\\"/home/aakhmetz/Dropbox/CmdStan/stan/lib/stan_math/lib/boost_1.72.0/stage/lib\\\" -Wl,-rpath,\\\"/home/aakhmetz/Dropbox/CmdStan/stan/lib/stan_math/lib/boost_1.72.0/stage/lib\\\" -Wl,-L,\\\"/home/aakhmetz/Dropbox/CmdStan/stan/lib/stan_math/lib/tbb\\\" -Wl,-rpath,\\\"/home/aakhmetz/Dropbox/CmdStan/stan/lib/stan_math/lib/tbb\\\"  ../Hokkaido_Wuhan_CFR_2020/scripts/Andrei/stan-sims/CFR/fit.o src/cmdstan/main.o         stan/lib/stan_math/lib/sundials_4.1.0/lib/libsundials_nvecserial.a stan/lib/stan_math/lib/sundials_4.1.0/lib/libsundials_cvodes.a stan/lib/stan_math/lib/sundials_4.1.0/lib/libsundials_idas.a stan/lib/stan_math/lib/sundials_4.1.0/lib/libsundials_kinsol.a stan/lib/stan_math/lib/boost_1.72.0/stage/lib/libboost_serialization.so stan/lib/stan_math/lib/boost_1.72.0/stage/lib/libboost_mpi.so stan/lib/stan_math/stan/math/prim/functor/mpi_cluster_inst.o stan/lib/stan_math/lib/tbb/libtbb.so.2 -o ../Hokkaido_Wuhan_CFR_2020/scripts/Andrei/stan-sims/CFR/fit\"\n",
       " [9] \"Running 1\"                                                                                                                                                                                                                                                                                                                                                                                                                                                                                                                                                                                                                                                                                                                                                                                                                                                                                                                                                                                                                                                                                                                                                                                                                                                                                                                                                                                                                                                                                                                                                                                                                                                                                                                                                                                                                                                                                                               \n",
       "[10] \"Running 2\"                                                                                                                                                                                                                                                                                                                                                                                                                                                                                                                                                                                                                                                                                                                                                                                                                                                                                                                                                                                                                                                                                                                                                                                                                                                                                                                                                                                                                                                                                                                                                                                                                                                                                                                                                                                                                                                                                                               \n",
       "[11] \"Running 3\"                                                                                                                                                                                                                                                                                                                                                                                                                                                                                                                                                                                                                                                                                                                                                                                                                                                                                                                                                                                                                                                                                                                                                                                                                                                                                                                                                                                                                                                                                                                                                                                                                                                                                                                                                                                                                                                                                                               \n",
       "[12] \"Running 4\"                                                                                                                                                                                                                                                                                                                                                                                                                                                                                                                                                                                                                                                                                                                                                                                                                                                                                                                                                                                                                                                                                                                                                                                                                                                                                                                                                                                                                                                                                                                                                                                                                                                                                                                                                                                                                                                                                                               \n",
       "[13] \"Running 5\"                                                                                                                                                                                                                                                                                                                                                                                                                                                                                                                                                                                                                                                                                                                                                                                                                                                                                                                                                                                                                                                                                                                                                                                                                                                                                                                                                                                                                                                                                                                                                                                                                                                                                                                                                                                                                                                                                                               \n",
       "[14] \"Finished sampling haha!\"                                                                                                                                                                                                                                                                                                                                                                                                                                                                                                                                                                                                                                                                                                                                                                                                                                                                                                                                                                                                                                                                                                                                                                                                                                                                                                                                                                                                                                                                                                                                                                                                                                                                                                                                                                                                                                                                                                 "
      ]
     },
     "metadata": {},
     "output_type": "display_data"
    }
   ],
   "source": [
    "## running the bash script\n",
    "system(\"bash \"%&%dirCFR%&%\"/fit.sh\", intern = TRUE)"
   ]
  },
  {
   "cell_type": "code",
   "execution_count": 38,
   "metadata": {},
   "outputs": [
    {
     "data": {
      "text/html": [
       "'Done: see ./stan-sims/CFR/summary.csv'"
      ],
      "text/latex": [
       "'Done: see ./stan-sims/CFR/summary.csv'"
      ],
      "text/markdown": [
       "'Done: see ./stan-sims/CFR/summary.csv'"
      ],
      "text/plain": [
       "[1] \"Done: see ./stan-sims/CFR/summary.csv\""
      ]
     },
     "metadata": {},
     "output_type": "display_data"
    },
    {
     "data": {
      "text/html": [],
      "text/latex": [],
      "text/markdown": [],
      "text/plain": [
       "character(0)"
      ]
     },
     "metadata": {},
     "output_type": "display_data"
    }
   ],
   "source": [
    "system(\"time.sleep(15)\")\n",
    "## postprocessing\n",
    "system(\"python postprocessing_with_arviz.py ./stan-sims/CFR summary.csv\", intern = TRUE)\n",
    "system(\"cp ./stan-sims/CFR/summary.csv ./stan-sims/main.csv\", intern = TRUE)"
   ]
  },
  {
   "cell_type": "code",
   "execution_count": null,
   "metadata": {},
   "outputs": [],
   "source": []
  }
 ],
 "metadata": {
  "kernelspec": {
   "display_name": "R",
   "language": "R",
   "name": "ir"
  },
  "language_info": {
   "codemirror_mode": "r",
   "file_extension": ".r",
   "mimetype": "text/x-r-source",
   "name": "R",
   "pygments_lexer": "r",
   "version": "3.6.1"
  }
 },
 "nbformat": 4,
 "nbformat_minor": 4
}
